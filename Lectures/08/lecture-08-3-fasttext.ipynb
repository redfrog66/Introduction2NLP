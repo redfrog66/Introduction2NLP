{
 "metadata": {
  "language_info": {
   "codemirror_mode": {
    "name": "ipython",
    "version": 3
   },
   "file_extension": ".py",
   "mimetype": "text/x-python",
   "name": "python",
   "nbconvert_exporter": "python",
   "pygments_lexer": "ipython3",
   "version": "3.7.9-final"
  },
  "orig_nbformat": 2,
  "kernelspec": {
   "name": "python3",
   "display_name": "Python 3",
   "language": "python"
  }
 },
 "nbformat": 4,
 "nbformat_minor": 2,
 "cells": [
  {
   "cell_type": "code",
   "execution_count": 1,
   "metadata": {},
   "outputs": [
    {
     "output_type": "stream",
     "name": "stdout",
     "text": [
      "<class 'pandas.core.frame.DataFrame'>\nRangeIndex: 131853 entries, 0 to 131852\nData columns (total 2 columns):\n #   Column              Non-Null Count   Dtype \n---  ------              --------------   ----- \n 0   raw_character_text  131853 non-null  object\n 1   spoken_words        131853 non-null  object\ndtypes: object(2)\nmemory usage: 2.0+ MB\n"
     ]
    }
   ],
   "source": [
    "import pandas as pd\n",
    "\n",
    "df = pd.read_csv(\"../data/simpsons_dataset.csv\")\n",
    "df = df.dropna().reset_index(drop=True)\n",
    "df.info()"
   ]
  },
  {
   "cell_type": "code",
   "execution_count": 2,
   "metadata": {},
   "outputs": [
    {
     "output_type": "execute_result",
     "data": {
      "text/plain": [
       "['actually',\n",
       " 'little',\n",
       " 'sometimes',\n",
       " 'disease',\n",
       " 'magazine',\n",
       " 'news',\n",
       " 'show',\n",
       " 'natural',\n",
       " 'think']"
      ]
     },
     "metadata": {},
     "execution_count": 2
    }
   ],
   "source": [
    "import nltk\n",
    "from nltk.corpus import stopwords\n",
    "from nltk.tokenize import word_tokenize\n",
    "from nltk.stem import WordNetLemmatizer\n",
    "\n",
    "corpus = list(df[\"spoken_words\"].values)\n",
    "\n",
    "stop_words = set(stopwords.words('english'))\n",
    "w_n_lemmatizer = WordNetLemmatizer() \n",
    "\n",
    "corpus = [[w_n_lemmatizer.lemmatize(word) for word in word_tokenize(document.lower()) \n",
    "            if not word in stop_words and word.isalnum()] \n",
    "          for document in corpus]\n",
    "\n",
    "corpus[0]"
   ]
  },
  {
   "cell_type": "code",
   "execution_count": 3,
   "metadata": {},
   "outputs": [
    {
     "output_type": "execute_result",
     "data": {
      "text/plain": [
       "131853"
      ]
     },
     "metadata": {},
     "execution_count": 3
    }
   ],
   "source": [
    "from gensim.models.fasttext import FastText\n",
    "\n",
    "fastText = FastText()\n",
    "fastText.build_vocab(corpus, progress_per=10000)\n",
    "fastText.corpus_count"
   ]
  },
  {
   "cell_type": "code",
   "execution_count": 4,
   "metadata": {},
   "outputs": [],
   "source": [
    "fastText.train(corpus, \n",
    "               epochs=fastText.epochs,\n",
    "               total_examples=fastText.corpus_count, \n",
    "               total_words=fastText.corpus_total_words)"
   ]
  },
  {
   "cell_type": "code",
   "execution_count": 5,
   "metadata": {},
   "outputs": [],
   "source": [
    "fastText.init_sims(replace=True)"
   ]
  },
  {
   "cell_type": "code",
   "execution_count": 6,
   "metadata": {},
   "outputs": [
    {
     "output_type": "execute_result",
     "data": {
      "text/plain": [
       "[('knockahomer', 0.9014703631401062),\n",
       " ('marge', 0.8862709999084473),\n",
       " ('lisa', 0.8775784373283386),\n",
       " ('bart', 0.8767783045768738),\n",
       " ('homey', 0.8760688304901123),\n",
       " ('homeboy', 0.8532384037971497),\n",
       " ('sarge', 0.8470554947853088),\n",
       " ('barto', 0.8465577363967896),\n",
       " ('hometown', 0.8441286087036133),\n",
       " ('margie', 0.8399430513381958)]"
      ]
     },
     "metadata": {},
     "execution_count": 6
    }
   ],
   "source": [
    "fastText.wv.most_similar(positive=[\"homer\"])"
   ]
  },
  {
   "cell_type": "code",
   "execution_count": 7,
   "metadata": {},
   "outputs": [
    {
     "output_type": "execute_result",
     "data": {
      "text/plain": [
       "[('margie', 0.9583558440208435),\n",
       " ('maaarge', 0.9259381294250488),\n",
       " ('sarge', 0.8975951671600342),\n",
       " ('homer', 0.886271059513092),\n",
       " ('margarita', 0.883289635181427),\n",
       " ('lie', 0.8822088241577148),\n",
       " ('margaret', 0.8757448792457581),\n",
       " ('honey', 0.868972659111023),\n",
       " ('maggie', 0.8671963214874268),\n",
       " ('marie', 0.8648054003715515)]"
      ]
     },
     "metadata": {},
     "execution_count": 7
    }
   ],
   "source": [
    "fastText.wv.most_similar(positive=[\"marge\"])"
   ]
  },
  {
   "cell_type": "code",
   "execution_count": 8,
   "metadata": {},
   "outputs": [
    {
     "output_type": "execute_result",
     "data": {
      "text/plain": [
       "[('barto', 0.9328980445861816),\n",
       " ('lisa', 0.924902081489563),\n",
       " ('homer', 0.8767783641815186),\n",
       " ('bartholomew', 0.8484803438186646),\n",
       " ('bartron', 0.8439726829528809),\n",
       " ('maggie', 0.8404480218887329),\n",
       " ('knockahomer', 0.8402232527732849),\n",
       " ('barf', 0.8358963131904602),\n",
       " ('homework', 0.8257026672363281),\n",
       " ('visa', 0.8242322206497192)]"
      ]
     },
     "metadata": {},
     "execution_count": 8
    }
   ],
   "source": [
    "fastText.wv.most_similar(positive=[\"bart\"])"
   ]
  },
  {
   "cell_type": "code",
   "execution_count": 9,
   "metadata": {},
   "outputs": [
    {
     "output_type": "execute_result",
     "data": {
      "text/plain": [
       "0.87677836"
      ]
     },
     "metadata": {},
     "execution_count": 9
    }
   ],
   "source": [
    "fastText.wv.similarity(\"homer\", 'bart')"
   ]
  },
  {
   "cell_type": "code",
   "execution_count": 10,
   "metadata": {},
   "outputs": [
    {
     "output_type": "stream",
     "name": "stderr",
     "text": [
      "C:\\Users\\opell.DESKTOP-UEQ8DPV\\anaconda3\\envs\\E01\\lib\\site-packages\\gensim\\models\\keyedvectors.py:877: FutureWarning: arrays to stack must be passed as a \"sequence\" type such as list or tuple. Support for non-sequence iterables such as generators is deprecated as of NumPy 1.16 and will raise an error in the future.\n  vectors = vstack(self.word_vec(word, use_norm=True) for word in used_words).astype(REAL)\n"
     ]
    },
    {
     "output_type": "execute_result",
     "data": {
      "text/plain": [
       "'milhouse'"
      ]
     },
     "metadata": {},
     "execution_count": 10
    }
   ],
   "source": [
    "fastText.wv.doesnt_match(['jimbo', 'milhouse', 'kearney'])"
   ]
  },
  {
   "cell_type": "code",
   "execution_count": 11,
   "metadata": {},
   "outputs": [
    {
     "output_type": "execute_result",
     "data": {
      "text/plain": [
       "[('mansion', 0.9084514379501343),\n",
       " ('performer', 0.8903785943984985),\n",
       " ('decision', 0.8900672197341919)]"
      ]
     },
     "metadata": {},
     "execution_count": 11
    }
   ],
   "source": [
    "fastText.wv.most_similar(positive=[\"woman\", \"homer\"], negative=[\"marge\"], topn=3)"
   ]
  },
  {
   "cell_type": "code",
   "execution_count": 12,
   "metadata": {},
   "outputs": [
    {
     "output_type": "execute_result",
     "data": {
      "text/plain": [
       "[('barto', 0.8755788803100586),\n",
       " ('lisa', 0.8724665641784668),\n",
       " ('homework', 0.8391784429550171)]"
      ]
     },
     "metadata": {},
     "execution_count": 12
    }
   ],
   "source": [
    "fastText.wv.most_similar(positive=[\"woman\", \"bart\"], negative=[\"man\"], topn=3)"
   ]
  }
 ]
}