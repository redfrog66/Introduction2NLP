{
 "cells": [
  {
   "cell_type": "code",
   "execution_count": 1,
   "metadata": {
    "id": "RCFcM0FEDnp_"
   },
   "outputs": [],
   "source": [
    "from tensorflow.keras.preprocessing.sequence import pad_sequences\n",
    "from tensorflow.keras.layers import Embedding, Dense, LSTM, Dropout\n",
    "from tensorflow.keras.preprocessing.text import Tokenizer\n",
    "from tensorflow.keras.models import Sequential\n",
    "from tensorflow.keras.optimizers import Adam\n",
    "from tensorflow.keras.callbacks import EarlyStopping\n",
    "import numpy as np "
   ]
  },
  {
   "cell_type": "code",
   "execution_count": 2,
   "metadata": {
    "colab": {
     "base_uri": "https://localhost:8080/"
    },
    "id": "ONPz_MPrDqC1",
    "outputId": "35820cd2-3afa-44ab-e25c-97b7ea46f1f0"
   },
   "outputs": [
    {
     "name": "stdout",
     "output_type": "stream",
     "text": [
      "600901\n"
     ]
    }
   ],
   "source": [
    "with open(\"../data/nietzsche.txt\", \"r\", encoding=\"utf8\") as f:\n",
    "    text = f.read().lower()\n",
    "\n",
    "print(len(text))"
   ]
  },
  {
   "cell_type": "code",
   "execution_count": 3,
   "metadata": {},
   "outputs": [],
   "source": [
    "lines = text.split(\"\\n\")\n",
    "\n",
    "tokenizer = Tokenizer()\n",
    "tokenizer.fit_on_texts(lines)\n",
    "num_words = len(tokenizer.word_index) + 1"
   ]
  },
  {
   "cell_type": "code",
   "execution_count": 4,
   "metadata": {},
   "outputs": [
    {
     "name": "stdout",
     "output_type": "stream",
     "text": [
      "supposing that truth is a woman--what then? is there not ground\n"
     ]
    },
    {
     "data": {
      "text/plain": [
       "[573, 8, 116, 6, 7, 145, 40, 141, 6, 39, 14, 1014]"
      ]
     },
     "execution_count": 4,
     "metadata": {},
     "output_type": "execute_result"
    }
   ],
   "source": [
    "print(lines[3])\n",
    "tokenizer.texts_to_sequences([lines[3]])[0]"
   ]
  },
  {
   "cell_type": "code",
   "execution_count": 5,
   "metadata": {
    "id": "otlL9UuhDsez"
   },
   "outputs": [],
   "source": [
    "input_sequences = []\n",
    "\n",
    "for line in lines:\n",
    "    tokens = tokenizer.texts_to_sequences([line])[0]\n",
    "\n",
    "\tfor i in range(1, len(tokens)):\n",
    "\t\tinput_sequences.append(tokens[:i+1])"
   ]
  },
  {
   "cell_type": "code",
   "execution_count": 6,
   "metadata": {},
   "outputs": [
    {
     "data": {
      "text/plain": [
       "[573, 8]"
      ]
     },
     "execution_count": 6,
     "metadata": {},
     "output_type": "execute_result"
    }
   ],
   "source": [
    "input_sequences[0]"
   ]
  },
  {
   "cell_type": "code",
   "execution_count": 7,
   "metadata": {},
   "outputs": [],
   "source": [
    "max_sequence_len = max([len(i) for i in input_sequences])"
   ]
  },
  {
   "cell_type": "code",
   "execution_count": 8,
   "metadata": {},
   "outputs": [],
   "source": [
    "input_sequences = np.array(pad_sequences(input_sequences, maxlen=max_sequence_len, padding='pre'))"
   ]
  },
  {
   "cell_type": "code",
   "execution_count": 9,
   "metadata": {},
   "outputs": [],
   "source": [
    "np.random.shuffle(input_sequences)\n",
    "X, y = input_sequences[:,:-1], np.expand_dims(input_sequences[:,-1], axis=1)"
   ]
  },
  {
   "cell_type": "code",
   "execution_count": 10,
   "metadata": {
    "colab": {
     "base_uri": "https://localhost:8080/"
    },
    "id": "neT2UHMjFS1e",
    "outputId": "9197e040-2eba-4302-d295-7781995f689b"
   },
   "outputs": [
    {
     "data": {
      "text/plain": [
       "(92321, 16)"
      ]
     },
     "execution_count": 10,
     "metadata": {},
     "output_type": "execute_result"
    }
   ],
   "source": [
    "X.shape"
   ]
  },
  {
   "cell_type": "code",
   "execution_count": 11,
   "metadata": {
    "colab": {
     "base_uri": "https://localhost:8080/"
    },
    "id": "EIM8GLfzFT9u",
    "outputId": "857dab5c-bfd4-4e0b-c21b-7cdf4c1b89c6"
   },
   "outputs": [
    {
     "data": {
      "text/plain": [
       "(92321, 1)"
      ]
     },
     "execution_count": 11,
     "metadata": {},
     "output_type": "execute_result"
    }
   ],
   "source": [
    "y.shape"
   ]
  },
  {
   "cell_type": "code",
   "execution_count": 12,
   "metadata": {
    "colab": {
     "base_uri": "https://localhost:8080/"
    },
    "id": "6_spmpXlEl2o",
    "outputId": "c6e07d7b-5f5b-446c-950d-dbc80d5fa6af"
   },
   "outputs": [
    {
     "data": {
      "text/plain": [
       "10262"
      ]
     },
     "execution_count": 12,
     "metadata": {},
     "output_type": "execute_result"
    }
   ],
   "source": [
    "num_words"
   ]
  },
  {
   "cell_type": "code",
   "execution_count": 13,
   "metadata": {
    "colab": {
     "base_uri": "https://localhost:8080/",
     "height": 644
    },
    "id": "agGgrkLzDtzc",
    "outputId": "8a05af85-6142-420e-8e6d-b033cd65ea07"
   },
   "outputs": [
    {
     "name": "stdout",
     "output_type": "stream",
     "text": [
      "Model: \"sequential\"\n",
      "_________________________________________________________________\n",
      "Layer (type)                 Output Shape              Param #   \n",
      "=================================================================\n",
      "embedding (Embedding)        (None, 16, 256)           2627072   \n",
      "_________________________________________________________________\n",
      "lstm (LSTM)                  (None, 120)               180960    \n",
      "_________________________________________________________________\n",
      "dropout (Dropout)            (None, 120)               0         \n",
      "_________________________________________________________________\n",
      "dense (Dense)                (None, 256)               30976     \n",
      "_________________________________________________________________\n",
      "dense_1 (Dense)              (None, 10262)             2637334   \n",
      "=================================================================\n",
      "Total params: 5,476,342\n",
      "Trainable params: 5,476,342\n",
      "Non-trainable params: 0\n",
      "_________________________________________________________________\n"
     ]
    }
   ],
   "source": [
    "import tensorflow as tf\n",
    "from tensorflow.keras.utils import plot_model\n",
    "\n",
    "emb_size = 256\n",
    "\n",
    "model = tf.keras.Sequential([\n",
    "    tf.keras.layers.Embedding(num_words, emb_size, input_length=max_sequence_len - 1),\n",
    "    tf.keras.layers.LSTM(120),\n",
    "    tf.keras.layers.Dropout(0.2),\n",
    "    tf.keras.layers.Dense(256),\n",
    "    tf.keras.layers.Dense(units=num_words, activation='softmax')\n",
    "]) \n",
    "\n",
    "model.compile(loss='sparse_categorical_crossentropy', \n",
    "              optimizer=\"adam\", metrics=['accuracy'])\n",
    "\n",
    "model.summary()"
   ]
  },
  {
   "cell_type": "code",
   "execution_count": 14,
   "metadata": {},
   "outputs": [
    {
     "name": "stdout",
     "output_type": "stream",
     "text": [
      "('Failed to import pydot. You must `pip install pydot` and install graphviz (https://graphviz.gitlab.io/download/), ', 'for `pydotprint` to work.')\n"
     ]
    }
   ],
   "source": [
    "plot_model(model, show_shapes=True)"
   ]
  },
  {
   "cell_type": "code",
   "execution_count": 15,
   "metadata": {
    "colab": {
     "base_uri": "https://localhost:8080/"
    },
    "id": "uS4t13AE_En5",
    "outputId": "cc0abe1e-8af9-4b25-8909-f1dfc85e53ad"
   },
   "outputs": [
    {
     "name": "stdout",
     "output_type": "stream",
     "text": [
      "Epoch 1/50\n",
      "722/722 [==============================] - 31s 38ms/step - loss: 6.9518 - accuracy: 0.0677\n",
      "Epoch 2/50\n",
      "722/722 [==============================] - 27s 37ms/step - loss: 6.0759 - accuracy: 0.1156\n",
      "Epoch 3/50\n",
      "722/722 [==============================] - 26s 36ms/step - loss: 5.7679 - accuracy: 0.1404\n",
      "Epoch 4/50\n",
      "722/722 [==============================] - 26s 36ms/step - loss: 5.4997 - accuracy: 0.1555\n",
      "Epoch 5/50\n",
      "722/722 [==============================] - 26s 36ms/step - loss: 5.2489 - accuracy: 0.1712\n",
      "Epoch 6/50\n",
      "722/722 [==============================] - 26s 36ms/step - loss: 5.0247 - accuracy: 0.1817\n",
      "Epoch 7/50\n",
      "722/722 [==============================] - 26s 36ms/step - loss: 4.7605 - accuracy: 0.2002\n",
      "Epoch 8/50\n",
      "722/722 [==============================] - 25s 35ms/step - loss: 4.4843 - accuracy: 0.2175\n",
      "Epoch 9/50\n",
      "722/722 [==============================] - 25s 34ms/step - loss: 4.1977 - accuracy: 0.2415\n",
      "Epoch 10/50\n",
      "722/722 [==============================] - 25s 34ms/step - loss: 3.9260 - accuracy: 0.2703\n",
      "Epoch 11/50\n",
      "722/722 [==============================] - 25s 34ms/step - loss: 3.6525 - accuracy: 0.3047\n",
      "Epoch 12/50\n",
      "722/722 [==============================] - 24s 34ms/step - loss: 3.4029 - accuracy: 0.3341\n",
      "Epoch 13/50\n",
      "722/722 [==============================] - 25s 34ms/step - loss: 3.1907 - accuracy: 0.3648\n",
      "Epoch 14/50\n",
      "722/722 [==============================] - 26s 36ms/step - loss: 2.9872 - accuracy: 0.3920\n",
      "Epoch 15/50\n",
      "722/722 [==============================] - 25s 35ms/step - loss: 2.8191 - accuracy: 0.4161\n",
      "Epoch 16/50\n",
      "722/722 [==============================] - 24s 34ms/step - loss: 2.6702 - accuracy: 0.4387\n",
      "Epoch 17/50\n",
      "722/722 [==============================] - 25s 34ms/step - loss: 2.4947 - accuracy: 0.4702\n",
      "Epoch 18/50\n",
      "722/722 [==============================] - 25s 35ms/step - loss: 2.3658 - accuracy: 0.4882\n",
      "Epoch 19/50\n",
      "722/722 [==============================] - 25s 34ms/step - loss: 2.2507 - accuracy: 0.5076\n",
      "Epoch 20/50\n",
      "722/722 [==============================] - 25s 35ms/step - loss: 2.1198 - accuracy: 0.5323\n",
      "Epoch 21/50\n",
      "722/722 [==============================] - 25s 35ms/step - loss: 2.0272 - accuracy: 0.5486\n",
      "Epoch 22/50\n",
      "722/722 [==============================] - 30s 41ms/step - loss: 1.9157 - accuracy: 0.5664\n",
      "Epoch 23/50\n",
      "722/722 [==============================] - 26s 36ms/step - loss: 1.8532 - accuracy: 0.5795\n",
      "Epoch 24/50\n",
      "722/722 [==============================] - 25s 34ms/step - loss: 1.7614 - accuracy: 0.5958\n",
      "Epoch 25/50\n",
      "722/722 [==============================] - 25s 34ms/step - loss: 1.6817 - accuracy: 0.6119\n",
      "Epoch 26/50\n",
      "722/722 [==============================] - 25s 34ms/step - loss: 1.6234 - accuracy: 0.6206\n",
      "Epoch 27/50\n",
      "722/722 [==============================] - 28s 38ms/step - loss: 1.5568 - accuracy: 0.6368\n",
      "Epoch 28/50\n",
      "722/722 [==============================] - 28s 38ms/step - loss: 1.5091 - accuracy: 0.6432\n",
      "Epoch 29/50\n",
      "722/722 [==============================] - 28s 38ms/step - loss: 1.4465 - accuracy: 0.6556\n",
      "Epoch 30/50\n",
      "722/722 [==============================] - 27s 38ms/step - loss: 1.4010 - accuracy: 0.6654\n",
      "Epoch 31/50\n",
      "722/722 [==============================] - 28s 39ms/step - loss: 1.3634 - accuracy: 0.6723\n",
      "Epoch 32/50\n",
      "722/722 [==============================] - 29s 40ms/step - loss: 1.3100 - accuracy: 0.6831\n",
      "Epoch 33/50\n",
      "722/722 [==============================] - 31s 43ms/step - loss: 1.2719 - accuracy: 0.6937\n",
      "Epoch 34/50\n",
      "722/722 [==============================] - 31s 43ms/step - loss: 1.2289 - accuracy: 0.7024\n",
      "Epoch 35/50\n",
      "722/722 [==============================] - 31s 43ms/step - loss: 1.1988 - accuracy: 0.7095\n",
      "Epoch 36/50\n",
      "722/722 [==============================] - 32s 44ms/step - loss: 1.1772 - accuracy: 0.7122\n",
      "Epoch 37/50\n",
      "722/722 [==============================] - 32s 44ms/step - loss: 1.1372 - accuracy: 0.7213\n",
      "Epoch 38/50\n",
      "722/722 [==============================] - 31s 43ms/step - loss: 1.1147 - accuracy: 0.7240\n",
      "Epoch 39/50\n",
      "722/722 [==============================] - 31s 43ms/step - loss: 1.0744 - accuracy: 0.7344\n",
      "Epoch 40/50\n",
      "722/722 [==============================] - 32s 44ms/step - loss: 1.0513 - accuracy: 0.7393\n",
      "Epoch 41/50\n",
      "722/722 [==============================] - 31s 43ms/step - loss: 1.0309 - accuracy: 0.7447\n",
      "Epoch 42/50\n",
      "722/722 [==============================] - 27s 38ms/step - loss: 1.0150 - accuracy: 0.7483\n",
      "Epoch 43/50\n",
      "722/722 [==============================] - 27s 38ms/step - loss: 0.9967 - accuracy: 0.7501\n",
      "Epoch 44/50\n",
      "722/722 [==============================] - 27s 37ms/step - loss: 0.9847 - accuracy: 0.7560\n",
      "Epoch 45/50\n",
      "722/722 [==============================] - 27s 38ms/step - loss: 0.9528 - accuracy: 0.7621\n",
      "Epoch 46/50\n",
      "722/722 [==============================] - 27s 38ms/step - loss: 0.9379 - accuracy: 0.7648\n",
      "Epoch 47/50\n",
      "722/722 [==============================] - 27s 38ms/step - loss: 0.9167 - accuracy: 0.7711\n",
      "Epoch 48/50\n",
      "722/722 [==============================] - 27s 38ms/step - loss: 0.9168 - accuracy: 0.7705\n",
      "Epoch 49/50\n",
      "722/722 [==============================] - 27s 38ms/step - loss: 0.8871 - accuracy: 0.7758\n",
      "Epoch 50/50\n",
      "722/722 [==============================] - 27s 38ms/step - loss: 0.8697 - accuracy: 0.7819\n"
     ]
    }
   ],
   "source": [
    "callback = EarlyStopping(monitor=\"loss\", patience=3)\n",
    "history = model.fit(X, y, epochs=50, batch_size=128, verbose=1, callbacks=[callback])"
   ]
  },
  {
   "cell_type": "code",
   "execution_count": 16,
   "metadata": {},
   "outputs": [
    {
     "data": {
      "image/png": "[encoded data removed]",
      "text/plain": [
       "<Figure size 432x288 with 1 Axes>"
      ]
     },
     "metadata": {
      "needs_background": "light"
     },
     "output_type": "display_data"
    }
   ],
   "source": [
    "import matplotlib.pyplot as plt\n",
    "\n",
    "plt.plot(history.history['loss'], label='(training data)',color='blue')\n",
    "plt.title('Neural Network training loss')\n",
    "plt.ylabel('value')\n",
    "plt.xlabel('No. epoch')\n",
    "plt.show()"
   ]
  },
  {
   "cell_type": "code",
   "execution_count": 17,
   "metadata": {
    "colab": {
     "base_uri": "https://localhost:8080/",
     "height": 545
    },
    "id": "d0HWQFXwDwJU",
    "outputId": "dc630b13-0e6b-446c-9bcb-8383f53c280b"
   },
   "outputs": [
    {
     "data": {
      "image/png": "[encoded data removed]",
      "text/plain": [
       "<Figure size 432x288 with 1 Axes>"
      ]
     },
     "metadata": {
      "needs_background": "light"
     },
     "output_type": "display_data"
    }
   ],
   "source": [
    "import matplotlib.pyplot as plt\n",
    "\n",
    "plt.plot(history.history['accuracy'], label='(training data)',color='blue')\n",
    "plt.title('Neural Network training accuracy')\n",
    "plt.ylabel('value')\n",
    "plt.xlabel('No. epoch')\n",
    "plt.show()"
   ]
  },
  {
   "cell_type": "code",
   "execution_count": 18,
   "metadata": {
    "colab": {
     "base_uri": "https://localhost:8080/"
    },
    "id": "ZhnlG22GDxM0",
    "outputId": "1db1bcc1-9478-4785-e204-949224a3a064"
   },
   "outputs": [
    {
     "name": "stdout",
     "output_type": "stream",
     "text": [
      "The philosophy of the dogmatists, it is to be hoped, was only a promise for thousands of years afterwards\n",
      "as was cold so proud of it connected with the intimidation of others who has the feet of a wind which a will a future such a man should be a possibility to anything itself as i do so perhaps my very good and to it should be a question for woman for the mask the instance only a thing with it not an individual frittered away or something duty a duty there is have an involuntary and ready pains to our power and virtues of thought it will to be the philosophers for the sake of the one who "
     ]
    }
   ],
   "source": [
    "import sys\n",
    "\n",
    "text = \"The philosophy of the dogmatists, it is to be hoped, was only a promise for thousands of years afterwards\"\n",
    "next_words = 100\n",
    "\n",
    "print(text)\n",
    "for _ in range(next_words):\n",
    "    tokens = tokenizer.texts_to_sequences([text])[0]\n",
    "    tokens = pad_sequences([tokens], maxlen=max_sequence_len-1, padding='pre')\n",
    "    predicted = np.argmax(model.predict(tokens, verbose=0), axis=-1)\n",
    " \n",
    "    output_word = \"\"\n",
    "\n",
    "    for word, index in tokenizer.word_index.items():\n",
    "        if index == predicted:\n",
    "            output_word = word\n",
    "            break\n",
    "\n",
    "    sys.stdout.write(output_word + \" \")\n",
    "    text += \" \" + output_word"
   ]
  },
  {
   "cell_type": "code",
   "execution_count": null,
   "metadata": {},
   "outputs": [],
   "source": []
  }
 ],
 "metadata": {
  "accelerator": "GPU",
  "colab": {
   "name": "Untitled2.ipynb",
   "provenance": []
  },
  "kernelspec": {
   "display_name": "py37_tensorflow",
   "language": "python",
   "name": "py37_tensorflow"
  },
  "language_info": {
   "codemirror_mode": {
    "name": "ipython",
    "version": 3
   },
   "file_extension": ".py",
   "mimetype": "text/x-python",
   "name": "python",
   "nbconvert_exporter": "python",
   "pygments_lexer": "ipython3",
   "version": "3.7.9"
  }
 },
 "nbformat": 4,
 "nbformat_minor": 1
}
