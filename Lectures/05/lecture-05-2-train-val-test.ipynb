{
 "cells": [
  {
   "cell_type": "code",
   "execution_count": null,
   "metadata": {},
   "outputs": [],
   "source": [
    "import pandas as pd\n",
    "\n",
    "df_news = pd.read_json(\"../data/news.json\", orient='records')\n",
    "df_news.head()"
   ]
  },
  {
   "cell_type": "code",
   "execution_count": null,
   "metadata": {},
   "outputs": [],
   "source": [
    "df_news_filtered = pd.DataFrame(columns=[\"text\",\"label\",\"label_name\"])\n",
    "df_news_filtered[\"text\"] = [item for item in df_news[\"content\"].values]\n",
    "df_news_filtered[\"label_name\"] = [item[\"label\"][0] for item in df_news[\"annotation\"].values]\n",
    "df_news_filtered.head()"
   ]
  },
  {
   "cell_type": "code",
   "execution_count": null,
   "metadata": {},
   "outputs": [],
   "source": [
    "df_news_filtered[\"label_name\"].hist()"
   ]
  },
  {
   "cell_type": "code",
   "execution_count": null,
   "metadata": {},
   "outputs": [],
   "source": [
    "label = []\n",
    "for item in df_news_filtered[\"label_name\"].values:\n",
    "    if item == \"Business\":\n",
    "        label.append(0)\n",
    "    elif item == \"SciTech\":\n",
    "        label.append(1)\n",
    "    elif item == \"Sports\":\n",
    "        label.append(2)\n",
    "    elif item == \"World\":\n",
    "        label.append(3)\n",
    "    else:\n",
    "        label.append(0)\n",
    "\n",
    "df_news_filtered[\"label\"] = label\n",
    "df_news_filtered.head()"
   ]
  },
  {
   "cell_type": "code",
   "execution_count": null,
   "metadata": {},
   "outputs": [],
   "source": [
    "df_news_filtered[\"label\"].hist()"
   ]
  },
  {
   "cell_type": "code",
   "execution_count": null,
   "metadata": {},
   "outputs": [],
   "source": [
    "len_df_news_filtered = len(df_news_filtered)\n",
    "print(len_df_news_filtered)\n",
    "\n",
    "len_news_train = int(round(len_df_news_filtered * 0.6))\n",
    "len_news_val_test = (len_df_news_filtered - len_news_train) // 8\n",
    "len_news_train = len_news_train // 4\n",
    "\n",
    "print(len_news_train)\n",
    "print(len_news_val_test)"
   ]
  },
  {
   "cell_type": "code",
   "execution_count": null,
   "metadata": {},
   "outputs": [],
   "source": [
    "df_news_filtered_0 = df_news_filtered.loc[df_news_filtered['label'] == 0].copy()\n",
    "df_news_filtered_1 = df_news_filtered.loc[df_news_filtered['label'] == 1].copy()\n",
    "df_news_filtered_2 = df_news_filtered.loc[df_news_filtered['label'] == 2].copy()\n",
    "df_news_filtered_3 = df_news_filtered.loc[df_news_filtered['label'] == 3].copy()\n",
    "\n",
    "df_news_filtered_0_train = df_news_filtered_0[:len_news_train].copy()\n",
    "df_news_filtered_1_train = df_news_filtered_1[:len_news_train].copy()\n",
    "df_news_filtered_2_train = df_news_filtered_2[:len_news_train].copy()\n",
    "df_news_filtered_3_train = df_news_filtered_3[:len_news_train].copy()\n",
    "\n",
    "df_news_filtered_0_val = df_news_filtered_0[len_news_train:len_news_train+len_news_val_test].copy()\n",
    "df_news_filtered_1_val = df_news_filtered_1[len_news_train:len_news_train+len_news_val_test].copy()\n",
    "df_news_filtered_2_val = df_news_filtered_2[len_news_train:len_news_train+len_news_val_test].copy()\n",
    "df_news_filtered_3_val = df_news_filtered_3[len_news_train:len_news_train+len_news_val_test].copy()\n",
    "\n",
    "df_news_filtered_0_test = df_news_filtered_0[len_news_train+len_news_val_test:].copy()\n",
    "df_news_filtered_1_test = df_news_filtered_1[len_news_train+len_news_val_test:].copy()\n",
    "df_news_filtered_2_test = df_news_filtered_2[len_news_train+len_news_val_test:].copy()\n",
    "df_news_filtered_3_test = df_news_filtered_3[len_news_train+len_news_val_test:].copy()"
   ]
  },
  {
   "cell_type": "code",
   "execution_count": null,
   "metadata": {},
   "outputs": [],
   "source": [
    "df_news_filtered_train = pd.concat([df_news_filtered_0_train, \n",
    "                                    df_news_filtered_1_train, \n",
    "                                    df_news_filtered_2_train,\n",
    "                                    df_news_filtered_3_train])\n",
    "df_news_filtered_train = df_news_filtered_train.sample(frac=1)\n",
    "df_news_filtered_train.info()\n",
    "df_news_filtered_train.hist()"
   ]
  },
  {
   "cell_type": "code",
   "execution_count": null,
   "metadata": {},
   "outputs": [],
   "source": [
    "df_news_filtered_val = pd.concat([df_news_filtered_0_val, \n",
    "                                    df_news_filtered_1_val, \n",
    "                                    df_news_filtered_2_val,\n",
    "                                    df_news_filtered_3_val])\n",
    "df_news_filtered_val = df_news_filtered_val.sample(frac=1)\n",
    "df_news_filtered_val.info()\n",
    "df_news_filtered_val.hist()"
   ]
  },
  {
   "cell_type": "code",
   "execution_count": null,
   "metadata": {},
   "outputs": [],
   "source": [
    "df_news_filtered_test = pd.concat([df_news_filtered_0_test, \n",
    "                                    df_news_filtered_1_test, \n",
    "                                    df_news_filtered_2_test,\n",
    "                                    df_news_filtered_3_test])\n",
    "df_news_filtered_test = df_news_filtered_test.sample(frac=1)\n",
    "df_news_filtered_test.info()\n",
    "df_news_filtered_test.hist()"
   ]
  },
  {
   "cell_type": "code",
   "execution_count": null,
   "metadata": {},
   "outputs": [],
   "source": [
    "news_train = \"../data/news_train.json\"\n",
    "df_news_filtered_train.to_json(news_train, orient=\"records\")\n",
    "df_readed_news_filtered_train = pd.read_json(news_train, orient='records')\n",
    "df_readed_news_filtered_train.hist()\n",
    "df_readed_news_filtered_train.head()"
   ]
  },
  {
   "cell_type": "code",
   "execution_count": null,
   "metadata": {},
   "outputs": [],
   "source": [
    "news_val = \"../data/news_val.json\"\n",
    "df_news_filtered_val.to_json(news_val, orient=\"records\")\n",
    "df_readed_news_filtered_val = pd.read_json(news_val, orient='records')\n",
    "df_readed_news_filtered_val.hist()\n",
    "df_readed_news_filtered_val.head()"
   ]
  },
  {
   "cell_type": "code",
   "execution_count": null,
   "metadata": {},
   "outputs": [],
   "source": [
    "news_test = \"../data/news_test.json\"\n",
    "df_news_filtered_test.to_json(news_test, orient=\"records\")\n",
    "df_readed_news_filtered_test = pd.read_json(news_test, orient='records')\n",
    "df_readed_news_filtered_test.hist()\n",
    "df_readed_news_filtered_test.head()"
   ]
  }
 ],
 "metadata": {
  "kernelspec": {
   "display_name": "Python 3.9.5 ('nlp')",
   "language": "python",
   "name": "python3"
  },
  "language_info": {
   "codemirror_mode": {
    "name": "ipython",
    "version": 3
   },
   "file_extension": ".py",
   "mimetype": "text/x-python",
   "name": "python",
   "nbconvert_exporter": "python",
   "pygments_lexer": "ipython3",
   "version": "3.9.5"
  },
  "orig_nbformat": 2,
  "vscode": {
   "interpreter": {
    "hash": "4650b2ab9af1b5111f53599d1b6662800e1e795f0a404b209a1518c877a28bdd"
   }
  }
 },
 "nbformat": 4,
 "nbformat_minor": 2
}
