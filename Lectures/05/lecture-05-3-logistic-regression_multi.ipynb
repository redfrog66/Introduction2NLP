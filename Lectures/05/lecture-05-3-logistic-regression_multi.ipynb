{
 "cells": [
  {
   "cell_type": "markdown",
   "metadata": {},
   "source": [
    "# Logistic Regression - multiclass classification"
   ]
  },
  {
   "cell_type": "markdown",
   "metadata": {},
   "source": [
    "## Read the data "
   ]
  },
  {
   "cell_type": "code",
   "execution_count": null,
   "metadata": {},
   "outputs": [],
   "source": [
    "import pandas as pd\n",
    "\n",
    "df_train = pd.read_json(\"../data/news_train.json\", orient=\"records\")\n",
    "df_train.info()\n",
    "df_train.hist()\n",
    "df_train.head()"
   ]
  },
  {
   "cell_type": "code",
   "execution_count": null,
   "metadata": {},
   "outputs": [],
   "source": [
    "df_val = pd.read_json(\"../data/news_val.json\", orient=\"records\")\n",
    "df_val.info()\n",
    "df_val.hist()\n",
    "df_val.head()"
   ]
  },
  {
   "cell_type": "code",
   "execution_count": null,
   "metadata": {},
   "outputs": [],
   "source": [
    "df_test = pd.read_json(\"../data/news_test.json\", orient=\"records\")\n",
    "df_test.info()\n",
    "df_test.hist()\n",
    "df_test.head()"
   ]
  },
  {
   "cell_type": "code",
   "execution_count": null,
   "metadata": {},
   "outputs": [],
   "source": [
    "import nltk\n",
    "from nltk.corpus import stopwords\n",
    "from nltk.tokenize import word_tokenize\n",
    "import string\n",
    "\n",
    "STOPWORDS = stopwords.words(\"english\")\n",
    "\n",
    "def is_html_tag(word):\n",
    "    w = word.replace(\"\\n\", \"\")\n",
    "    return w.startswith(\"<\") or w.startswith(\">\") or w.startswith(\"/\") or w.strip()[:2] == \"br\"\n",
    "\n",
    "def remove_html_tags(sentence):\n",
    "    single_spaces = \" \".join(sentence.split())\n",
    "\n",
    "    return \" \".join([token for token in single_spaces.split(\" \") if not is_html_tag(token)])\n",
    "\n",
    "def tokenize_sentence(sentence):\n",
    "    return word_tokenize(sentence.lower())\n",
    "\n",
    "def remove_stopwords(sentence):\n",
    "    return \" \".join([word for word in sentence.split(\" \") if not word in STOPWORDS])\n",
    "\n",
    "def remove_punctuation(tokenized_sentence):\n",
    "    return [word for word in tokenized_sentence if word.isalpha()]\n",
    "\n",
    "def preprocess(sentence):\n",
    "    return remove_punctuation(tokenize_sentence(remove_stopwords(remove_html_tags(str(sentence)))))\n",
    "\n",
    "print(preprocess(df_train[\"text\"].values[1]))\n"
   ]
  },
  {
   "cell_type": "code",
   "execution_count": null,
   "metadata": {},
   "outputs": [],
   "source": [
    "df_train[\"text\"] = df_train[\"text\"].apply(preprocess)\n",
    "df_train.head()"
   ]
  },
  {
   "cell_type": "code",
   "execution_count": null,
   "metadata": {},
   "outputs": [],
   "source": [
    "def build_vocab(tokenized_input, vocab_size):\n",
    "    d = dict()\n",
    "\n",
    "    for tokens in tokenized_input:\n",
    "        for token in tokens:\n",
    "            # double check\n",
    "            if token not in STOPWORDS and token.isalpha():\n",
    "                d[token] = d.get(token, 0) + 1\n",
    "\n",
    "    del d[\"br\"]\n",
    "\n",
    "    return {k for k, v in sorted(d.items(), key=lambda item: item[1], reverse=True)[:vocab_size]}"
   ]
  },
  {
   "cell_type": "code",
   "execution_count": null,
   "metadata": {},
   "outputs": [],
   "source": [
    "VOCAB_SIZE = 10000\n",
    "VOCAB = build_vocab(df_train[\"text\"].values, VOCAB_SIZE) # (!) Always build the vocabulary on the TRAIN dataset"
   ]
  },
  {
   "cell_type": "code",
   "execution_count": null,
   "metadata": {},
   "outputs": [],
   "source": [
    "len(VOCAB)"
   ]
  },
  {
   "cell_type": "code",
   "execution_count": null,
   "metadata": {},
   "outputs": [],
   "source": [
    "LABELS = df_train[\"label\"].unique()\n",
    "LABELS"
   ]
  },
  {
   "cell_type": "code",
   "execution_count": null,
   "metadata": {},
   "outputs": [],
   "source": [
    "LABELS_TO_NAMES = {label: df_train[df_train[\"label\"] == label].iloc[0][\"label_name\"] for label in LABELS}\n",
    "LABELS_TO_NAMES"
   ]
  },
  {
   "cell_type": "code",
   "execution_count": null,
   "metadata": {},
   "outputs": [],
   "source": [
    "def get_frequencies_for_labels(df):\n",
    "    dict_freqs = {label: {} for label in LABELS}\n",
    "\n",
    "    for idx in range(df.shape[0]):\n",
    "        tokens = df.iloc[idx, 0]\n",
    "        label = df.iloc[idx, 1]\n",
    "        \n",
    "        for token in set(tokens):\n",
    "            if token in VOCAB:\n",
    "                dict_freqs[label][token] = dict_freqs[label].get(token, 0) + 1\n",
    "            \n",
    "\n",
    "    return dict_freqs"
   ]
  },
  {
   "cell_type": "code",
   "execution_count": null,
   "metadata": {},
   "outputs": [],
   "source": [
    "frequency_table = get_frequencies_for_labels(df_train)"
   ]
  },
  {
   "cell_type": "code",
   "execution_count": null,
   "metadata": {},
   "outputs": [],
   "source": [
    "frequency_table[0][\"money\"]"
   ]
  },
  {
   "cell_type": "code",
   "execution_count": null,
   "metadata": {},
   "outputs": [],
   "source": [
    "frequency_table[1][\"money\"]"
   ]
  },
  {
   "cell_type": "code",
   "execution_count": null,
   "metadata": {},
   "outputs": [],
   "source": [
    "import numpy as np\n",
    "\n",
    "def extract_features(frequency_table, tweet_tokens):\n",
    "    label_frequencies = {label: 0 for label in LABELS}\n",
    "\n",
    "    for t in tweet_tokens:\n",
    "        for label in LABELS:\n",
    "            label_frequencies[label] += frequency_table[label].get(t, 0)\n",
    "    \n",
    "    return pd.Series(label_frequencies)\n"
   ]
  },
  {
   "cell_type": "code",
   "execution_count": null,
   "metadata": {},
   "outputs": [],
   "source": [
    "X_train_logistic = df_train[\"text\"].apply(lambda tokens: extract_features(frequency_table, tokens))\n",
    "X_train_logistic"
   ]
  },
  {
   "cell_type": "code",
   "execution_count": null,
   "metadata": {},
   "outputs": [],
   "source": [
    "y_train_logistic = df_train[\"label\"].values\n",
    "y_train_logistic"
   ]
  },
  {
   "cell_type": "code",
   "execution_count": null,
   "metadata": {},
   "outputs": [],
   "source": [
    "from sklearn.linear_model import LogisticRegression\n",
    "\n",
    "clf = LogisticRegression(random_state=0, max_iter=200).fit(X_train_logistic, y_train_logistic)"
   ]
  },
  {
   "cell_type": "code",
   "execution_count": null,
   "metadata": {},
   "outputs": [],
   "source": [
    "from sklearn.metrics import accuracy_score\n",
    "\n",
    "preds_train = clf.predict(X_train_logistic)\n",
    "\n",
    "print(\"Train accuracy:\", accuracy_score(y_train_logistic, preds_train))"
   ]
  },
  {
   "cell_type": "markdown",
   "metadata": {},
   "source": [
    "## Validation"
   ]
  },
  {
   "cell_type": "code",
   "execution_count": null,
   "metadata": {},
   "outputs": [],
   "source": [
    "X_val = df_val[\"text\"].apply(preprocess)\n",
    "X_val_logistic = df_val[\"text\"].apply(lambda tokens: extract_features(frequency_table, tokens))\n",
    "y_val_logistic = df_val[\"label\"].values\n",
    "X_val_logistic"
   ]
  },
  {
   "cell_type": "code",
   "execution_count": null,
   "metadata": {},
   "outputs": [],
   "source": [
    "preds_val = clf.predict(X_val_logistic)\n",
    "\n",
    "print(\"Validation accuracy:\", accuracy_score(y_val_logistic, preds_val))"
   ]
  },
  {
   "cell_type": "markdown",
   "metadata": {},
   "source": [
    "## Test"
   ]
  },
  {
   "cell_type": "code",
   "execution_count": null,
   "metadata": {},
   "outputs": [],
   "source": [
    "X_test = df_test[\"text\"].apply(preprocess)\n",
    "X_test_logistic = df_test[\"text\"].apply(lambda tokens: extract_features(frequency_table, tokens))\n",
    "y_test_logistic = df_test[\"label\"].values\n",
    "X_test_logistic"
   ]
  },
  {
   "cell_type": "code",
   "execution_count": null,
   "metadata": {},
   "outputs": [],
   "source": [
    "preds_test = clf.predict(X_test_logistic)\n",
    "\n",
    "print(\"Test accuracy:\", accuracy_score(y_test_logistic, preds_test))"
   ]
  },
  {
   "cell_type": "code",
   "execution_count": null,
   "metadata": {},
   "outputs": [],
   "source": []
  }
 ],
 "metadata": {
  "kernelspec": {
   "display_name": "Python 3.9.5 ('nlp')",
   "language": "python",
   "name": "python3"
  },
  "language_info": {
   "codemirror_mode": {
    "name": "ipython",
    "version": 3
   },
   "file_extension": ".py",
   "mimetype": "text/x-python",
   "name": "python",
   "nbconvert_exporter": "python",
   "pygments_lexer": "ipython3",
   "version": "3.9.5"
  },
  "orig_nbformat": 2,
  "vscode": {
   "interpreter": {
    "hash": "4650b2ab9af1b5111f53599d1b6662800e1e795f0a404b209a1518c877a28bdd"
   }
  }
 },
 "nbformat": 4,
 "nbformat_minor": 2
}
