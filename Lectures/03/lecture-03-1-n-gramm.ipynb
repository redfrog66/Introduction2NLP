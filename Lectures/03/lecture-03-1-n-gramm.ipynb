{
 "metadata": {
  "language_info": {
   "codemirror_mode": {
    "name": "ipython",
    "version": 3
   },
   "file_extension": ".py",
   "mimetype": "text/x-python",
   "name": "python",
   "nbconvert_exporter": "python",
   "pygments_lexer": "ipython3",
   "version": "3.8.5-final"
  },
  "orig_nbformat": 2,
  "kernelspec": {
   "name": "python3",
   "display_name": "Python 3.8.5 64-bit (conda)",
   "metadata": {
    "interpreter": {
     "hash": "1c1a7014d3b588eddcdf064859290bdbaedd649d121b129c61a42aacf60ad362"
    }
   }
  }
 },
 "nbformat": 4,
 "nbformat_minor": 2,
 "cells": [
  {
   "source": [
    "# N-gramm"
   ],
   "cell_type": "markdown",
   "metadata": {}
  },
  {
   "source": [
    "import pandas as pd"
   ],
   "cell_type": "code",
   "metadata": {},
   "execution_count": null,
   "outputs": []
  },
  {
   "cell_type": "code",
   "execution_count": 2,
   "metadata": {},
   "outputs": [
    {
     "output_type": "execute_result",
     "data": {
      "text/plain": [
       "   id keyword        location  \\\n",
       "0   0  ablaze             NaN   \n",
       "1   1  ablaze             NaN   \n",
       "2   2  ablaze   New York City   \n",
       "3   3  ablaze  Morgantown, WV   \n",
       "4   4  ablaze             NaN   \n",
       "\n",
       "                                                text  target  \n",
       "0  Communal violence in Bhainsa, Telangana. \"Ston...       1  \n",
       "1  Telangana: Section 144 has been imposed in Bha...       1  \n",
       "2  Arsonist sets cars ablaze at dealership https:...       1  \n",
       "3  Arsonist sets cars ablaze at dealership https:...       1  \n",
       "4  \"Lord Jesus, your love brings freedom and pard...       0  "
      ],
      "text/html": "<div>\n<style scoped>\n    .dataframe tbody tr th:only-of-type {\n        vertical-align: middle;\n    }\n\n    .dataframe tbody tr th {\n        vertical-align: top;\n    }\n\n    .dataframe thead th {\n        text-align: right;\n    }\n</style>\n<table border=\"1\" class=\"dataframe\">\n  <thead>\n    <tr style=\"text-align: right;\">\n      <th></th>\n      <th>id</th>\n      <th>keyword</th>\n      <th>location</th>\n      <th>text</th>\n      <th>target</th>\n    </tr>\n  </thead>\n  <tbody>\n    <tr>\n      <th>0</th>\n      <td>0</td>\n      <td>ablaze</td>\n      <td>NaN</td>\n      <td>Communal violence in Bhainsa, Telangana. \"Ston...</td>\n      <td>1</td>\n    </tr>\n    <tr>\n      <th>1</th>\n      <td>1</td>\n      <td>ablaze</td>\n      <td>NaN</td>\n      <td>Telangana: Section 144 has been imposed in Bha...</td>\n      <td>1</td>\n    </tr>\n    <tr>\n      <th>2</th>\n      <td>2</td>\n      <td>ablaze</td>\n      <td>New York City</td>\n      <td>Arsonist sets cars ablaze at dealership https:...</td>\n      <td>1</td>\n    </tr>\n    <tr>\n      <th>3</th>\n      <td>3</td>\n      <td>ablaze</td>\n      <td>Morgantown, WV</td>\n      <td>Arsonist sets cars ablaze at dealership https:...</td>\n      <td>1</td>\n    </tr>\n    <tr>\n      <th>4</th>\n      <td>4</td>\n      <td>ablaze</td>\n      <td>NaN</td>\n      <td>\"Lord Jesus, your love brings freedom and pard...</td>\n      <td>0</td>\n    </tr>\n  </tbody>\n</table>\n</div>"
     },
     "metadata": {},
     "execution_count": 2
    }
   ],
   "source": [
    "df = pd.read_csv(\"data/lecture-02/tweets.csv\")\n",
    "df.head()"
   ]
  },
  {
   "source": [
    "from nltk.util import ngrams"
   ],
   "cell_type": "markdown",
   "metadata": {}
  },
  {
   "source": [
    "## N-gram with words"
   ],
   "cell_type": "markdown",
   "metadata": {}
  },
  {
   "cell_type": "code",
   "execution_count": 29,
   "metadata": {},
   "outputs": [
    {
     "output_type": "execute_result",
     "data": {
      "text/plain": [
       "'Communal violence in Bhainsa, Telangana. \"Stones were pelted on Muslims\\' houses and some houses and '"
      ]
     },
     "metadata": {},
     "execution_count": 29
    }
   ],
   "source": [
    "corpus = list(df[\"text\"])\n",
    "corpus = \" \".join(corpus)\n",
    "\n",
    "corpus[:100]\n",
    "# corpus = corpus[\"text\"].str.join(\" \")"
   ]
  },
  {
   "cell_type": "code",
   "execution_count": 30,
   "metadata": {},
   "outputs": [
    {
     "output_type": "execute_result",
     "data": {
      "text/plain": [
       "['Communal', 'violence', 'in', 'Bhainsa,', 'Telangana.']"
      ]
     },
     "metadata": {},
     "execution_count": 30
    }
   ],
   "source": [
    "tokenized = corpus.split(\" \")\n",
    "\n",
    "tokenized[:5]"
   ]
  },
  {
   "cell_type": "code",
   "execution_count": 35,
   "metadata": {},
   "outputs": [
    {
     "output_type": "execute_result",
     "data": {
      "text/plain": [
       "<generator object ngrams at 0x000002865965DEB0>"
      ]
     },
     "metadata": {},
     "execution_count": 35
    }
   ],
   "source": [
    "bigramm = ngrams(tokenized, 2)\n",
    "\n",
    "bigramm"
   ]
  },
  {
   "cell_type": "code",
   "execution_count": 36,
   "metadata": {},
   "outputs": [
    {
     "output_type": "execute_result",
     "data": {
      "text/plain": [
       "[(('in', 'the'), 619),\n",
       " (('of', 'the'), 612),\n",
       " (('to', 'the'), 282),\n",
       " (('on', 'the'), 270),\n",
       " (('to', 'be'), 215),\n",
       " (('for', 'the'), 203),\n",
       " (('is', 'a'), 198),\n",
       " (('in', 'a'), 197),\n",
       " (('of', 'a'), 160),\n",
       " (('is', 'the'), 155)]"
      ]
     },
     "metadata": {},
     "execution_count": 36
    }
   ],
   "source": [
    "import collections\n",
    "\n",
    "bigramm_freq = collections.Counter(bigramm)\n",
    "\n",
    "bigramm_freq.most_common(10)"
   ]
  },
  {
   "source": [
    "## N-gram with characters"
   ],
   "cell_type": "markdown",
   "metadata": {}
  },
  {
   "cell_type": "code",
   "execution_count": 50,
   "metadata": {},
   "outputs": [
    {
     "output_type": "execute_result",
     "data": {
      "text/plain": [
       "'C   o   m   m   u   n   a   l       v   i   o   l   e   n   c   e       i   n       B   h   a   i   '"
      ]
     },
     "metadata": {},
     "execution_count": 50
    }
   ],
   "source": [
    "corpus_chars = list(df[\"text\"].str.join(\" \"))\n",
    "corpus_chars = (\" \").join(corpus_from_chars)\n",
    "\n",
    "corpus_chars[:100]"
   ]
  },
  {
   "cell_type": "code",
   "execution_count": 58,
   "metadata": {},
   "outputs": [
    {
     "output_type": "execute_result",
     "data": {
      "text/plain": [
       "['C', 'o', 'm', 'm', 'u']"
      ]
     },
     "metadata": {},
     "execution_count": 58
    }
   ],
   "source": [
    "tokenized_chars = corpus_from_chars.split(\" \")\n",
    "\n",
    "tokenized_chars = [item for item in tokenized_chars if len(item) > 0]\n",
    "\n",
    "tokenized_chars[:5]"
   ]
  },
  {
   "cell_type": "code",
   "execution_count": 59,
   "metadata": {},
   "outputs": [
    {
     "output_type": "execute_result",
     "data": {
      "text/plain": [
       "<generator object ngrams at 0x000002865D1985F0>"
      ]
     },
     "metadata": {},
     "execution_count": 59
    }
   ],
   "source": [
    "bigramm_chars = ngrams(tokenized_chars, 2)\n",
    "\n",
    "bigramm_chars"
   ]
  },
  {
   "cell_type": "code",
   "execution_count": 60,
   "metadata": {},
   "outputs": [
    {
     "output_type": "execute_result",
     "data": {
      "text/plain": [
       "[(('i', 'n'), 16183),\n",
       " (('t', 'h'), 16075),\n",
       " (('h', 'e'), 14198),\n",
       " (('e', 'r'), 12590),\n",
       " (('a', 'n'), 12077),\n",
       " (('r', 'e'), 11306),\n",
       " (('s', 't'), 10024),\n",
       " (('o', 'n'), 9399),\n",
       " (('t', 't'), 9276),\n",
       " (('c', 'o'), 8939)]"
      ]
     },
     "metadata": {},
     "execution_count": 60
    }
   ],
   "source": [
    "bigramm_chars_freq = collections.Counter(bigramm_chars)\n",
    "\n",
    "bigramm_chars_freq.most_common(10)"
   ]
  }
 ]
}