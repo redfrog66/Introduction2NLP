{
 "metadata": {
  "language_info": {
   "codemirror_mode": {
    "name": "ipython",
    "version": 3
   },
   "file_extension": ".py",
   "mimetype": "text/x-python",
   "name": "python",
   "nbconvert_exporter": "python",
   "pygments_lexer": "ipython3",
   "version": "3.8.5-final"
  },
  "orig_nbformat": 2,
  "kernelspec": {
   "name": "python3",
   "display_name": "Python 3",
   "language": "python"
  }
 },
 "nbformat": 4,
 "nbformat_minor": 2,
 "cells": [
  {
   "source": [
    "# Lemmatization"
   ],
   "cell_type": "markdown",
   "metadata": {}
  },
  {
   "cell_type": "code",
   "execution_count": 5,
   "metadata": {},
   "outputs": [
    {
     "output_type": "stream",
     "name": "stdout",
     "text": [
      "rocks : rock\ncorpora : corpus\nbetter : better\nbetter : good\n"
     ]
    }
   ],
   "source": [
    "\n",
    "# import these modules \n",
    "from nltk.stem import WordNetLemmatizer \n",
    "\n",
    "# nltk.download('wordnet')\n",
    "w_n_lemmatizer = WordNetLemmatizer() \n",
    "  \n",
    "print(\"rocks :\", w_n_lemmatizer.lemmatize(\"rocks\")) \n",
    "print(\"corpora :\", w_n_lemmatizer.lemmatize(\"corpora\")) \n",
    "\n",
    "print(\"better :\", w_n_lemmatizer.lemmatize(\"better\")) \n",
    "\n",
    "# adjective \n",
    "print(\"better :\", w_n_lemmatizer.lemmatize(\"better\", pos =\"a\"))"
   ]
  },
  {
   "cell_type": "code",
   "execution_count": 7,
   "metadata": {},
   "outputs": [
    {
     "output_type": "stream",
     "name": "stdout",
     "text": [
      "kites -> kite\nbabies -> baby\ndogs -> dog\nflying -> flying\nsmiling -> smiling\ndriving -> driving\ndied -> died\ntried -> tried\nfeet -> foot\n"
     ]
    }
   ],
   "source": [
    "words = ['kites', 'babies', 'dogs', 'flying', 'smiling',  \n",
    "         'driving', 'died', 'tried', 'feet'] \n",
    "for word in words: \n",
    "    print(word + \" -> \" + w_n_lemmatizer.lemmatize(word)) "
   ]
  }
 ]
}