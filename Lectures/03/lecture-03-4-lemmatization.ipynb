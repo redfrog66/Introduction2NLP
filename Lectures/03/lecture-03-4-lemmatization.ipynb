{
 "metadata": {
  "language_info": {
   "codemirror_mode": {
    "name": "ipython",
    "version": 3
   },
   "file_extension": ".py",
   "mimetype": "text/x-python",
   "name": "python",
   "nbconvert_exporter": "python",
   "pygments_lexer": "ipython3",
   "version": "3.8.8-final"
  },
  "orig_nbformat": 2,
  "kernelspec": {
   "name": "python3",
   "display_name": "Python 3.8.8 64-bit ('demo1': conda)",
   "metadata": {
    "interpreter": {
     "hash": "026d6fd8890996c8892f92fe120b268df5fa6a12c1b67fc96cb1e4d74754759e"
    }
   }
  }
 },
 "nbformat": 4,
 "nbformat_minor": 2,
 "cells": [
  {
   "source": [
    "# Lemmatization"
   ],
   "cell_type": "markdown",
   "metadata": {}
  },
  {
   "cell_type": "code",
   "execution_count": 1,
   "metadata": {},
   "outputs": [
    {
     "output_type": "stream",
     "name": "stdout",
     "text": [
      "Requirement already satisfied: nltk in c:\\users\\opell.desktop-ueq8dpv\\anaconda3\\envs\\demo1\\lib\\site-packages (3.5)\nRequirement already satisfied: click in c:\\users\\opell.desktop-ueq8dpv\\anaconda3\\envs\\demo1\\lib\\site-packages (from nltk) (7.1.2)\nRequirement already satisfied: tqdm in c:\\users\\opell.desktop-ueq8dpv\\anaconda3\\envs\\demo1\\lib\\site-packages (from nltk) (4.58.0)\nRequirement already satisfied: regex in c:\\users\\opell.desktop-ueq8dpv\\anaconda3\\envs\\demo1\\lib\\site-packages (from nltk) (2020.11.13)\nRequirement already satisfied: joblib in c:\\users\\opell.desktop-ueq8dpv\\anaconda3\\envs\\demo1\\lib\\site-packages (from nltk) (1.0.1)\nNote: you may need to restart the kernel to use updated packages.\n"
     ]
    }
   ],
   "source": [
    "pip install nltk"
   ]
  },
  {
   "cell_type": "code",
   "execution_count": 2,
   "metadata": {},
   "outputs": [
    {
     "output_type": "stream",
     "name": "stdout",
     "text": [
      "rocks : rock\ncorpora : corpus\nbetter : better\nbetter : good\n"
     ]
    }
   ],
   "source": [
    "\n",
    "# import these modules \n",
    "from nltk.stem import WordNetLemmatizer \n",
    "\n",
    "# nltk.download('wordnet')\n",
    "w_n_lemmatizer = WordNetLemmatizer() \n",
    "  \n",
    "print(\"rocks :\", w_n_lemmatizer.lemmatize(\"rocks\")) \n",
    "print(\"corpora :\", w_n_lemmatizer.lemmatize(\"corpora\")) \n",
    "\n",
    "print(\"better :\", w_n_lemmatizer.lemmatize(\"better\")) \n",
    "\n",
    "# adjective \n",
    "print(\"better :\", w_n_lemmatizer.lemmatize(\"better\", pos =\"a\"))"
   ]
  },
  {
   "cell_type": "code",
   "execution_count": 3,
   "metadata": {},
   "outputs": [
    {
     "output_type": "stream",
     "name": "stdout",
     "text": [
      "kites -> kite\nbabies -> baby\ndogs -> dog\nflying -> flying\nsmiling -> smiling\ndriving -> driving\ndied -> died\ntried -> tried\nfeet -> foot\n"
     ]
    }
   ],
   "source": [
    "words = ['kites', 'babies', 'dogs', 'flying', 'smiling',  \n",
    "         'driving', 'died', 'tried', 'feet'] \n",
    "for word in words: \n",
    "    print(word + \" -> \" + w_n_lemmatizer.lemmatize(word)) "
   ]
  }
 ]
}