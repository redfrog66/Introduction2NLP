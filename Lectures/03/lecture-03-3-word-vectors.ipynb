{
 "cells": [
  {
   "cell_type": "markdown",
   "metadata": {},
   "source": [
    "# Word vectors"
   ]
  },
  {
   "cell_type": "code",
   "execution_count": 2,
   "metadata": {},
   "outputs": [
    {
     "name": "stdout",
     "output_type": "stream",
     "text": [
      "Collecting spacy\n",
      "  Downloading spacy-3.4.1-cp310-cp310-win_amd64.whl (11.7 MB)\n",
      "     ---------------------------------------- 11.7/11.7 MB 1.7 MB/s eta 0:00:00\n",
      "Collecting wasabi<1.1.0,>=0.9.1\n",
      "  Downloading wasabi-0.10.1-py3-none-any.whl (26 kB)\n",
      "Collecting cymem<2.1.0,>=2.0.2\n",
      "  Downloading cymem-2.0.6-cp310-cp310-win_amd64.whl (36 kB)\n",
      "Requirement already satisfied: requests<3.0.0,>=2.13.0 in c:\\users\\opell\\anaconda3\\envs\\kdp\\lib\\site-packages (from spacy) (2.28.1)\n",
      "Collecting spacy-legacy<3.1.0,>=3.0.9\n",
      "  Downloading spacy_legacy-3.0.10-py2.py3-none-any.whl (21 kB)\n",
      "Requirement already satisfied: numpy>=1.15.0 in c:\\users\\opell\\anaconda3\\envs\\kdp\\lib\\site-packages (from spacy) (1.23.2)\n",
      "Requirement already satisfied: packaging>=20.0 in c:\\users\\opell\\anaconda3\\envs\\kdp\\lib\\site-packages (from spacy) (21.3)\n",
      "Collecting catalogue<2.1.0,>=2.0.6\n",
      "  Downloading catalogue-2.0.8-py3-none-any.whl (17 kB)\n",
      "Collecting pathy>=0.3.5\n",
      "  Downloading pathy-0.6.2-py3-none-any.whl (42 kB)\n",
      "     ---------------------------------------- 42.8/42.8 kB 2.0 MB/s eta 0:00:00\n",
      "Collecting preshed<3.1.0,>=3.0.2\n",
      "  Downloading preshed-3.0.7-cp310-cp310-win_amd64.whl (94 kB)\n",
      "     ---------------------------------------- 94.7/94.7 kB 1.4 MB/s eta 0:00:00\n",
      "Collecting spacy-loggers<2.0.0,>=1.0.0\n",
      "  Downloading spacy_loggers-1.0.3-py3-none-any.whl (9.3 kB)\n",
      "Collecting pydantic!=1.8,!=1.8.1,<1.10.0,>=1.7.4\n",
      "  Downloading pydantic-1.9.2-cp310-cp310-win_amd64.whl (2.0 MB)\n",
      "     ---------------------------------------- 2.0/2.0 MB 1.6 MB/s eta 0:00:00\n",
      "Requirement already satisfied: setuptools in c:\\users\\opell\\anaconda3\\envs\\kdp\\lib\\site-packages (from spacy) (63.4.1)\n",
      "Collecting typer<0.5.0,>=0.3.0\n",
      "  Downloading typer-0.4.2-py3-none-any.whl (27 kB)\n",
      "Requirement already satisfied: tqdm<5.0.0,>=4.38.0 in c:\\users\\opell\\anaconda3\\envs\\kdp\\lib\\site-packages (from spacy) (4.64.1)\n",
      "Collecting langcodes<4.0.0,>=3.2.0\n",
      "  Downloading langcodes-3.3.0-py3-none-any.whl (181 kB)\n",
      "     -------------------------------------- 181.6/181.6 kB 1.8 MB/s eta 0:00:00\n",
      "Collecting murmurhash<1.1.0,>=0.28.0\n",
      "  Downloading murmurhash-1.0.8-cp310-cp310-win_amd64.whl (18 kB)\n",
      "Requirement already satisfied: jinja2 in c:\\users\\opell\\anaconda3\\envs\\kdp\\lib\\site-packages (from spacy) (3.0.3)\n",
      "Collecting thinc<8.2.0,>=8.1.0\n",
      "  Downloading thinc-8.1.1-cp310-cp310-win_amd64.whl (1.3 MB)\n",
      "     ---------------------------------------- 1.3/1.3 MB 1.7 MB/s eta 0:00:00\n",
      "Collecting srsly<3.0.0,>=2.4.3\n",
      "  Downloading srsly-2.4.4-cp310-cp310-win_amd64.whl (448 kB)\n",
      "     -------------------------------------- 448.0/448.0 kB 1.8 MB/s eta 0:00:00\n",
      "Requirement already satisfied: pyparsing!=3.0.5,>=2.0.2 in c:\\users\\opell\\anaconda3\\envs\\kdp\\lib\\site-packages (from packaging>=20.0->spacy) (3.0.9)\n",
      "Collecting smart-open<6.0.0,>=5.2.1\n",
      "  Downloading smart_open-5.2.1-py3-none-any.whl (58 kB)\n",
      "     ---------------------------------------- 58.6/58.6 kB 3.0 MB/s eta 0:00:00\n",
      "Requirement already satisfied: typing-extensions>=3.7.4.3 in c:\\users\\opell\\anaconda3\\envs\\kdp\\lib\\site-packages (from pydantic!=1.8,!=1.8.1,<1.10.0,>=1.7.4->spacy) (4.3.0)\n",
      "Requirement already satisfied: urllib3<1.27,>=1.21.1 in c:\\users\\opell\\anaconda3\\envs\\kdp\\lib\\site-packages (from requests<3.0.0,>=2.13.0->spacy) (1.26.12)\n",
      "Requirement already satisfied: idna<4,>=2.5 in c:\\users\\opell\\anaconda3\\envs\\kdp\\lib\\site-packages (from requests<3.0.0,>=2.13.0->spacy) (3.3)\n",
      "Requirement already satisfied: charset-normalizer<3,>=2 in c:\\users\\opell\\anaconda3\\envs\\kdp\\lib\\site-packages (from requests<3.0.0,>=2.13.0->spacy) (2.1.1)\n",
      "Requirement already satisfied: certifi>=2017.4.17 in c:\\users\\opell\\anaconda3\\envs\\kdp\\lib\\site-packages (from requests<3.0.0,>=2.13.0->spacy) (2022.6.15)\n",
      "Collecting confection<1.0.0,>=0.0.1\n",
      "  Downloading confection-0.0.1-py3-none-any.whl (32 kB)\n",
      "Collecting blis<0.10.0,>=0.7.8\n",
      "  Downloading blis-0.9.1-cp310-cp310-win_amd64.whl (7.4 MB)\n",
      "     ---------------------------------------- 7.4/7.4 MB 1.7 MB/s eta 0:00:00\n",
      "Requirement already satisfied: colorama in c:\\users\\opell\\anaconda3\\envs\\kdp\\lib\\site-packages (from tqdm<5.0.0,>=4.38.0->spacy) (0.4.5)\n",
      "Requirement already satisfied: click<9.0.0,>=7.1.1 in c:\\users\\opell\\anaconda3\\envs\\kdp\\lib\\site-packages (from typer<0.5.0,>=0.3.0->spacy) (8.1.3)\n",
      "Requirement already satisfied: MarkupSafe>=2.0 in c:\\users\\opell\\anaconda3\\envs\\kdp\\lib\\site-packages (from jinja2->spacy) (2.1.1)\n",
      "Installing collected packages: wasabi, cymem, spacy-loggers, spacy-legacy, smart-open, pydantic, murmurhash, langcodes, catalogue, blis, typer, srsly, preshed, pathy, confection, thinc, spacy\n",
      "Successfully installed blis-0.9.1 catalogue-2.0.8 confection-0.0.1 cymem-2.0.6 langcodes-3.3.0 murmurhash-1.0.8 pathy-0.6.2 preshed-3.0.7 pydantic-1.9.2 smart-open-5.2.1 spacy-3.4.1 spacy-legacy-3.0.10 spacy-loggers-1.0.3 srsly-2.4.4 thinc-8.1.1 typer-0.4.2 wasabi-0.10.1\n",
      "Note: you may need to restart the kernel to use updated packages.\n"
     ]
    }
   ],
   "source": [
    "!pip install spacy"
   ]
  },
  {
   "cell_type": "code",
   "execution_count": 3,
   "metadata": {},
   "outputs": [
    {
     "name": "stdout",
     "output_type": "stream",
     "text": [
      "Collecting en-core-web-lg==3.4.0\n",
      "  Downloading https://github.com/explosion/spacy-models/releases/download/en_core_web_lg-3.4.0/en_core_web_lg-3.4.0-py3-none-any.whl (587.7 MB)\n",
      "     -------------------------------------- 587.7/587.7 MB 1.4 MB/s eta 0:00:00\n",
      "Requirement already satisfied: spacy<3.5.0,>=3.4.0 in c:\\users\\opell\\anaconda3\\envs\\kdp\\lib\\site-packages (from en-core-web-lg==3.4.0) (3.4.1)\n",
      "Requirement already satisfied: pydantic!=1.8,!=1.8.1,<1.10.0,>=1.7.4 in c:\\users\\opell\\anaconda3\\envs\\kdp\\lib\\site-packages (from spacy<3.5.0,>=3.4.0->en-core-web-lg==3.4.0) (1.9.2)\n",
      "Requirement already satisfied: spacy-loggers<2.0.0,>=1.0.0 in c:\\users\\opell\\anaconda3\\envs\\kdp\\lib\\site-packages (from spacy<3.5.0,>=3.4.0->en-core-web-lg==3.4.0) (1.0.3)\n",
      "Requirement already satisfied: numpy>=1.15.0 in c:\\users\\opell\\anaconda3\\envs\\kdp\\lib\\site-packages (from spacy<3.5.0,>=3.4.0->en-core-web-lg==3.4.0) (1.23.2)\n",
      "Requirement already satisfied: preshed<3.1.0,>=3.0.2 in c:\\users\\opell\\anaconda3\\envs\\kdp\\lib\\site-packages (from spacy<3.5.0,>=3.4.0->en-core-web-lg==3.4.0) (3.0.7)\n",
      "Requirement already satisfied: spacy-legacy<3.1.0,>=3.0.9 in c:\\users\\opell\\anaconda3\\envs\\kdp\\lib\\site-packages (from spacy<3.5.0,>=3.4.0->en-core-web-lg==3.4.0) (3.0.10)\n",
      "Requirement already satisfied: cymem<2.1.0,>=2.0.2 in c:\\users\\opell\\anaconda3\\envs\\kdp\\lib\\site-packages (from spacy<3.5.0,>=3.4.0->en-core-web-lg==3.4.0) (2.0.6)\n",
      "Requirement already satisfied: srsly<3.0.0,>=2.4.3 in c:\\users\\opell\\anaconda3\\envs\\kdp\\lib\\site-packages (from spacy<3.5.0,>=3.4.0->en-core-web-lg==3.4.0) (2.4.4)\n",
      "Requirement already satisfied: murmurhash<1.1.0,>=0.28.0 in c:\\users\\opell\\anaconda3\\envs\\kdp\\lib\\site-packages (from spacy<3.5.0,>=3.4.0->en-core-web-lg==3.4.0) (1.0.8)\n",
      "Requirement already satisfied: pathy>=0.3.5 in c:\\users\\opell\\anaconda3\\envs\\kdp\\lib\\site-packages (from spacy<3.5.0,>=3.4.0->en-core-web-lg==3.4.0) (0.6.2)\n",
      "Requirement already satisfied: thinc<8.2.0,>=8.1.0 in c:\\users\\opell\\anaconda3\\envs\\kdp\\lib\\site-packages (from spacy<3.5.0,>=3.4.0->en-core-web-lg==3.4.0) (8.1.1)\n",
      "Requirement already satisfied: tqdm<5.0.0,>=4.38.0 in c:\\users\\opell\\anaconda3\\envs\\kdp\\lib\\site-packages (from spacy<3.5.0,>=3.4.0->en-core-web-lg==3.4.0) (4.64.1)\n",
      "Requirement already satisfied: wasabi<1.1.0,>=0.9.1 in c:\\users\\opell\\anaconda3\\envs\\kdp\\lib\\site-packages (from spacy<3.5.0,>=3.4.0->en-core-web-lg==3.4.0) (0.10.1)\n",
      "Requirement already satisfied: requests<3.0.0,>=2.13.0 in c:\\users\\opell\\anaconda3\\envs\\kdp\\lib\\site-packages (from spacy<3.5.0,>=3.4.0->en-core-web-lg==3.4.0) (2.28.1)\n",
      "Requirement already satisfied: jinja2 in c:\\users\\opell\\anaconda3\\envs\\kdp\\lib\\site-packages (from spacy<3.5.0,>=3.4.0->en-core-web-lg==3.4.0) (3.0.3)\n",
      "Requirement already satisfied: setuptools in c:\\users\\opell\\anaconda3\\envs\\kdp\\lib\\site-packages (from spacy<3.5.0,>=3.4.0->en-core-web-lg==3.4.0) (63.4.1)\n",
      "Requirement already satisfied: catalogue<2.1.0,>=2.0.6 in c:\\users\\opell\\anaconda3\\envs\\kdp\\lib\\site-packages (from spacy<3.5.0,>=3.4.0->en-core-web-lg==3.4.0) (2.0.8)\n",
      "Requirement already satisfied: langcodes<4.0.0,>=3.2.0 in c:\\users\\opell\\anaconda3\\envs\\kdp\\lib\\site-packages (from spacy<3.5.0,>=3.4.0->en-core-web-lg==3.4.0) (3.3.0)\n",
      "Requirement already satisfied: typer<0.5.0,>=0.3.0 in c:\\users\\opell\\anaconda3\\envs\\kdp\\lib\\site-packages (from spacy<3.5.0,>=3.4.0->en-core-web-lg==3.4.0) (0.4.2)\n",
      "Requirement already satisfied: packaging>=20.0 in c:\\users\\opell\\anaconda3\\envs\\kdp\\lib\\site-packages (from spacy<3.5.0,>=3.4.0->en-core-web-lg==3.4.0) (21.3)\n",
      "Requirement already satisfied: pyparsing!=3.0.5,>=2.0.2 in c:\\users\\opell\\anaconda3\\envs\\kdp\\lib\\site-packages (from packaging>=20.0->spacy<3.5.0,>=3.4.0->en-core-web-lg==3.4.0) (3.0.9)\n",
      "Requirement already satisfied: smart-open<6.0.0,>=5.2.1 in c:\\users\\opell\\anaconda3\\envs\\kdp\\lib\\site-packages (from pathy>=0.3.5->spacy<3.5.0,>=3.4.0->en-core-web-lg==3.4.0) (5.2.1)\n",
      "Requirement already satisfied: typing-extensions>=3.7.4.3 in c:\\users\\opell\\anaconda3\\envs\\kdp\\lib\\site-packages (from pydantic!=1.8,!=1.8.1,<1.10.0,>=1.7.4->spacy<3.5.0,>=3.4.0->en-core-web-lg==3.4.0) (4.3.0)\n",
      "Requirement already satisfied: idna<4,>=2.5 in c:\\users\\opell\\anaconda3\\envs\\kdp\\lib\\site-packages (from requests<3.0.0,>=2.13.0->spacy<3.5.0,>=3.4.0->en-core-web-lg==3.4.0) (3.3)\n",
      "Requirement already satisfied: charset-normalizer<3,>=2 in c:\\users\\opell\\anaconda3\\envs\\kdp\\lib\\site-packages (from requests<3.0.0,>=2.13.0->spacy<3.5.0,>=3.4.0->en-core-web-lg==3.4.0) (2.1.1)\n",
      "Requirement already satisfied: certifi>=2017.4.17 in c:\\users\\opell\\anaconda3\\envs\\kdp\\lib\\site-packages (from requests<3.0.0,>=2.13.0->spacy<3.5.0,>=3.4.0->en-core-web-lg==3.4.0) (2022.6.15)\n",
      "Requirement already satisfied: urllib3<1.27,>=1.21.1 in c:\\users\\opell\\anaconda3\\envs\\kdp\\lib\\site-packages (from requests<3.0.0,>=2.13.0->spacy<3.5.0,>=3.4.0->en-core-web-lg==3.4.0) (1.26.12)\n",
      "Requirement already satisfied: blis<0.10.0,>=0.7.8 in c:\\users\\opell\\anaconda3\\envs\\kdp\\lib\\site-packages (from thinc<8.2.0,>=8.1.0->spacy<3.5.0,>=3.4.0->en-core-web-lg==3.4.0) (0.9.1)\n",
      "Requirement already satisfied: confection<1.0.0,>=0.0.1 in c:\\users\\opell\\anaconda3\\envs\\kdp\\lib\\site-packages (from thinc<8.2.0,>=8.1.0->spacy<3.5.0,>=3.4.0->en-core-web-lg==3.4.0) (0.0.1)\n",
      "Requirement already satisfied: colorama in c:\\users\\opell\\anaconda3\\envs\\kdp\\lib\\site-packages (from tqdm<5.0.0,>=4.38.0->spacy<3.5.0,>=3.4.0->en-core-web-lg==3.4.0) (0.4.5)\n",
      "Requirement already satisfied: click<9.0.0,>=7.1.1 in c:\\users\\opell\\anaconda3\\envs\\kdp\\lib\\site-packages (from typer<0.5.0,>=0.3.0->spacy<3.5.0,>=3.4.0->en-core-web-lg==3.4.0) (8.1.3)\n",
      "Requirement already satisfied: MarkupSafe>=2.0 in c:\\users\\opell\\anaconda3\\envs\\kdp\\lib\\site-packages (from jinja2->spacy<3.5.0,>=3.4.0->en-core-web-lg==3.4.0) (2.1.1)\n",
      "Installing collected packages: en-core-web-lg\n",
      "Successfully installed en-core-web-lg-3.4.0\n",
      "✔ Download and installation successful\n",
      "You can now load the package via spacy.load('en_core_web_lg')\n"
     ]
    }
   ],
   "source": [
    "!python -m spacy download en_core_web_lg"
   ]
  },
  {
   "cell_type": "code",
   "execution_count": 4,
   "metadata": {},
   "outputs": [
    {
     "name": "stderr",
     "output_type": "stream",
     "text": [
      "c:\\Users\\opell\\anaconda3\\envs\\KDP\\lib\\site-packages\\tqdm\\auto.py:22: TqdmWarning: IProgress not found. Please update jupyter and ipywidgets. See https://ipywidgets.readthedocs.io/en/stable/user_install.html\n",
      "  from .autonotebook import tqdm as notebook_tqdm\n"
     ]
    }
   ],
   "source": [
    "import spacy\n",
    "\n",
    "nlp = spacy.load('en_core_web_lg')"
   ]
  },
  {
   "cell_type": "code",
   "execution_count": 6,
   "metadata": {},
   "outputs": [
    {
     "data": {
      "text/plain": [
       "NLP is awesome"
      ]
     },
     "execution_count": 6,
     "metadata": {},
     "output_type": "execute_result"
    }
   ],
   "source": [
    "doc = nlp(\"NLP is awesome\")\n",
    "doc"
   ]
  },
  {
   "cell_type": "code",
   "execution_count": 7,
   "metadata": {},
   "outputs": [
    {
     "name": "stdout",
     "output_type": "stream",
     "text": [
      "[('tok2vec', <spacy.pipeline.tok2vec.Tok2Vec object at 0x000001CC3CEAF7C0>), ('tagger', <spacy.pipeline.tagger.Tagger object at 0x000001CC3CEAF640>), ('parser', <spacy.pipeline.dep_parser.DependencyParser object at 0x000001CC3CDCC7B0>), ('attribute_ruler', <spacy.pipeline.attributeruler.AttributeRuler object at 0x000001CC3D09D9C0>), ('lemmatizer', <spacy.lang.en.lemmatizer.EnglishLemmatizer object at 0x000001CC3D0C3440>), ('ner', <spacy.pipeline.ner.EntityRecognizer object at 0x000001CC3CDCC9E0>)]\n"
     ]
    }
   ],
   "source": [
    "print(nlp.pipeline)"
   ]
  },
  {
   "cell_type": "code",
   "execution_count": 8,
   "metadata": {},
   "outputs": [
    {
     "name": "stdout",
     "output_type": "stream",
     "text": [
      "NLP NOUN\n",
      "is AUX\n",
      "awesome ADJ\n"
     ]
    }
   ],
   "source": [
    "for token in doc:\n",
    "    print(token.text, token.pos_)"
   ]
  },
  {
   "cell_type": "code",
   "execution_count": 10,
   "metadata": {},
   "outputs": [
    {
     "data": {
      "text/plain": [
       "NLP"
      ]
     },
     "execution_count": 10,
     "metadata": {},
     "output_type": "execute_result"
    }
   ],
   "source": [
    "doc[0]"
   ]
  },
  {
   "cell_type": "code",
   "execution_count": 11,
   "metadata": {},
   "outputs": [
    {
     "data": {
      "text/plain": [
       "array([-1.4488e+00,  8.1959e-01,  7.1514e+00,  6.5645e-01,  2.1112e+00,\n",
       "        1.4380e+00,  2.6703e+00,  5.2665e-01, -2.4186e+00, -2.6855e-01,\n",
       "        3.6280e+00,  2.3172e-01, -2.4559e+00, -8.4527e-01,  9.4456e-01,\n",
       "       -1.5066e+00,  5.5113e+00,  3.4182e+00,  9.3467e-01, -1.5189e+00,\n",
       "       -5.4357e+00,  2.8662e+00, -2.6999e-01,  1.8631e+00,  9.2688e-01,\n",
       "       -5.6016e-01,  1.0905e+00, -9.4990e-01, -7.5683e-01, -2.3267e-01,\n",
       "       -4.4821e+00, -2.4060e+00, -4.3373e+00, -5.6129e-01, -8.4552e-01,\n",
       "       -3.3398e+00, -4.7541e-01,  2.1119e-01,  5.7403e-01, -8.8212e-01,\n",
       "       -3.7534e-01, -1.9162e-01, -2.2510e-01,  6.0718e-01, -3.0815e+00,\n",
       "        1.9564e+00,  1.3342e+00,  2.3118e+00, -9.3553e-01, -6.0177e+00,\n",
       "        7.1316e-01, -1.4865e+00,  1.9488e+00, -2.7439e+00, -1.9600e+00,\n",
       "        3.2526e-01, -3.9822e+00, -8.1215e-01,  1.8519e-01,  9.2472e-01,\n",
       "        2.3251e+00,  5.6535e+00, -1.0778e+00,  6.0109e+00,  1.5149e+00,\n",
       "        2.9027e+00,  1.0194e+00, -5.2549e+00, -1.1270e+00, -3.8936e-01,\n",
       "       -8.6573e-01,  7.9609e-01,  1.1144e+00,  5.1845e-01,  3.4086e+00,\n",
       "       -2.6348e+00, -4.4540e+00,  3.4677e+00, -2.9623e+00,  9.7808e-01,\n",
       "       -4.7115e+00, -3.9560e-01, -6.5803e-02,  5.0637e-01, -2.7092e+00,\n",
       "        1.4499e+00,  6.0537e-01, -9.1630e-01, -1.6112e+00, -4.1114e-03,\n",
       "        1.4904e-01,  7.9950e-01, -4.3997e-01,  2.0041e+00, -5.7816e+00,\n",
       "        1.6274e+00, -4.4572e+00, -2.6869e+00,  4.3602e+00,  1.0907e+00,\n",
       "        1.4407e+00,  6.9385e-01,  9.5224e-01,  3.0149e+00,  1.9320e+00,\n",
       "       -2.2011e-01, -7.7254e-01,  1.2247e+00,  1.0854e+00,  3.2518e+00,\n",
       "        3.9708e+00,  1.1767e+00, -3.2334e+00,  3.8958e-01, -1.3434e+00,\n",
       "        2.7738e-01, -3.4853e+00,  4.7970e+00, -1.8726e+00,  2.0994e-01,\n",
       "       -3.5796e+00,  4.1165e+00,  1.5999e+00,  1.8101e+00,  4.1649e+00,\n",
       "        3.3772e-01, -2.9150e+00, -4.5418e+00,  1.3626e+00, -4.5888e+00,\n",
       "       -6.7336e-01, -2.3009e+00,  1.8866e+00, -1.8141e+00,  2.8820e-01,\n",
       "       -1.1450e+00, -1.9974e+00,  5.3257e-01,  3.4135e+00, -2.7779e-01,\n",
       "        1.0873e+00,  7.1210e-01, -4.0003e-01, -1.6073e+00,  3.1988e-01,\n",
       "        5.8480e-01, -9.9517e-03, -1.5102e+00,  2.2013e-01,  2.1936e+00,\n",
       "        2.6142e-01,  2.2048e+00,  1.5691e+00, -2.0494e+00, -3.2702e+00,\n",
       "       -3.0898e+00, -2.0123e-01,  3.8535e+00,  5.0298e-01, -1.9674e-03,\n",
       "        6.6512e-01,  4.5958e+00, -2.1520e+00,  1.8256e+00,  1.8895e+00,\n",
       "       -2.6870e+00,  8.0142e-01, -1.3966e+00, -2.2574e+00,  2.1041e+00,\n",
       "       -7.5318e-01, -2.1355e+00,  7.0127e-01,  3.0685e+00,  5.4981e+00,\n",
       "       -1.1566e+00,  2.9792e-01, -2.7671e+00, -1.1558e+00, -1.4165e+00,\n",
       "        1.6606e+00, -1.2220e+00,  3.2511e+00, -6.3696e-01, -1.0563e+00,\n",
       "        2.3579e-02, -2.8033e+00, -4.4422e+00, -1.5680e+00,  4.9652e+00,\n",
       "       -4.1188e+00, -7.5859e-01,  5.5137e-01,  1.0619e+00, -2.1758e+00,\n",
       "        3.3846e+00,  1.4701e+00, -2.6850e-01,  2.5430e+00, -6.4573e-02,\n",
       "       -3.7217e+00,  9.5536e-01, -2.0231e+00, -1.1520e+00,  3.6821e+00,\n",
       "       -2.3986e+00,  1.1853e+00, -4.0507e+00,  1.8801e+00,  1.8299e+00,\n",
       "       -8.3793e-02,  7.9863e-02,  1.9000e+00,  2.9470e+00,  2.3491e-01,\n",
       "        2.4762e+00,  1.3006e+00, -2.6663e-01,  1.6803e+00,  9.8253e-01,\n",
       "        2.2118e-01,  1.1651e-01, -2.6346e+00,  1.1913e+00,  2.1628e+00,\n",
       "        2.3669e+00,  6.2805e+00, -1.1726e+00, -4.9486e-01, -2.4154e+00,\n",
       "        1.5757e-01, -5.8183e-01, -5.8725e-01,  1.4411e+00,  8.1289e-01,\n",
       "        4.3990e-01,  2.2790e+00, -2.2209e+00, -3.7006e-01, -1.4243e-01,\n",
       "       -4.3114e-01, -7.6932e-01, -1.4523e-01, -3.3983e-01,  2.9733e+00,\n",
       "        4.6503e+00,  9.0318e-01, -2.4825e+00, -3.0954e+00,  1.8033e+00,\n",
       "        1.3400e+00,  1.9393e+00, -1.6640e+00,  5.1564e-01, -4.6333e+00,\n",
       "        9.9765e-01,  4.3045e+00, -4.4268e+00,  2.5306e+00,  1.9248e+00,\n",
       "       -2.5693e+00, -2.2347e+00,  3.5623e+00,  5.8046e-01, -1.0264e+00,\n",
       "       -4.2175e-01, -7.2386e-01,  1.7643e+00, -1.8059e+00, -3.0384e+00,\n",
       "        5.9110e-01, -1.2514e+00,  2.8594e+00, -6.4221e-01,  2.3993e+00,\n",
       "       -5.1352e+00, -3.3967e-01,  2.2469e+00, -2.6853e+00, -2.0995e-01,\n",
       "        1.5166e+00, -8.4111e-01, -3.7538e-02,  5.6736e-02, -2.9887e+00,\n",
       "        1.2397e+00, -6.1818e-01,  1.6310e+00, -5.5880e-01, -7.2123e-01,\n",
       "       -2.7492e+00, -2.3724e+00,  2.6324e-01, -2.0971e+00,  2.4341e+00,\n",
       "       -1.3230e+00,  1.5907e+00, -3.7885e+00,  8.0788e-02,  3.7193e+00],\n",
       "      dtype=float32)"
      ]
     },
     "execution_count": 11,
     "metadata": {},
     "output_type": "execute_result"
    }
   ],
   "source": [
    "doc[0].vector"
   ]
  },
  {
   "cell_type": "code",
   "execution_count": 12,
   "metadata": {},
   "outputs": [
    {
     "data": {
      "text/plain": [
       "(300,)"
      ]
     },
     "execution_count": 12,
     "metadata": {},
     "output_type": "execute_result"
    }
   ],
   "source": [
    "doc[0].vector.shape"
   ]
  },
  {
   "cell_type": "code",
   "execution_count": 13,
   "metadata": {},
   "outputs": [
    {
     "data": {
      "text/plain": [
       "NLP"
      ]
     },
     "execution_count": 13,
     "metadata": {},
     "output_type": "execute_result"
    }
   ],
   "source": [
    "doc[0]"
   ]
  },
  {
   "cell_type": "code",
   "execution_count": 14,
   "metadata": {},
   "outputs": [
    {
     "data": {
      "text/plain": [
       "0.04177408853929746"
      ]
     },
     "execution_count": 14,
     "metadata": {},
     "output_type": "execute_result"
    }
   ],
   "source": [
    "doc[0].similarity(nlp(\"apple\"))"
   ]
  },
  {
   "cell_type": "code",
   "execution_count": 15,
   "metadata": {},
   "outputs": [],
   "source": [
    "def preprocess(word):\n",
    "    return nlp(word) if type(word) == str else word"
   ]
  },
  {
   "cell_type": "code",
   "execution_count": 16,
   "metadata": {},
   "outputs": [],
   "source": [
    "def similarity(word1, word2):\n",
    "    word1_processed = preprocess(word1)\n",
    "    word2_processed = preprocess(word2)\n",
    "\n",
    "    return word1_processed.similarity(word2_processed)"
   ]
  },
  {
   "cell_type": "code",
   "execution_count": 17,
   "metadata": {},
   "outputs": [
    {
     "data": {
      "text/plain": [
       "0.22432187007915919"
      ]
     },
     "execution_count": 17,
     "metadata": {},
     "output_type": "execute_result"
    }
   ],
   "source": [
    "similarity(\"apple\", \"iron\")"
   ]
  },
  {
   "cell_type": "code",
   "execution_count": 18,
   "metadata": {},
   "outputs": [
    {
     "data": {
      "text/plain": [
       "0.6646700829971469"
      ]
     },
     "execution_count": 18,
     "metadata": {},
     "output_type": "execute_result"
    }
   ],
   "source": [
    "similarity(\"apple\", \"banana\")"
   ]
  },
  {
   "cell_type": "code",
   "execution_count": 19,
   "metadata": {},
   "outputs": [
    {
     "data": {
      "text/plain": [
       "0.4748513311632303"
      ]
     },
     "execution_count": 19,
     "metadata": {},
     "output_type": "execute_result"
    }
   ],
   "source": [
    "similarity(\"apple\", \"tree\")"
   ]
  },
  {
   "cell_type": "code",
   "execution_count": 20,
   "metadata": {},
   "outputs": [
    {
     "data": {
      "text/plain": [
       "770"
      ]
     },
     "execution_count": 20,
     "metadata": {},
     "output_type": "execute_result"
    }
   ],
   "source": [
    "len(nlp.vocab)"
   ]
  },
  {
   "cell_type": "code",
   "execution_count": 21,
   "metadata": {},
   "outputs": [],
   "source": [
    "def get_similar_words(word, n=5):\n",
    "    word_processed = preprocess(word)\n",
    "\n",
    "    return sorted([(w.text, word_processed.similarity(w)) for w in nlp.vocab if not w.text == word], key=lambda x: x[1], reverse=True)[:n]"
   ]
  },
  {
   "cell_type": "code",
   "execution_count": 22,
   "metadata": {},
   "outputs": [
    {
     "name": "stderr",
     "output_type": "stream",
     "text": [
      "C:\\Users\\opell\\AppData\\Local\\Temp\\ipykernel_26136\\1258224466.py:4: UserWarning: [W008] Evaluating Doc.similarity based on empty vectors.\n",
      "  return sorted([(w.text, word_processed.similarity(w)) for w in nlp.vocab if not w.text == word], key=lambda x: x[1], reverse=True)[:n]\n"
     ]
    },
    {
     "data": {
      "text/plain": [
       "[('banana', 0.6646701044892316),\n",
       " ('tree', 0.47485133693470405),\n",
       " ('somethin', 0.3638980905718291),\n",
       " ('somethin’', 0.36182656862323337),\n",
       " ('it', 0.35645755265569856)]"
      ]
     },
     "execution_count": 22,
     "metadata": {},
     "output_type": "execute_result"
    }
   ],
   "source": [
    "get_similar_words(\"apple\")"
   ]
  },
  {
   "cell_type": "code",
   "execution_count": 23,
   "metadata": {},
   "outputs": [
    {
     "name": "stderr",
     "output_type": "stream",
     "text": [
      "C:\\Users\\opell\\AppData\\Local\\Temp\\ipykernel_26136\\1258224466.py:4: UserWarning: [W008] Evaluating Doc.similarity based on empty vectors.\n",
      "  return sorted([(w.text, word_processed.similarity(w)) for w in nlp.vocab if not w.text == word], key=lambda x: x[1], reverse=True)[:n]\n"
     ]
    },
    {
     "data": {
      "text/plain": [
       "[('that', 0.4336161649178943),\n",
       " ('r.', 0.4104969258231927),\n",
       " (\"there's\", 0.3824636279612441),\n",
       " ('that’s', 0.3767074928394765),\n",
       " ('there', 0.3713808551276863)]"
      ]
     },
     "execution_count": 23,
     "metadata": {},
     "output_type": "execute_result"
    }
   ],
   "source": [
    "get_similar_words(\"king\")"
   ]
  },
  {
   "cell_type": "code",
   "execution_count": 24,
   "metadata": {},
   "outputs": [
    {
     "name": "stderr",
     "output_type": "stream",
     "text": [
      "C:\\Users\\opell\\AppData\\Local\\Temp\\ipykernel_26136\\1258224466.py:4: UserWarning: [W008] Evaluating Doc.similarity based on empty vectors.\n",
      "  return sorted([(w.text, word_processed.similarity(w)) for w in nlp.vocab if not w.text == word], key=lambda x: x[1], reverse=True)[:n]\n"
     ]
    },
    {
     "data": {
      "text/plain": [
       "[('awesome', 0.5707149998675046),\n",
       " ('lovin’', 0.4617219807870169),\n",
       " (':)', 0.4368965135273402),\n",
       " ('lovin', 0.40581818923123614),\n",
       " (\"lovin'\", 0.39599886980606946)]"
      ]
     },
     "execution_count": 24,
     "metadata": {},
     "output_type": "execute_result"
    }
   ],
   "source": [
    "get_similar_words(\"cute\")"
   ]
  },
  {
   "cell_type": "code",
   "execution_count": 25,
   "metadata": {},
   "outputs": [
    {
     "data": {
      "text/plain": [
       "array([ 3.34074020e+00, -3.08738995e+00, -2.88100004e+00, -1.69709992e+00,\n",
       "        4.73387003e+00,  1.33077002e+00, -5.06017017e+00,  1.76971984e+00,\n",
       "       -1.11481011e+00, -6.21999741e-01,  1.81067009e+01, -2.63325024e+00,\n",
       "       -7.16613007e+00,  2.06383967e+00, -3.11339736e-01, -1.45500004e+00,\n",
       "        1.64300001e+00,  3.09140015e+00,  9.71500039e-01, -9.25306988e+00,\n",
       "       -8.23252964e+00, -8.63244915e+00, -1.54496014e+00,  1.43825998e+01,\n",
       "       -1.21556687e+00,  1.33922982e+00,  3.10234976e+00, -6.70313895e-01,\n",
       "       -1.17376995e+00,  8.91779900e-01,  1.43960989e+00, -8.76681995e+00,\n",
       "       -3.03450048e-01, -7.94966984e+00,  7.61654997e+00, -8.41329992e-01,\n",
       "        7.41940975e+00, -2.12102234e-02,  4.52541018e+00, -2.50420094e-01,\n",
       "        4.19232988e+00,  6.75835967e-01, -3.96795011e+00,  2.45739985e+00,\n",
       "        3.14150095e-01,  1.59208000e+00,  1.09319997e+00,  2.92869997e+00,\n",
       "        1.74620008e+00, -5.08524990e+00, -7.72959995e+00, -1.88809991e+00,\n",
       "       -1.52680302e+00, -1.42860997e+00, -2.37373996e+00, -1.73599720e-02,\n",
       "       -8.03249931e+00, -5.69360018e+00,  3.39297986e+00,  7.68400002e+00,\n",
       "        2.89684987e+00, -5.68919992e+00,  1.37135000e+01, -2.20197010e+00,\n",
       "        2.31572986e+00,  3.96750045e+00, -8.80910015e+00,  2.96800375e-01,\n",
       "        1.37384996e+01,  3.25522995e+00, -4.91300011e+00,  2.42599988e+00,\n",
       "       -5.29377985e+00, -7.08080006e+00, -7.33890009e+00,  8.27210045e+00,\n",
       "       -8.23567963e+00,  3.77029991e+00, -8.41989994e-01,  1.05713997e+01,\n",
       "       -8.30439949e+00, -3.49099994e-01, -5.63012409e+00,  3.59669971e+00,\n",
       "        3.40370059e-01,  1.75337982e+00,  1.32539999e+00,  1.54020000e+00,\n",
       "       -3.90671015e+00, -2.57667017e+00,  5.86799979e-02,  5.88536978e+00,\n",
       "       -2.96899939e+00, -5.04499674e-01, -7.64650011e+00,  2.33511496e+00,\n",
       "        6.09309006e+00,  1.05203009e+00, -8.95779991e+00,  6.94073963e+00,\n",
       "       -9.67199993e+00,  7.07964993e+00,  5.47078037e+00,  4.14588976e+00,\n",
       "        8.77884960e+00,  7.85320997e+00, -3.17080021e+00,  4.68527985e+00,\n",
       "        1.91231012e-01, -3.94210005e+00, -4.54890013e+00,  1.24426003e+01,\n",
       "       -3.53290081e-01, -7.55490017e+00,  9.34179974e+00, -1.38110018e+00,\n",
       "       -4.35000038e+00, -7.55898952e-02,  1.14671993e+00, -5.44202042e+00,\n",
       "       -7.24695981e-01, -9.56979871e-01,  9.73066521e+00, -9.59870052e+00,\n",
       "        1.25404203e+00, -1.08580999e+01, -5.08388042e+00, -1.39087105e+01,\n",
       "       -4.66380024e+00,  1.66999102e-02, -9.58605957e+00,  3.79141998e+00,\n",
       "       -2.01326966e+00,  2.98263502e+00,  1.55220139e+00, -8.50673008e+00,\n",
       "       -4.44169044e+00, -9.01050091e-01, -3.06550026e+00, -1.08494997e+01,\n",
       "       -8.73439980e+00,  2.72128677e+00, -4.03460026e+00,  3.91890001e+00,\n",
       "        4.49386024e+00, -3.42200279e-01, -5.52129936e+00,  5.70900011e+00,\n",
       "        4.39751005e+00, -2.08570004e-01, -6.39497280e+00,  4.53369999e+00,\n",
       "        1.89918005e+00,  8.29107475e+00,  3.68529010e+00,  1.77200079e-01,\n",
       "       -6.83133030e+00, -2.03750044e-01, -3.82399797e-01, -2.23329723e-01,\n",
       "       -6.89639997e+00, -6.94910049e+00, -1.42600012e+00, -6.44721317e+00,\n",
       "       -3.65400004e+00, -1.28372002e+01, -8.86452007e+00, -5.60519028e+00,\n",
       "       -3.81599998e+00,  1.88749909e-01,  7.94900036e+00, -7.61870050e+00,\n",
       "       -6.07341290e+00, -2.98502040e+00, -1.11976981e+00, -4.49939966e+00,\n",
       "        2.12669849e-01, -2.67507005e+00,  3.40699911e-01,  9.29299951e-01,\n",
       "        1.60689998e+00,  3.41250038e+00, -2.18129992e+00, -4.44572020e+00,\n",
       "        8.75508022e+00,  5.91515017e+00, -1.45058978e+00,  1.52566004e+00,\n",
       "       -4.57810020e+00,  3.99249983e+00,  4.42290020e+00, -1.16467991e+01,\n",
       "       -8.27600002e+00,  1.46336007e+00,  1.95549011e+00,  2.06021881e+00,\n",
       "       -1.67541981e+00, -4.08419991e+00,  7.93190002e-01,  7.63860035e+00,\n",
       "       -1.56809974e+00,  3.22990060e-01, -5.54949951e+00,  1.67990994e+00,\n",
       "       -3.40470004e+00, -6.49031019e+00,  6.51225948e+00,  9.93140030e+00,\n",
       "       -5.02900124e-01,  1.28626003e+01, -9.86509979e-01,  3.14451981e+00,\n",
       "        7.73979998e+00,  7.54859972e+00,  1.45770979e+00,  3.92359972e+00,\n",
       "        8.39737988e+00, -4.67021036e+00,  3.52635002e+00, -8.74260044e+00,\n",
       "       -6.73887014e+00,  3.27029943e+00, -2.57840014e+00,  7.36010027e+00,\n",
       "       -5.79560041e-01, -4.67140007e+00,  6.16240025e+00,  8.02859974e+00,\n",
       "       -4.72138977e+00,  1.00935993e+01, -1.52339983e+00,  2.18744993e+00,\n",
       "       -3.47049999e+00,  1.01210995e+01,  6.79009104e+00,  6.95550060e+00,\n",
       "       -2.73960018e+00, -5.36288023e+00, -4.52810001e+00,  4.68389988e+00,\n",
       "        2.26539969e-01,  1.17507000e+01, -1.42852993e+01, -2.30999947e-01,\n",
       "        1.30849981e+00, -3.23040009e+00,  4.58139992e+00,  7.58691025e+00,\n",
       "        1.16140008e+00, -1.41229010e+00,  2.10977006e+00, -4.19963026e+00,\n",
       "       -5.70038986e+00,  2.34600019e+00,  8.75970125e-01, -1.88286991e+01,\n",
       "        5.07470036e+00,  4.46270037e+00,  3.59084988e+00,  2.57700205e-01,\n",
       "       -2.13700056e-01, -3.66437984e+00, -1.09039998e+00, -8.07400048e-02,\n",
       "        2.58860993e+00,  2.65678883e-01, -1.92872989e+00,  1.96155000e+00,\n",
       "       -9.88290024e+00,  9.79409981e+00, -1.46746004e+00,  5.87400019e-01,\n",
       "       -6.68030024e+00,  5.36299944e-02, -9.14690018e-01, -1.71390009e+00,\n",
       "        4.40623999e+00, -2.71611691e+00,  2.12709951e+00, -6.94399834e-01,\n",
       "       -7.32699871e-01, -4.81199980e-01,  6.30239964e+00,  3.24569988e+00,\n",
       "        1.64529967e+00,  2.00390005e+00,  2.95104980e+00,  4.71360016e+00,\n",
       "       -5.25000095e-01, -4.74959993e+00,  1.34240007e+00,  2.02519989e+00,\n",
       "       -2.86377001e+00, -1.59829998e+00,  3.78058004e+00,  9.20999908e+00,\n",
       "       -4.85201979e+00, -8.62119961e+00, -1.21305695e+01,  8.70700002e-01],\n",
       "      dtype=float32)"
      ]
     },
     "execution_count": 25,
     "metadata": {},
     "output_type": "execute_result"
    }
   ],
   "source": [
    "king = nlp.vocab[\"king\"].vector\n",
    "queen = nlp.vocab[\"queen\"].vector\n",
    "man = nlp.vocab[\"man\"].vector\n",
    "\n",
    "what_is_this = king - man + queen\n",
    "\n",
    "what_is_this"
   ]
  },
  {
   "cell_type": "code",
   "execution_count": 26,
   "metadata": {},
   "outputs": [
    {
     "name": "stderr",
     "output_type": "stream",
     "text": [
      "c:\\Users\\opell\\anaconda3\\envs\\KDP\\lib\\site-packages\\scipy\\spatial\\distance.py:620: RuntimeWarning: invalid value encountered in float_scalars\n",
      "  dist = 1.0 - uv / np.sqrt(uu * vv)\n"
     ]
    }
   ],
   "source": [
    "from scipy import spatial\n",
    "\n",
    "def cosine_similarity(v, u):\n",
    "    return 1 - spatial.distance.cosine(v, u)\n",
    "\n",
    "similarities = {}\n",
    "\n",
    "for word in nlp.vocab:\n",
    "    if word.is_alpha:\n",
    "        similarities[word.text] = cosine_similarity(what_is_this, word.vector)\n",
    "\n"
   ]
  },
  {
   "cell_type": "code",
   "execution_count": 27,
   "metadata": {},
   "outputs": [
    {
     "data": {
      "text/plain": [
       "[('nuthin', 1), ('xDD', 1), ('Nuthin', 1), ('XDD', 1), ('Nebr', 1)]"
      ]
     },
     "execution_count": 27,
     "metadata": {},
     "output_type": "execute_result"
    }
   ],
   "source": [
    "sorted(similarities.items(), key=lambda x: x[1], reverse=True)[:5]"
   ]
  },
  {
   "cell_type": "markdown",
   "metadata": {},
   "source": [
    "## Visualizing word vectors"
   ]
  },
  {
   "cell_type": "code",
   "execution_count": 28,
   "metadata": {},
   "outputs": [
    {
     "data": {
      "text/plain": [
       "(514157, 300)"
      ]
     },
     "execution_count": 28,
     "metadata": {},
     "output_type": "execute_result"
    }
   ],
   "source": [
    "nlp.vocab.vectors.data.shape"
   ]
  },
  {
   "cell_type": "code",
   "execution_count": 29,
   "metadata": {
    "tags": []
   },
   "outputs": [
    {
     "data": {
      "image/png": "[encoded data removed]",
      "text/plain": [
       "<Figure size 640x480 with 1 Axes>"
      ]
     },
     "metadata": {},
     "output_type": "display_data"
    }
   ],
   "source": [
    "import matplotlib.pyplot as plt\n",
    "from sklearn.decomposition import PCA\n",
    "\n",
    "WORDS = [\"happy\", \"unhappy\", \"cute\", \"ugly\", \"big\", \"small\", \"king\", \"man\", \"queen\", \"woman\", \"puppy\", \"dog\", \"kitty\", \"cat\", \"whale\", \"shark\", \"fish\", \"ocean\"]\n",
    "\n",
    "data = []\n",
    "data_annotation = []\n",
    "\n",
    "for v in nlp.vocab.vectors:\n",
    "    word = nlp.vocab[v]\n",
    "\n",
    "    if word in WORDS:\n",
    "        data.append(word.vector)\n",
    "        data_annotation.append(word.lower_)\n",
    "#data = np.array([word.vector for word in nlp.vocab if word.lower_ in WORDS])\n",
    "\n",
    "\n",
    "pca = PCA(n_components=2)\n",
    "reduced_dims = pca.fit_transform(data)\n",
    "\n",
    "fig, ax = plt.subplots()\n",
    "ax.scatter(reduced_dims[:, 0], reduced_dims[:, 1])\n",
    "\n",
    "vocabulary = list(nlp.vocab.strings)\n",
    "\n",
    "for i in range(len(data)):\n",
    "    ax.annotate(data_annotation[i], (reduced_dims[i, 0], reduced_dims[i, 1]))"
   ]
  }
 ],
 "metadata": {
  "kernelspec": {
   "display_name": "Python 3.10.4 ('KDP')",
   "language": "python",
   "name": "python3"
  },
  "language_info": {
   "codemirror_mode": {
    "name": "ipython",
    "version": 3
   },
   "file_extension": ".py",
   "mimetype": "text/x-python",
   "name": "python",
   "nbconvert_exporter": "python",
   "pygments_lexer": "ipython3",
   "version": "3.10.4"
  },
  "orig_nbformat": 2,
  "vscode": {
   "interpreter": {
    "hash": "052bdad6d6145d25c810b0f80d4c546f13dec5c1a0a276efb0116a77263e17e9"
   }
  }
 },
 "nbformat": 4,
 "nbformat_minor": 2
}
