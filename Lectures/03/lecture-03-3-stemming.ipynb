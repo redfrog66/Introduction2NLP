{
 "metadata": {
  "language_info": {
   "codemirror_mode": {
    "name": "ipython",
    "version": 3
   },
   "file_extension": ".py",
   "mimetype": "text/x-python",
   "name": "python",
   "nbconvert_exporter": "python",
   "pygments_lexer": "ipython3",
   "version": "3.8.5-final"
  },
  "orig_nbformat": 2,
  "kernelspec": {
   "name": "python3",
   "display_name": "Python 3",
   "language": "python"
  }
 },
 "nbformat": 4,
 "nbformat_minor": 2,
 "cells": [
  {
   "source": [
    "# Stemming"
   ],
   "cell_type": "markdown",
   "metadata": {}
  },
  {
   "cell_type": "code",
   "execution_count": 1,
   "metadata": {},
   "outputs": [
    {
     "output_type": "stream",
     "name": "stdout",
     "text": [
      "Requirement already satisfied: nltk in c:\\users\\opell.desktop-ueq8dpv\\anaconda3\\lib\\site-packages (3.5)\nRequirement already satisfied: tqdm in c:\\users\\opell.desktop-ueq8dpv\\anaconda3\\lib\\site-packages (from nltk) (4.50.2)\nRequirement already satisfied: click in c:\\users\\opell.desktop-ueq8dpv\\anaconda3\\lib\\site-packages (from nltk) (7.1.2)\nRequirement already satisfied: regex in c:\\users\\opell.desktop-ueq8dpv\\anaconda3\\lib\\site-packages (from nltk) (2020.10.15)\nRequirement already satisfied: joblib in c:\\users\\opell.desktop-ueq8dpv\\anaconda3\\lib\\site-packages (from nltk) (0.17.0)\nNote: you may need to restart the kernel to use updated packages.\n"
     ]
    }
   ],
   "source": [
    "pip install nltk"
   ]
  },
  {
   "cell_type": "code",
   "execution_count": 2,
   "metadata": {},
   "outputs": [
    {
     "output_type": "stream",
     "name": "stdout",
     "text": [
      "showing info https://raw.githubusercontent.com/nltk/nltk_data/gh-pages/index.xml\n"
     ]
    },
    {
     "output_type": "execute_result",
     "data": {
      "text/plain": [
       "True"
      ]
     },
     "metadata": {},
     "execution_count": 2
    }
   ],
   "source": [
    "# https://www.nltk.org/\n",
    "import nltk"
   ]
  },
  {
   "cell_type": "code",
   "execution_count": null,
   "metadata": {},
   "outputs": [],
   "source": [
    "# graphical interface\n",
    "nltk.download()"
   ]
  },
  {
   "source": [
    "## English stemmers"
   ],
   "cell_type": "markdown",
   "metadata": {}
  },
  {
   "cell_type": "code",
   "execution_count": 15,
   "metadata": {},
   "outputs": [
    {
     "output_type": "stream",
     "name": "stdout",
     "text": [
      "Lancaster Stemmer\ndog\nharm\nharm\nharm\nharmony\nharmless\nharm\n"
     ]
    }
   ],
   "source": [
    "from nltk.stem import LancasterStemmer\n",
    "\n",
    "lancaster_stemmer = LancasterStemmer()\n",
    "\n",
    "print(\"Lancaster Stemmer\")\n",
    "print(lancaster_stemmer.stem(\"dogs\"))\n",
    "print(lancaster_stemmer.stem(\"harm\"))\n",
    "print(lancaster_stemmer.stem(\"harming\"))\n",
    "print(lancaster_stemmer.stem(\"harmed\"))\n",
    "print(lancaster_stemmer.stem(\"harmony\"))\n",
    "print(lancaster_stemmer.stem(\"harmless\"))\n",
    "print(lancaster_stemmer.stem(\"harmful\"))"
   ]
  },
  {
   "cell_type": "code",
   "execution_count": 16,
   "metadata": {},
   "outputs": [
    {
     "output_type": "stream",
     "name": "stdout",
     "text": [
      "Porter Stemmer\ndog\nharm\nharm\nharm\nharmoni\nharmless\nharm\n"
     ]
    }
   ],
   "source": [
    "# https://tartarus.org/martin/PorterStemmer/index.html\n",
    "# https://tartarus.org/martin/PorterStemmer/def.txt\n",
    "from nltk.stem import PorterStemmer  \n",
    "\n",
    "porter_stemmer = PorterStemmer()\n",
    "\n",
    "print(\"Porter Stemmer\")\n",
    "print(porter_stemmer.stem(\"dogs\"))\n",
    "print(porter_stemmer.stem(\"harm\"))\n",
    "print(porter_stemmer.stem(\"harming\"))\n",
    "print(porter_stemmer.stem(\"harmed\"))\n",
    "print(porter_stemmer.stem(\"harmony\"))\n",
    "print(porter_stemmer.stem(\"harmless\"))\n",
    "print(porter_stemmer.stem(\"harmful\"))"
   ]
  },
  {
   "cell_type": "code",
   "execution_count": 17,
   "metadata": {},
   "outputs": [
    {
     "output_type": "stream",
     "name": "stdout",
     "text": [
      "Word                Porter Stemmer      lancaster Stemmer   \nfriend              friend              friend              \nfriendship          friendship          friend              \nfriends             friend              friend              \nfriendships         friendship          friend              \nstabil              stabil              stabl               \ndestabilize         destabil            dest                \nmisunderstanding    misunderstand       misunderstand       \nrailroad            railroad            railroad            \nmoonlight           moonlight           moonlight           \nfootball            footbal             footbal             \n"
     ]
    }
   ],
   "source": [
    "word_list = [\"friend\", \"friendship\", \"friends\", \"friendships\",\n",
    "             \"stabil\",\"destabilize\",\"misunderstanding\",\n",
    "             \"railroad\",\"moonlight\",\"football\"]\n",
    "\n",
    "print(\"{0:20}{1:20}{2:20}\".format(\"Word\",\"Porter Stemmer\",\"lancaster Stemmer\"))\n",
    "\n",
    "for word in word_list:\n",
    "    print(\"{0:20}{1:20}{2:20}\".format(word,porter_stemmer.stem(word),lancaster_stemmer.stem(word)))"
   ]
  },
  {
   "source": [
    "## Non-English Stemmers\n",
    "### SnowballStemmers : \n",
    "    Danish, Dutch, English, French, German, Hungarian, Italian, \n",
    "    Norwegian, Porter, Portuguese, Romanian, Russian, Spanish, Swedish\n",
    "### ISRIStemmer\n",
    "    Arabic\n",
    "### RSLPSStemmer\n",
    "    Portuguese "
   ],
   "cell_type": "markdown",
   "metadata": {}
  },
  {
   "cell_type": "code",
   "execution_count": 22,
   "metadata": {},
   "outputs": [
    {
     "output_type": "execute_result",
     "data": {
      "text/plain": [
       "'futott'"
      ]
     },
     "metadata": {},
     "execution_count": 22
    }
   ],
   "source": [
    "from nltk.stem.snowball import SnowballStemmer\n",
    "\n",
    "hungarian_stemmer = SnowballStemmer(\"hungarian\")\n",
    "hungarian_stemmer.stem(\"futottak\")"
   ]
  }
 ]
}