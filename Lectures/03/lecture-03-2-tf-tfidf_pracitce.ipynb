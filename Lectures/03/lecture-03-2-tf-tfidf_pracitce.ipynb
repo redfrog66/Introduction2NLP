{
 "cells": [
  {
   "cell_type": "code",
   "execution_count": null,
   "metadata": {},
   "outputs": [],
   "source": [
    "import pandas as pd\n",
    "\n",
    "# Olvasd be a Blombert CSV-t\n",
    "tweets = pd.read_csv(#CODE#, sep=\";\")\n",
    "tweets.info()\n",
    "tweets.head()"
   ]
  },
  {
   "cell_type": "code",
   "execution_count": null,
   "metadata": {},
   "outputs": [],
   "source": [
    "tweets = tweets.dropna() "
   ]
  },
  {
   "cell_type": "markdown",
   "metadata": {},
   "source": [
    "## TF-IDF"
   ]
  },
  {
   "cell_type": "code",
   "execution_count": null,
   "metadata": {},
   "outputs": [],
   "source": [
    "from sklearn.feature_extraction.text import TfidfVectorizer\n",
    "\n",
    "VOCAB_SIZE = #CODE#\n",
    "\n",
    "vectorizer = TfidfVectorizer(max_features=VOCAB_SIZE)\n",
    "\n",
    "X = vectorizer.fit_transform(tweets[\"text\"])\n",
    "\n",
    "X"
   ]
  },
  {
   "cell_type": "code",
   "execution_count": null,
   "metadata": {},
   "outputs": [],
   "source": [
    "tweets[20]"
   ]
  },
  {
   "cell_type": "code",
   "execution_count": null,
   "metadata": {},
   "outputs": [],
   "source": [
    "# Nézd meg a 20 elemhez tartozó értékeket\n",
    "item_idx = #CODE#\n",
    "[vectorizer.get_feature_names()[idx] for idx, value in enumerate(X[item_idx, :]) if value > 0]"
   ]
  },
  {
   "cell_type": "code",
   "execution_count": null,
   "metadata": {
    "tags": []
   },
   "outputs": [],
   "source": [
    "# Írasd ki a feature neveket\n",
    "vectorizer.get_feature_names()"
   ]
  }
 ],
 "metadata": {
  "kernelspec": {
   "display_name": "Python 3.10.4 ('KDP')",
   "language": "python",
   "name": "python3"
  },
  "language_info": {
   "codemirror_mode": {
    "name": "ipython",
    "version": 3
   },
   "file_extension": ".py",
   "mimetype": "text/x-python",
   "name": "python",
   "nbconvert_exporter": "python",
   "pygments_lexer": "ipython3",
   "version": "3.10.4"
  },
  "orig_nbformat": 2,
  "vscode": {
   "interpreter": {
    "hash": "052bdad6d6145d25c810b0f80d4c546f13dec5c1a0a276efb0116a77263e17e9"
   }
  }
 },
 "nbformat": 4,
 "nbformat_minor": 2
}
