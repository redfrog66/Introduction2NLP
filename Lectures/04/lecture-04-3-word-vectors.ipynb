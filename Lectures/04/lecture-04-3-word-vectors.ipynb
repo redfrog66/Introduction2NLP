{
 "metadata": {
  "language_info": {
   "codemirror_mode": {
    "name": "ipython",
    "version": 3
   },
   "file_extension": ".py",
   "mimetype": "text/x-python",
   "name": "python",
   "nbconvert_exporter": "python",
   "pygments_lexer": "ipython3",
   "version": "3.7.9-final"
  },
  "orig_nbformat": 2,
  "kernelspec": {
   "name": "python3",
   "display_name": "Python 3",
   "language": "python"
  }
 },
 "nbformat": 4,
 "nbformat_minor": 2,
 "cells": [
  {
   "source": [
    "# Word vectors"
   ],
   "cell_type": "markdown",
   "metadata": {}
  },
  {
   "cell_type": "code",
   "execution_count": 1,
   "metadata": {},
   "outputs": [],
   "source": [
    "# pip install spacy"
   ]
  },
  {
   "cell_type": "code",
   "execution_count": 2,
   "metadata": {},
   "outputs": [],
   "source": [
    "# ! python -m spacy download en_core_web_lg"
   ]
  },
  {
   "cell_type": "code",
   "execution_count": 3,
   "metadata": {},
   "outputs": [],
   "source": [
    "import spacy\n",
    "\n",
    "nlp = spacy.load('en_core_web_lg')"
   ]
  },
  {
   "cell_type": "code",
   "execution_count": 4,
   "metadata": {},
   "outputs": [],
   "source": [
    "doc = nlp(\"NLP is awesome\")"
   ]
  },
  {
   "cell_type": "code",
   "execution_count": 5,
   "metadata": {},
   "outputs": [
    {
     "output_type": "execute_result",
     "data": {
      "text/plain": [
       "NLP is awesome"
      ]
     },
     "metadata": {},
     "execution_count": 5
    }
   ],
   "source": [
    "doc"
   ]
  },
  {
   "cell_type": "code",
   "execution_count": 6,
   "metadata": {},
   "outputs": [
    {
     "output_type": "stream",
     "name": "stdout",
     "text": [
      "[('tagger', <spacy.pipeline.pipes.Tagger object at 0x0000021A6B524288>), ('parser', <spacy.pipeline.pipes.DependencyParser object at 0x0000021A6B41D168>), ('ner', <spacy.pipeline.pipes.EntityRecognizer object at 0x0000021A6B41D108>)]\n"
     ]
    }
   ],
   "source": [
    "print(nlp.pipeline)"
   ]
  },
  {
   "cell_type": "code",
   "execution_count": 7,
   "metadata": {},
   "outputs": [
    {
     "output_type": "stream",
     "name": "stdout",
     "text": [
      "NLP PROPN\nis AUX\nawesome ADJ\n"
     ]
    }
   ],
   "source": [
    "for token in doc:\n",
    "    print(token.text, token.pos_)"
   ]
  },
  {
   "cell_type": "code",
   "execution_count": 8,
   "metadata": {},
   "outputs": [
    {
     "output_type": "execute_result",
     "data": {
      "text/plain": [
       "NLP"
      ]
     },
     "metadata": {},
     "execution_count": 8
    }
   ],
   "source": [
    "doc[0]"
   ]
  },
  {
   "cell_type": "code",
   "execution_count": 9,
   "metadata": {},
   "outputs": [
    {
     "output_type": "execute_result",
     "data": {
      "text/plain": [
       "array([-1.0566e-01,  3.7785e-01, -1.0228e-02,  4.5650e-01,  4.8863e-01,\n",
       "        1.6889e-01,  1.4674e-01, -5.9620e-01,  6.7585e-01, -6.3618e-01,\n",
       "       -5.0792e-01, -7.4938e-03, -1.7841e-01, -5.5094e-01,  2.6550e-01,\n",
       "       -1.2943e-01, -2.5246e-01, -1.8112e-01, -2.2629e-01, -5.4580e-01,\n",
       "        8.3134e-02,  4.8255e-01,  1.5798e-01, -1.4961e-01, -3.8963e-01,\n",
       "        2.1353e-01,  3.8718e-01, -8.2669e-02,  4.7962e-02, -2.8362e-01,\n",
       "       -1.2079e-02, -7.0894e-01,  2.7506e-01,  3.1675e-01,  3.1739e-01,\n",
       "        4.1278e-01,  6.6155e-01,  2.5729e-01, -3.8667e-01, -3.1865e-01,\n",
       "        2.2205e-01, -8.6112e-01, -4.4753e-01,  6.2978e-01,  4.1762e-01,\n",
       "        3.5762e-01,  5.0012e-02,  2.0502e-02, -5.2038e-02, -6.0737e-01,\n",
       "        1.6322e-01, -2.6724e-01, -2.8658e-01,  2.1772e-01, -5.1363e-02,\n",
       "        5.1384e-01,  1.6027e-01,  1.2481e+00, -8.4226e-02, -1.7538e-01,\n",
       "       -4.1476e-01,  2.7219e-01, -1.6987e-01, -1.0548e+00,  6.6929e-01,\n",
       "        3.9349e-01,  2.0599e-01, -6.7270e-02, -5.0668e-01, -1.4693e-01,\n",
       "       -6.1357e-01, -3.4413e-01,  6.9667e-01, -1.1798e-01, -1.8542e-01,\n",
       "        1.0904e-01, -8.0520e-01, -2.0105e-01, -3.9116e-01, -1.8436e-01,\n",
       "       -7.6836e-02,  2.0088e-01,  7.2095e-01, -4.5358e-01, -3.4529e-01,\n",
       "        3.6597e-01,  2.9436e-01, -1.3379e-01,  1.3390e-01,  4.2926e-02,\n",
       "       -7.8995e-02, -2.1269e-01, -3.1996e-01,  5.1625e-02, -3.4956e-01,\n",
       "        1.3299e-01,  6.7181e-01,  3.9116e-01, -7.4943e-02, -1.2047e+00,\n",
       "       -4.5533e-01, -5.0603e-01, -3.6401e-01, -7.8773e-03,  8.1638e-01,\n",
       "       -1.4216e+00,  9.6623e-01,  5.7236e-01, -2.5422e-01,  7.4226e-01,\n",
       "        3.1625e-03,  1.7967e-01, -4.3484e-01, -7.0884e-01, -1.9701e-01,\n",
       "        5.2677e-02,  5.7130e-01,  1.0840e-01,  1.6382e-01,  5.1581e-02,\n",
       "        1.3532e-01,  5.1425e-01, -1.7685e-01,  2.3781e-01, -6.8046e-02,\n",
       "       -3.0486e-01, -1.9996e-01,  6.9485e-01,  9.7962e-03,  1.4794e-01,\n",
       "       -3.4052e-01, -5.2329e-01,  1.6724e-01, -6.8747e-01,  7.6560e-01,\n",
       "       -1.9175e-01,  3.8335e-01,  2.9449e-02,  3.4828e-02, -5.4609e-01,\n",
       "        2.8755e-01, -2.5129e-01,  2.0563e-01, -3.4883e-01, -2.3055e-01,\n",
       "       -2.4189e-02,  1.2541e+00, -3.7450e-01, -3.0379e-01,  1.9338e-01,\n",
       "        1.9349e-01, -1.0647e+00, -6.8102e-01,  7.2020e-01, -3.5460e-01,\n",
       "       -3.2397e-01,  2.5138e-01, -2.3732e-01,  3.9634e-01,  5.2596e-01,\n",
       "       -1.2662e-01, -2.5723e-01,  1.3970e-01,  6.9221e-02,  3.7726e-01,\n",
       "       -1.1221e-01, -2.9522e-01, -7.6855e-01, -6.4044e-01, -1.4843e-01,\n",
       "        3.0595e-01,  2.7931e-01,  8.9254e-03,  9.3240e-02, -1.4832e-01,\n",
       "        4.4251e-01,  1.3353e-01,  2.6121e-01,  4.5843e-01, -3.7755e-01,\n",
       "        8.4045e-02,  1.1577e-01, -2.8946e-01, -3.4757e-01,  2.2395e-01,\n",
       "        1.1249e-01, -2.1378e-01,  5.4466e-01,  9.5796e-02,  1.1707e-02,\n",
       "        3.0618e-01, -7.6751e-01,  1.0190e-01, -7.1090e-01,  1.0259e-01,\n",
       "        5.4671e-01,  3.5822e-01, -4.5653e-01,  1.5463e+00, -3.3260e-01,\n",
       "       -4.1671e-01, -9.6153e-01,  4.3680e-01,  2.8670e-01, -1.2198e+00,\n",
       "       -2.1870e-01, -1.9923e-01, -3.7497e-01, -1.8607e-01,  3.7712e-01,\n",
       "       -5.2569e-01, -3.5194e-01, -4.8485e-02,  7.0313e-02,  8.6681e-02,\n",
       "        8.9974e-02,  1.3641e-01,  4.9293e-02,  1.1483e-01, -1.4399e-01,\n",
       "       -3.3915e-01,  2.5631e-01,  2.4067e-01, -1.8579e-01, -9.5525e-01,\n",
       "        3.7027e-01, -9.0672e-01, -2.9167e-01, -9.1001e-01,  6.9787e-01,\n",
       "       -7.6931e-01, -3.7805e-01, -3.2606e-01,  1.9932e-01, -6.0722e-01,\n",
       "        9.9476e-02,  4.6670e-02,  3.8538e-01, -4.6382e-01, -6.4956e-02,\n",
       "        3.6503e-01, -7.4729e-02,  5.9246e-02, -8.5878e-01,  1.9341e-01,\n",
       "       -1.3016e+00, -1.5103e-01,  3.4008e-01, -1.1579e-01, -1.3692e-01,\n",
       "        8.9755e-02, -1.7729e-01,  2.7765e-01, -2.3432e-01, -2.1567e-01,\n",
       "       -7.0866e-01, -6.7314e-01, -6.6414e-01,  1.5175e-01, -6.3168e-01,\n",
       "        3.1395e-01, -4.8451e-01,  3.0866e-01,  1.0820e-02, -2.2585e-01,\n",
       "       -6.0322e-01, -1.4628e-01,  6.9587e-01, -2.5303e-01,  1.1771e-01,\n",
       "       -1.1018e+00, -1.6768e-01, -2.4193e-01, -1.0351e-01,  4.4369e-01,\n",
       "       -5.5124e-02,  2.2119e-01, -5.2161e-01,  4.0438e-01, -5.3515e-01,\n",
       "        1.9887e-01, -3.9262e-01,  9.8641e-02,  1.9809e-02,  4.4441e-01,\n",
       "       -1.6216e-01, -2.3499e-02, -3.0407e-02,  8.9885e-02,  1.9665e-01,\n",
       "        8.4248e-01,  1.1790e-03, -4.7616e-01,  1.0941e-01,  2.9955e-01,\n",
       "        7.9308e-01,  4.3678e-01,  5.3124e-01, -7.1275e-01,  5.0830e-01],\n",
       "      dtype=float32)"
      ]
     },
     "metadata": {},
     "execution_count": 9
    }
   ],
   "source": [
    "doc[0].vector"
   ]
  },
  {
   "cell_type": "code",
   "execution_count": 10,
   "metadata": {},
   "outputs": [
    {
     "output_type": "execute_result",
     "data": {
      "text/plain": [
       "(300,)"
      ]
     },
     "metadata": {},
     "execution_count": 10
    }
   ],
   "source": [
    "doc[0].vector.shape"
   ]
  },
  {
   "cell_type": "code",
   "execution_count": 11,
   "metadata": {},
   "outputs": [
    {
     "output_type": "execute_result",
     "data": {
      "text/plain": [
       "NLP"
      ]
     },
     "metadata": {},
     "execution_count": 11
    }
   ],
   "source": [
    "doc[0]"
   ]
  },
  {
   "cell_type": "code",
   "execution_count": 12,
   "metadata": {},
   "outputs": [
    {
     "output_type": "execute_result",
     "data": {
      "text/plain": [
       "0.05982727695337134"
      ]
     },
     "metadata": {},
     "execution_count": 12
    }
   ],
   "source": [
    "doc[0].similarity(nlp(\"apple\"))"
   ]
  },
  {
   "cell_type": "code",
   "execution_count": 13,
   "metadata": {},
   "outputs": [],
   "source": [
    "def preprocess(word):\n",
    "    return nlp(word) if type(word) == str else word"
   ]
  },
  {
   "cell_type": "code",
   "execution_count": 14,
   "metadata": {},
   "outputs": [],
   "source": [
    "def similarity(word1, word2):\n",
    "    word1_processed = preprocess(word1)\n",
    "    word2_processed = preprocess(word2)\n",
    "\n",
    "    return word1_processed.similarity(word2_processed)"
   ]
  },
  {
   "cell_type": "code",
   "execution_count": 15,
   "metadata": {},
   "outputs": [
    {
     "output_type": "execute_result",
     "data": {
      "text/plain": [
       "0.23511307366163212"
      ]
     },
     "metadata": {},
     "execution_count": 15
    }
   ],
   "source": [
    "similarity(\"apple\", \"iron\")"
   ]
  },
  {
   "cell_type": "code",
   "execution_count": 16,
   "metadata": {},
   "outputs": [
    {
     "output_type": "execute_result",
     "data": {
      "text/plain": [
       "0.5831844567891399"
      ]
     },
     "metadata": {},
     "execution_count": 16
    }
   ],
   "source": [
    "similarity(\"apple\", \"banana\")"
   ]
  },
  {
   "cell_type": "code",
   "execution_count": 17,
   "metadata": {},
   "outputs": [
    {
     "output_type": "execute_result",
     "data": {
      "text/plain": [
       "0.3955672699610516"
      ]
     },
     "metadata": {},
     "execution_count": 17
    }
   ],
   "source": [
    "similarity(\"apple\", \"tree\")"
   ]
  },
  {
   "cell_type": "code",
   "execution_count": 18,
   "metadata": {},
   "outputs": [
    {
     "output_type": "execute_result",
     "data": {
      "text/plain": [
       "495"
      ]
     },
     "metadata": {},
     "execution_count": 18
    }
   ],
   "source": [
    "len(nlp.vocab)"
   ]
  },
  {
   "cell_type": "code",
   "execution_count": 19,
   "metadata": {},
   "outputs": [],
   "source": [
    "def get_similar_words(word, n=5):\n",
    "    word_processed = preprocess(word)\n",
    "\n",
    "    return sorted([(w.text, word_processed.similarity(w)) for w in nlp.vocab if not w.text == word], key=lambda x: x[1], reverse=True)[:n]"
   ]
  },
  {
   "cell_type": "code",
   "execution_count": 20,
   "metadata": {},
   "outputs": [
    {
     "output_type": "execute_result",
     "data": {
      "text/plain": [
       "[('banana', 0.5831844722625306),\n",
       " ('tree', 0.3955672601326805),\n",
       " ('I', 0.33476121099748346),\n",
       " ('i', 0.33476121099748346),\n",
       " ('it', 0.330403315702624)]"
      ]
     },
     "metadata": {},
     "execution_count": 20
    }
   ],
   "source": [
    "get_similar_words(\"apple\")"
   ]
  },
  {
   "cell_type": "code",
   "execution_count": 21,
   "metadata": {},
   "outputs": [
    {
     "output_type": "execute_result",
     "data": {
      "text/plain": [
       "[('He', 0.3972819693424268),\n",
       " ('he', 0.3972819693424268),\n",
       " ('r.', 0.351226396193153),\n",
       " ('Who', 0.33955761372373816),\n",
       " ('who', 0.33955761372373816)]"
      ]
     },
     "metadata": {},
     "execution_count": 21
    }
   ],
   "source": [
    "get_similar_words(\"king\")"
   ]
  },
  {
   "cell_type": "code",
   "execution_count": 22,
   "metadata": {},
   "outputs": [
    {
     "output_type": "execute_result",
     "data": {
      "text/plain": [
       "[('awesome', 0.6223671770163095),\n",
       " (':)', 0.5428470505860964),\n",
       " ('^_^', 0.5381318386302708),\n",
       " ('=)', 0.5330863502093546),\n",
       " (';)', 0.4870031891715804)]"
      ]
     },
     "metadata": {},
     "execution_count": 22
    }
   ],
   "source": [
    "get_similar_words(\"cute\")"
   ]
  },
  {
   "cell_type": "code",
   "execution_count": 23,
   "metadata": {},
   "outputs": [
    {
     "output_type": "execute_result",
     "data": {
      "text/plain": [
       "array([ 8.98020029e-01, -7.84240007e-01,  6.66306973e-01, -5.88540018e-01,\n",
       "       -5.75469017e-01, -9.40539956e-01,  6.75819993e-01, -1.22599006e+00,\n",
       "       -6.89599991e-01,  1.47200108e-01, -1.49111986e-01, -7.91571021e-01,\n",
       "        4.47683036e-02,  7.62818336e-01,  3.33853006e-01,  2.30411977e-01,\n",
       "        7.73425996e-01,  8.72129917e-01, -5.66075027e-01,  3.12560022e-01,\n",
       "       -2.74450004e-01,  1.75926995e+00, -1.38041496e+00, -4.75240014e-02,\n",
       "       -1.35607004e+00,  2.12544024e-01, -1.02607000e+00,  6.87289983e-02,\n",
       "       -8.94273996e-01,  1.37137294e+00,  2.38738000e-01,  1.11029994e+00,\n",
       "        4.81199980e-01, -1.41599774e-03,  8.18599761e-02,  4.30319965e-01,\n",
       "       -1.22448003e+00,  2.48399973e-02, -6.39430046e-01, -5.72379589e-01,\n",
       "        1.54799998e-01, -9.98509973e-02, -5.09667993e-01, -1.78608984e-01,\n",
       "        4.71149981e-01, -2.04167992e-01, -1.14127010e-01,  1.51343000e+00,\n",
       "       -3.35630000e-01, -5.90391994e-01, -4.35409009e-01,  7.69719005e-01,\n",
       "        2.23479003e-01, -2.45202988e-01,  1.25850029e-02, -7.41199970e-01,\n",
       "       -2.53411591e-01, -1.41256005e-01, -8.07339907e-01,  7.69797027e-01,\n",
       "       -6.92000240e-03, -3.46275002e-01,  9.40832496e-01,  2.33823080e-02,\n",
       "        8.94172013e-01,  1.52135003e+00,  6.32548988e-01,  5.45072973e-01,\n",
       "        3.47782999e-01, -5.90400040e-01, -3.06829989e-01, -1.07709989e-01,\n",
       "       -6.67576969e-01, -5.61089993e-01,  6.21870041e-01, -1.06932998e-01,\n",
       "       -2.75040001e-01,  1.62977004e+00,  9.53961968e-01, -8.22147012e-01,\n",
       "       -1.58992290e+00,  4.20930028e-01, -1.00996017e-01,  5.04989982e-01,\n",
       "        2.57664993e-02,  4.01704997e-01,  5.97869992e-01, -2.28602052e-01,\n",
       "       -5.60199976e-01, -2.70120054e-02,  3.08986604e-01,  4.10809994e-01,\n",
       "        4.58429992e-01, -3.17211002e-01,  1.44560993e+00, -3.49289984e-01,\n",
       "       -2.00856999e-01,  2.16120005e-01, -4.25689995e-01,  1.58150995e+00,\n",
       "       -3.56213987e-01, -1.79391012e-01, -5.86511970e-01, -4.64731991e-01,\n",
       "       -9.70880017e-02, -8.34789991e-01, -2.72599757e-02, -2.10934013e-01,\n",
       "        1.33747005e+00, -5.13749003e-01, -2.16040015e-02,  1.17440999e+00,\n",
       "        3.35180998e-01, -5.15586019e-01, -8.05060029e-01, -5.33975005e-01,\n",
       "        3.45385998e-01,  3.73854995e-01,  6.70577049e-01, -8.55579972e-01,\n",
       "       -5.40300012e-01,  2.54534006e-01,  5.69610000e-01,  3.95954996e-01,\n",
       "        3.76165003e-01,  3.86774987e-01,  4.63939995e-01, -3.48740011e-01,\n",
       "       -8.83195281e-01,  3.24764013e-01, -1.24100995e+00, -1.11402595e+00,\n",
       "       -2.17600018e-02, -4.19039994e-01,  1.61938012e-01, -5.17710030e-01,\n",
       "       -2.41129994e-01,  4.76822019e-01,  8.59699994e-02,  2.65268981e-01,\n",
       "       -2.57020020e+00, -3.80264997e-01,  4.97446001e-01, -3.90370011e-01,\n",
       "       -4.84343022e-01,  1.10556990e-01,  5.93728006e-01,  5.88060021e-01,\n",
       "        1.01740994e-01, -1.02736998e+00,  1.21684003e+00, -4.15967017e-01,\n",
       "        8.83440018e-01,  5.65070987e-01,  1.14122701e+00, -8.89490008e-01,\n",
       "        1.13169801e+00, -1.01934004e+00, -4.36787009e-01,  6.68500006e-01,\n",
       "       -1.52079970e-01, -6.50399923e-02, -5.24919964e-02, -6.39037669e-01,\n",
       "        6.35159969e-01, -3.68012995e-01,  5.45766950e-01,  1.19420004e+00,\n",
       "       -4.03860033e-01,  2.49980003e-01, -3.63319963e-01,  1.46720000e-02,\n",
       "        9.77170020e-02,  2.02519998e-01, -1.77538976e-01, -3.29174027e-02,\n",
       "        1.24919999e+00, -2.51982987e-01, -1.08789003e+00,  6.48814142e-02,\n",
       "        4.68566030e-01, -4.03480023e-01,  3.48597288e-01, -6.54139996e-01,\n",
       "        5.45554996e-01,  4.57699895e-02, -2.36319989e-01, -3.95723999e-01,\n",
       "        5.59239984e-02,  1.17528987e+00, -1.16852999e+00, -1.10455000e+00,\n",
       "        6.41976953e-01, -8.85430947e-02, -4.68557000e-01, -1.09363997e+00,\n",
       "        2.34773383e-01,  4.29654002e-01, -3.84083986e-01, -7.69339979e-01,\n",
       "        2.38788992e-01,  6.04789972e-01,  4.12809998e-01,  7.38669932e-02,\n",
       "        5.09456038e-01, -7.15229988e-01,  7.91589975e-01,  2.07054004e-01,\n",
       "       -1.38861001e-01, -7.45169997e-01, -8.20894957e-01,  1.54904008e+00,\n",
       "        2.93305993e-01,  7.54410028e-01, -2.83348024e-01,  6.23329997e-01,\n",
       "       -9.45279002e-03,  7.63329983e-01, -7.06788898e-01,  1.77169001e+00,\n",
       "        3.33211005e-01, -2.89389014e-01,  7.01330006e-01, -2.66489983e-01,\n",
       "        1.36880004e+00,  9.98044968e-01,  1.09979004e-01, -6.57887995e-01,\n",
       "       -4.61452991e-01,  1.18799901e+00,  3.27250004e-01,  5.47400862e-03,\n",
       "        3.46630037e-01, -5.10909975e-01,  5.05899012e-01, -1.24205065e+00,\n",
       "        1.76300004e-01, -7.77126014e-01, -2.25990012e-01, -9.68680024e-01,\n",
       "        3.78910005e-01, -9.62499976e-01, -2.22274005e-01, -2.64120013e-01,\n",
       "        1.59669980e-01, -1.38323998e+00,  1.09712505e+00,  1.48999989e-01,\n",
       "       -1.30299997e+00, -2.06493998e+00,  7.72448063e-01,  2.12510020e-01,\n",
       "       -4.95996982e-01, -2.13630021e-01, -3.18729997e-01,  5.40490031e-01,\n",
       "       -6.50377989e-01, -2.05401987e-01, -1.46088004e+00,  5.14130473e-01,\n",
       "        1.40965998e-01, -9.02429819e-02, -4.52410996e-01, -3.19310009e-01,\n",
       "       -1.90809995e-01, -7.74560034e-01,  6.23759985e-01,  4.96179998e-01,\n",
       "       -1.53708994e+00, -2.45912001e-01, -6.97618067e-01, -1.49159878e-02,\n",
       "       -1.50140002e-01, -2.84869999e-01,  2.35709846e-01, -8.02109957e-01,\n",
       "        7.10510015e-01,  1.15738980e-01, -2.25791991e-01, -8.55207026e-01,\n",
       "        2.21688008e+00,  1.04322004e+00,  3.67244989e-01, -1.46393001e-01,\n",
       "       -1.42840013e-01,  8.24580014e-01,  4.06865031e-01,  1.18406005e-01,\n",
       "       -6.27702951e-01, -2.65570998e-01,  1.91680998e-01,  7.17139959e-01,\n",
       "       -2.20293015e-01, -1.10349953e-01, -1.19730011e-01,  1.28225398e+00,\n",
       "       -4.65737998e-01, -3.98009986e-01,  1.08605003e+00, -3.96726996e-01],\n",
       "      dtype=float32)"
      ]
     },
     "metadata": {},
     "execution_count": 23
    }
   ],
   "source": [
    "king = nlp.vocab[\"king\"].vector\n",
    "queen = nlp.vocab[\"queen\"].vector\n",
    "man = nlp.vocab[\"man\"].vector\n",
    "\n",
    "what_is_this = king - man + queen\n",
    "\n",
    "what_is_this"
   ]
  },
  {
   "cell_type": "code",
   "execution_count": 24,
   "metadata": {},
   "outputs": [],
   "source": [
    "from scipy import spatial\n",
    "\n",
    "def cosine_similarity(v, u):\n",
    "    return 1 - spatial.distance.cosine(v, u)\n",
    "\n",
    "similarities = {}\n",
    "\n",
    "for word in nlp.vocab:\n",
    "    if word.is_alpha:\n",
    "        similarities[word.text] = cosine_similarity(what_is_this, word.vector)\n",
    "\n"
   ]
  },
  {
   "cell_type": "code",
   "execution_count": 25,
   "metadata": {},
   "outputs": [
    {
     "output_type": "execute_result",
     "data": {
      "text/plain": [
       "[('queen', 0.8452084064483643),\n",
       " ('king', 0.7803477048873901),\n",
       " ('iron', 0.19357843697071075),\n",
       " ('apple', 0.1696002185344696),\n",
       " ('ll', 0.1684713512659073)]"
      ]
     },
     "metadata": {},
     "execution_count": 25
    }
   ],
   "source": [
    "sorted(similarities.items(), key=lambda x: x[1], reverse=True)[:5]"
   ]
  },
  {
   "source": [
    "## Visualizing word vectors"
   ],
   "cell_type": "markdown",
   "metadata": {}
  },
  {
   "cell_type": "code",
   "execution_count": 26,
   "metadata": {},
   "outputs": [
    {
     "output_type": "execute_result",
     "data": {
      "text/plain": [
       "(684831, 300)"
      ]
     },
     "metadata": {},
     "execution_count": 26
    }
   ],
   "source": [
    "nlp.vocab.vectors.data.shape"
   ]
  },
  {
   "cell_type": "code",
   "execution_count": null,
   "metadata": {
    "tags": []
   },
   "outputs": [],
   "source": [
    "import matplotlib.pyplot as plt\n",
    "from sklearn.decomposition import PCA\n",
    "\n",
    "WORDS = [\"happy\", \"unhappy\", \"cute\", \"ugly\", \"big\", \"small\", \"king\", \"man\", \"queen\", \"woman\", \"puppy\", \"dog\", \"kitty\", \"cat\", \"whale\", \"shark\", \"fish\", \"ocean\"]\n",
    "\n",
    "data = []\n",
    "data_annotation = []\n",
    "\n",
    "for v in nlp.vocab.vectors:\n",
    "    word = nlp.vocab[v]\n",
    "\n",
    "    if word in WORDS:\n",
    "        data.append(word.vector)\n",
    "        data_annotation.append(word.lower_)\n",
    "#data = np.array([word.vector for word in nlp.vocab if word.lower_ in WORDS])\n",
    "\n",
    "\n",
    "pca = PCA(n_components=2)\n",
    "reduced_dims = pca.fit_transform(data)\n",
    "\n",
    "fig, ax = plt.subplots()\n",
    "ax.scatter(reduced_dims[:, 0], reduced_dims[:, 1])\n",
    "\n",
    "vocabulary = list(nlp.vocab.strings)\n",
    "\n",
    "for i in range(len(data)):\n",
    "    ax.annotate(data_annotation[i], (reduced_dims[i, 0], reduced_dims[i, 1]))"
   ]
  }
 ]
}