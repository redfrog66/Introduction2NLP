{
 "metadata": {
  "language_info": {
   "codemirror_mode": {
    "name": "ipython",
    "version": 3
   },
   "file_extension": ".py",
   "mimetype": "text/x-python",
   "name": "python",
   "nbconvert_exporter": "python",
   "pygments_lexer": "ipython3",
   "version": "3.7.9-final"
  },
  "orig_nbformat": 2,
  "kernelspec": {
   "name": "python3",
   "display_name": "Python 3",
   "language": "python"
  }
 },
 "nbformat": 4,
 "nbformat_minor": 2,
 "cells": [
  {
   "source": [
    "# Word vectors"
   ],
   "cell_type": "markdown",
   "metadata": {}
  },
  {
   "cell_type": "code",
   "execution_count": 1,
   "metadata": {},
   "outputs": [],
   "source": [
    "# pip install spacy"
   ]
  },
  {
   "cell_type": "code",
   "execution_count": 2,
   "metadata": {},
   "outputs": [],
   "source": [
    "# ! python -m spacy download en_core_web_lg"
   ]
  },
  {
   "cell_type": "code",
   "execution_count": 3,
   "metadata": {},
   "outputs": [],
   "source": [
    "import spacy\n",
    "\n",
    "nlp = spacy.load('en_core_web_lg')"
   ]
  },
  {
   "cell_type": "code",
   "execution_count": 4,
   "metadata": {},
   "outputs": [],
   "source": [
    "doc = nlp(\"NLP is awesome\")"
   ]
  },
  {
   "cell_type": "code",
   "execution_count": 5,
   "metadata": {},
   "outputs": [
    {
     "output_type": "execute_result",
     "data": {
      "text/plain": [
       "NLP is awesome"
      ]
     },
     "metadata": {},
     "execution_count": 5
    }
   ],
   "source": [
    "doc"
   ]
  },
  {
   "cell_type": "code",
   "execution_count": 6,
   "metadata": {},
   "outputs": [
    {
     "output_type": "stream",
     "name": "stdout",
     "text": [
      "[('tagger', <spacy.pipeline.pipes.Tagger object at 0x0000021A6B524288>), ('parser', <spacy.pipeline.pipes.DependencyParser object at 0x0000021A6B41D168>), ('ner', <spacy.pipeline.pipes.EntityRecognizer object at 0x0000021A6B41D108>)]\n"
     ]
    }
   ],
   "source": [
    "print(nlp.pipeline)"
   ]
  },
  {
   "cell_type": "code",
   "execution_count": 7,
   "metadata": {},
   "outputs": [
    {
     "output_type": "stream",
     "name": "stdout",
     "text": [
      "NLP PROPN\nis AUX\nawesome ADJ\n"
     ]
    }
   ],
   "source": [
    "for token in doc:\n",
    "    print(token.text, token.pos_)"
   ]
  },
  {
   "cell_type": "code",
   "execution_count": 8,
   "metadata": {},
   "outputs": [
    {
     "output_type": "execute_result",
     "data": {
      "text/plain": [
       "NLP"
      ]
     },
     "metadata": {},
     "execution_count": 8
    }
   ],
   "source": [
    "doc[0]"
   ]
  },
  {
   "cell_type": "code",
   "execution_count": 9,
   "metadata": {},
   "outputs": [
    {
     "output_type": "execute_result",
     "data": {
      "text/plain": [
       "array([-1.0566e-01,  3.7785e-01, -1.0228e-02,  4.5650e-01,  4.8863e-01,\n",
       "        1.6889e-01,  1.4674e-01, -5.9620e-01,  6.7585e-01, -6.3618e-01,\n",
       "       -5.0792e-01, -7.4938e-03, -1.7841e-01, -5.5094e-01,  2.6550e-01,\n",
       "       -1.2943e-01, -2.5246e-01, -1.8112e-01, -2.2629e-01, -5.4580e-01,\n",
       "        8.3134e-02,  4.8255e-01,  1.5798e-01, -1.4961e-01, -3.8963e-01,\n",
       "        2.1353e-01,  3.8718e-01, -8.2669e-02,  4.7962e-02, -2.8362e-01,\n",
       "       -1.2079e-02, -7.0894e-01,  2.7506e-01,  3.1675e-01,  3.1739e-01,\n",
       "        4.1278e-01,  6.6155e-01,  2.5729e-01, -3.8667e-01, -3.1865e-01,\n",
       "        2.2205e-01, -8.6112e-01, -4.4753e-01,  6.2978e-01,  4.1762e-01,\n",
       "        3.5762e-01,  5.0012e-02,  2.0502e-02, -5.2038e-02, -6.0737e-01,\n",
       "        1.6322e-01, -2.6724e-01, -2.8658e-01,  2.1772e-01, -5.1363e-02,\n",
       "        5.1384e-01,  1.6027e-01,  1.2481e+00, -8.4226e-02, -1.7538e-01,\n",
       "       -4.1476e-01,  2.7219e-01, -1.6987e-01, -1.0548e+00,  6.6929e-01,\n",
       "        3.9349e-01,  2.0599e-01, -6.7270e-02, -5.0668e-01, -1.4693e-01,\n",
       "       -6.1357e-01, -3.4413e-01,  6.9667e-01, -1.1798e-01, -1.8542e-01,\n",
       "        1.0904e-01, -8.0520e-01, -2.0105e-01, -3.9116e-01, -1.8436e-01,\n",
       "       -7.6836e-02,  2.0088e-01,  7.2095e-01, -4.5358e-01, -3.4529e-01,\n",
       "        3.6597e-01,  2.9436e-01, -1.3379e-01,  1.3390e-01,  4.2926e-02,\n",
       "       -7.8995e-02, -2.1269e-01, -3.1996e-01,  5.1625e-02, -3.4956e-01,\n",
       "        1.3299e-01,  6.7181e-01,  3.9116e-01, -7.4943e-02, -1.2047e+00,\n",
       "       -4.5533e-01, -5.0603e-01, -3.6401e-01, -7.8773e-03,  8.1638e-01,\n",
       "       -1.4216e+00,  9.6623e-01,  5.7236e-01, -2.5422e-01,  7.4226e-01,\n",
       "        3.1625e-03,  1.7967e-01, -4.3484e-01, -7.0884e-01, -1.9701e-01,\n",
       "        5.2677e-02,  5.7130e-01,  1.0840e-01,  1.6382e-01,  5.1581e-02,\n",
       "        1.3532e-01,  5.1425e-01, -1.7685e-01,  2.3781e-01, -6.8046e-02,\n",
       "       -3.0486e-01, -1.9996e-01,  6.9485e-01,  9.7962e-03,  1.4794e-01,\n",
       "       -3.4052e-01, -5.2329e-01,  1.6724e-01, -6.8747e-01,  7.6560e-01,\n",
       "       -1.9175e-01,  3.8335e-01,  2.9449e-02,  3.4828e-02, -5.4609e-01,\n",
       "        2.8755e-01, -2.5129e-01,  2.0563e-01, -3.4883e-01, -2.3055e-01,\n",
       "       -2.4189e-02,  1.2541e+00, -3.7450e-01, -3.0379e-01,  1.9338e-01,\n",
       "        1.9349e-01, -1.0647e+00, -6.8102e-01,  7.2020e-01, -3.5460e-01,\n",
       "       -3.2397e-01,  2.5138e-01, -2.3732e-01,  3.9634e-01,  5.2596e-01,\n",
       "       -1.2662e-01, -2.5723e-01,  1.3970e-01,  6.9221e-02,  3.7726e-01,\n",
       "       -1.1221e-01, -2.9522e-01, -7.6855e-01, -6.4044e-01, -1.4843e-01,\n",
       "        3.0595e-01,  2.7931e-01,  8.9254e-03,  9.3240e-02, -1.4832e-01,\n",
       "        4.4251e-01,  1.3353e-01,  2.6121e-01,  4.5843e-01, -3.7755e-01,\n",
       "        8.4045e-02,  1.1577e-01, -2.8946e-01, -3.4757e-01,  2.2395e-01,\n",
       "        1.1249e-01, -2.1378e-01,  5.4466e-01,  9.5796e-02,  1.1707e-02,\n",
       "        3.0618e-01, -7.6751e-01,  1.0190e-01, -7.1090e-01,  1.0259e-01,\n",
       "        5.4671e-01,  3.5822e-01, -4.5653e-01,  1.5463e+00, -3.3260e-01,\n",
       "       -4.1671e-01, -9.6153e-01,  4.3680e-01,  2.8670e-01, -1.2198e+00,\n",
       "       -2.1870e-01, -1.9923e-01, -3.7497e-01, -1.8607e-01,  3.7712e-01,\n",
       "       -5.2569e-01, -3.5194e-01, -4.8485e-02,  7.0313e-02,  8.6681e-02,\n",
       "        8.9974e-02,  1.3641e-01,  4.9293e-02,  1.1483e-01, -1.4399e-01,\n",
       "       -3.3915e-01,  2.5631e-01,  2.4067e-01, -1.8579e-01, -9.5525e-01,\n",
       "        3.7027e-01, -9.0672e-01, -2.9167e-01, -9.1001e-01,  6.9787e-01,\n",
       "       -7.6931e-01, -3.7805e-01, -3.2606e-01,  1.9932e-01, -6.0722e-01,\n",
       "        9.9476e-02,  4.6670e-02,  3.8538e-01, -4.6382e-01, -6.4956e-02,\n",
       "        3.6503e-01, -7.4729e-02,  5.9246e-02, -8.5878e-01,  1.9341e-01,\n",
       "       -1.3016e+00, -1.5103e-01,  3.4008e-01, -1.1579e-01, -1.3692e-01,\n",
       "        8.9755e-02, -1.7729e-01,  2.7765e-01, -2.3432e-01, -2.1567e-01,\n",
       "       -7.0866e-01, -6.7314e-01, -6.6414e-01,  1.5175e-01, -6.3168e-01,\n",
       "        3.1395e-01, -4.8451e-01,  3.0866e-01,  1.0820e-02, -2.2585e-01,\n",
       "       -6.0322e-01, -1.4628e-01,  6.9587e-01, -2.5303e-01,  1.1771e-01,\n",
       "       -1.1018e+00, -1.6768e-01, -2.4193e-01, -1.0351e-01,  4.4369e-01,\n",
       "       -5.5124e-02,  2.2119e-01, -5.2161e-01,  4.0438e-01, -5.3515e-01,\n",
       "        1.9887e-01, -3.9262e-01,  9.8641e-02,  1.9809e-02,  4.4441e-01,\n",
       "       -1.6216e-01, -2.3499e-02, -3.0407e-02,  8.9885e-02,  1.9665e-01,\n",
       "        8.4248e-01,  1.1790e-03, -4.7616e-01,  1.0941e-01,  2.9955e-01,\n",
       "        7.9308e-01,  4.3678e-01,  5.3124e-01, -7.1275e-01,  5.0830e-01],\n",
       "      dtype=float32)"
      ]
     },
     "metadata": {},
     "execution_count": 9
    }
   ],
   "source": [
    "doc[0].vector"
   ]
  },
  {
   "cell_type": "code",
   "execution_count": 10,
   "metadata": {},
   "outputs": [
    {
     "output_type": "execute_result",
     "data": {
      "text/plain": [
       "(300,)"
      ]
     },
     "metadata": {},
     "execution_count": 10
    }
   ],
   "source": [
    "doc[0].vector.shape"
   ]
  },
  {
   "cell_type": "code",
   "execution_count": 11,
   "metadata": {},
   "outputs": [
    {
     "output_type": "execute_result",
     "data": {
      "text/plain": [
       "NLP"
      ]
     },
     "metadata": {},
     "execution_count": 11
    }
   ],
   "source": [
    "doc[0]"
   ]
  },
  {
   "cell_type": "code",
   "execution_count": 12,
   "metadata": {},
   "outputs": [
    {
     "output_type": "execute_result",
     "data": {
      "text/plain": [
       "0.05982727695337134"
      ]
     },
     "metadata": {},
     "execution_count": 12
    }
   ],
   "source": [
    "doc[0].similarity(nlp(\"apple\"))"
   ]
  },
  {
   "cell_type": "code",
   "execution_count": 13,
   "metadata": {},
   "outputs": [],
   "source": [
    "def preprocess(word):\n",
    "    return nlp(word) if type(word) == str else word"
   ]
  },
  {
   "cell_type": "code",
   "execution_count": 14,
   "metadata": {},
   "outputs": [],
   "source": [
    "def similarity(word1, word2):\n",
    "    word1_processed = preprocess(word1)\n",
    "    word2_processed = preprocess(word2)\n",
    "\n",
    "    return word1_processed.similarity(word2_processed)"
   ]
  },
  {
   "cell_type": "code",
   "execution_count": 15,
   "metadata": {},
   "outputs": [
    {
     "output_type": "execute_result",
     "data": {
      "text/plain": [
       "0.23511307366163212"
      ]
     },
     "metadata": {},
     "execution_count": 15
    }
   ],
   "source": [
    "similarity(\"apple\", \"iron\")"
   ]
  },
  {
   "cell_type": "code",
   "execution_count": 16,
   "metadata": {},
   "outputs": [
    {
     "output_type": "execute_result",
     "data": {
      "text/plain": [
       "0.5831844567891399"
      ]
     },
     "metadata": {},
     "execution_count": 16
    }
   ],
   "source": [
    "similarity(\"apple\", \"banana\")"
   ]
  },
  {
   "cell_type": "code",
   "execution_count": 17,
   "metadata": {},
   "outputs": [
    {
     "output_type": "execute_result",
     "data": {
      "text/plain": [
       "0.3955672699610516"
      ]
     },
     "metadata": {},
     "execution_count": 17
    }
   ],
   "source": [
    "similarity(\"apple\", \"tree\")"
   ]
  },
  {
   "cell_type": "code",
   "execution_count": 18,
   "metadata": {},
   "outputs": [
    {
     "output_type": "execute_result",
     "data": {
      "text/plain": [
       "495"
      ]
     },
     "metadata": {},
     "execution_count": 18
    }
   ],
   "source": [
    "len(nlp.vocab)"
   ]
  },
  {
   "cell_type": "code",
   "execution_count": 19,
   "metadata": {},
   "outputs": [],
   "source": [
    "def get_similar_words(word, n=5):\n",
    "    word_processed = preprocess(word)\n",
    "\n",
    "    return sorted([(w.text, word_processed.similarity(w)) for w in nlp.vocab if not w.text == word], key=lambda x: x[1], reverse=True)[:n]"
   ]
  },
  {
   "cell_type": "code",
   "execution_count": 20,
   "metadata": {},
   "outputs": [
    {
     "output_type": "execute_result",
     "data": {
      "text/plain": [
       "[('banana', 0.5831844722625306),\n",
       " ('tree', 0.3955672601326805),\n",
       " ('I', 0.33476121099748346),\n",
       " ('i', 0.33476121099748346),\n",
       " ('it', 0.330403315702624)]"
      ]
     },
     "metadata": {},
     "execution_count": 20
    }
   ],
   "source": [
    "get_similar_words(\"apple\")"
   ]
  },
  {
   "cell_type": "code",
   "execution_count": 21,
   "metadata": {},
   "outputs": [
    {
     "output_type": "execute_result",
     "data": {
      "text/plain": [
       "[('He', 0.3972819693424268),\n",
       " ('he', 0.3972819693424268),\n",
       " ('r.', 0.351226396193153),\n",
       " ('Who', 0.33955761372373816),\n",
       " ('who', 0.33955761372373816)]"
      ]
     },
     "metadata": {},
     "execution_count": 21
    }
   ],
   "source": [
    "get_similar_words(\"king\")"
   ]
  },
  {
   "cell_type": "code",
   "execution_count": 22,
   "metadata": {},
   "outputs": [
    {
     "output_type": "execute_result",
     "data": {
      "text/plain": [
       "[('awesome', 0.6223671770163095),\n",
       " (':)', 0.5428470505860964),\n",
       " ('^_^', 0.5381318386302708),\n",
       " ('=)', 0.5330863502093546),\n",
       " (';)', 0.4870031891715804)]"
      ]
     },
     "metadata": {},
     "execution_count": 22
    }
   ],
   "source": [
    "get_similar_words(\"cute\")"
   ]
  },
  {
   "cell_type": "code",
   "execution_count": 23,
   "metadata": {},
   "outputs": [
    {
     "output_type": "execute_result",
     "data": {
      "text/plain": [
       "array([ 8.98020029e-01, -7.84240007e-01,  6.66306973e-01, -5.88540018e-01,\n",
       "       -5.75469017e-01, -9.40539956e-01,  6.75819993e-01, -1.22599006e+00,\n",
       "       -6.89599991e-01,  1.47200108e-01, -1.49111986e-01, -7.91571021e-01,\n",
       "        4.47683036e-02,  7.62818336e-01,  3.33853006e-01,  2.30411977e-01,\n",
       "        7.73425996e-01,  8.72129917e-01, -5.66075027e-01,  3.12560022e-01,\n",
       "       -2.74450004e-01,  1.75926995e+00, -1.38041496e+00, -4.75240014e-02,\n",
       "       -1.35607004e+00,  2.12544024e-01, -1.02607000e+00,  6.87289983e-02,\n",
       "       -8.94273996e-01,  1.37137294e+00,  2.38738000e-01,  1.11029994e+00,\n",
       "        4.81199980e-01, -1.41599774e-03,  8.18599761e-02,  4.30319965e-01,\n",
       "       -1.22448003e+00,  2.48399973e-02, -6.39430046e-01, -5.72379589e-01,\n",
       "        1.54799998e-01, -9.98509973e-02, -5.09667993e-01, -1.78608984e-01,\n",
       "        4.71149981e-01, -2.04167992e-01, -1.14127010e-01,  1.51343000e+00,\n",
       "       -3.35630000e-01, -5.90391994e-01, -4.35409009e-01,  7.69719005e-01,\n",
       "        2.23479003e-01, -2.45202988e-01,  1.25850029e-02, -7.41199970e-01,\n",
       "       -2.53411591e-01, -1.41256005e-01, -8.07339907e-01,  7.69797027e-01,\n",
       "       -6.92000240e-03, -3.46275002e-01,  9.40832496e-01,  2.33823080e-02,\n",
       "        8.94172013e-01,  1.52135003e+00,  6.32548988e-01,  5.45072973e-01,\n",
       "        3.47782999e-01, -5.90400040e-01, -3.06829989e-01, -1.07709989e-01,\n",
       "       -6.67576969e-01, -5.61089993e-01,  6.21870041e-01, -1.06932998e-01,\n",
       "       -2.75040001e-01,  1.62977004e+00,  9.53961968e-01, -8.22147012e-01,\n",
       "       -1.58992290e+00,  4.20930028e-01, -1.00996017e-01,  5.04989982e-01,\n",
       "        2.57664993e-02,  4.01704997e-01,  5.97869992e-01, -2.28602052e-01,\n",
       "       -5.60199976e-01, -2.70120054e-02,  3.08986604e-01,  4.10809994e-01,\n",
       "        4.58429992e-01, -3.17211002e-01,  1.44560993e+00, -3.49289984e-01,\n",
       "       -2.00856999e-01,  2.16120005e-01, -4.25689995e-01,  1.58150995e+00,\n",
       "       -3.56213987e-01, -1.79391012e-01, -5.86511970e-01, -4.64731991e-01,\n",
       "       -9.70880017e-02, -8.34789991e-01, -2.72599757e-02, -2.10934013e-01,\n",
       "        1.33747005e+00, -5.13749003e-01, -2.16040015e-02,  1.17440999e+00,\n",
       "        3.35180998e-01, -5.15586019e-01, -8.05060029e-01, -5.33975005e-01,\n",
       "        3.45385998e-01,  3.73854995e-01,  6.70577049e-01, -8.55579972e-01,\n",
       "       -5.40300012e-01,  2.54534006e-01,  5.69610000e-01,  3.95954996e-01,\n",
       "        3.76165003e-01,  3.86774987e-01,  4.63939995e-01, -3.48740011e-01,\n",
       "       -8.83195281e-01,  3.24764013e-01, -1.24100995e+00, -1.11402595e+00,\n",
       "       -2.17600018e-02, -4.19039994e-01,  1.61938012e-01, -5.17710030e-01,\n",
       "       -2.41129994e-01,  4.76822019e-01,  8.59699994e-02,  2.65268981e-01,\n",
       "       -2.57020020e+00, -3.80264997e-01,  4.97446001e-01, -3.90370011e-01,\n",
       "       -4.84343022e-01,  1.10556990e-01,  5.93728006e-01,  5.88060021e-01,\n",
       "        1.01740994e-01, -1.02736998e+00,  1.21684003e+00, -4.15967017e-01,\n",
       "        8.83440018e-01,  5.65070987e-01,  1.14122701e+00, -8.89490008e-01,\n",
       "        1.13169801e+00, -1.01934004e+00, -4.36787009e-01,  6.68500006e-01,\n",
       "       -1.52079970e-01, -6.50399923e-02, -5.24919964e-02, -6.39037669e-01,\n",
       "        6.35159969e-01, -3.68012995e-01,  5.45766950e-01,  1.19420004e+00,\n",
       "       -4.03860033e-01,  2.49980003e-01, -3.63319963e-01,  1.46720000e-02,\n",
       "        9.77170020e-02,  2.02519998e-01, -1.77538976e-01, -3.29174027e-02,\n",
       "        1.24919999e+00, -2.51982987e-01, -1.08789003e+00,  6.48814142e-02,\n",
       "        4.68566030e-01, -4.03480023e-01,  3.48597288e-01, -6.54139996e-01,\n",
       "        5.45554996e-01,  4.57699895e-02, -2.36319989e-01, -3.95723999e-01,\n",
       "        5.59239984e-02,  1.17528987e+00, -1.16852999e+00, -1.10455000e+00,\n",
       "        6.41976953e-01, -8.85430947e-02, -4.68557000e-01, -1.09363997e+00,\n",
       "        2.34773383e-01,  4.29654002e-01, -3.84083986e-01, -7.69339979e-01,\n",
       "        2.38788992e-01,  6.04789972e-01,  4.12809998e-01,  7.38669932e-02,\n",
       "        5.09456038e-01, -7.15229988e-01,  7.91589975e-01,  2.07054004e-01,\n",
       "       -1.38861001e-01, -7.45169997e-01, -8.20894957e-01,  1.54904008e+00,\n",
       "        2.93305993e-01,  7.54410028e-01, -2.83348024e-01,  6.23329997e-01,\n",
       "       -9.45279002e-03,  7.63329983e-01, -7.06788898e-01,  1.77169001e+00,\n",
       "        3.33211005e-01, -2.89389014e-01,  7.01330006e-01, -2.66489983e-01,\n",
       "        1.36880004e+00,  9.98044968e-01,  1.09979004e-01, -6.57887995e-01,\n",
       "       -4.61452991e-01,  1.18799901e+00,  3.27250004e-01,  5.47400862e-03,\n",
       "        3.46630037e-01, -5.10909975e-01,  5.05899012e-01, -1.24205065e+00,\n",
       "        1.76300004e-01, -7.77126014e-01, -2.25990012e-01, -9.68680024e-01,\n",
       "        3.78910005e-01, -9.62499976e-01, -2.22274005e-01, -2.64120013e-01,\n",
       "        1.59669980e-01, -1.38323998e+00,  1.09712505e+00,  1.48999989e-01,\n",
       "       -1.30299997e+00, -2.06493998e+00,  7.72448063e-01,  2.12510020e-01,\n",
       "       -4.95996982e-01, -2.13630021e-01, -3.18729997e-01,  5.40490031e-01,\n",
       "       -6.50377989e-01, -2.05401987e-01, -1.46088004e+00,  5.14130473e-01,\n",
       "        1.40965998e-01, -9.02429819e-02, -4.52410996e-01, -3.19310009e-01,\n",
       "       -1.90809995e-01, -7.74560034e-01,  6.23759985e-01,  4.96179998e-01,\n",
       "       -1.53708994e+00, -2.45912001e-01, -6.97618067e-01, -1.49159878e-02,\n",
       "       -1.50140002e-01, -2.84869999e-01,  2.35709846e-01, -8.02109957e-01,\n",
       "        7.10510015e-01,  1.15738980e-01, -2.25791991e-01, -8.55207026e-01,\n",
       "        2.21688008e+00,  1.04322004e+00,  3.67244989e-01, -1.46393001e-01,\n",
       "       -1.42840013e-01,  8.24580014e-01,  4.06865031e-01,  1.18406005e-01,\n",
       "       -6.27702951e-01, -2.65570998e-01,  1.91680998e-01,  7.17139959e-01,\n",
       "       -2.20293015e-01, -1.10349953e-01, -1.19730011e-01,  1.28225398e+00,\n",
       "       -4.65737998e-01, -3.98009986e-01,  1.08605003e+00, -3.96726996e-01],\n",
       "      dtype=float32)"
      ]
     },
     "metadata": {},
     "execution_count": 23
    }
   ],
   "source": [
    "king = nlp.vocab[\"king\"].vector\n",
    "queen = nlp.vocab[\"queen\"].vector\n",
    "man = nlp.vocab[\"man\"].vector\n",
    "\n",
    "what_is_this = king - man + queen\n",
    "\n",
    "what_is_this"
   ]
  },
  {
   "cell_type": "code",
   "execution_count": 24,
   "metadata": {},
   "outputs": [],
   "source": [
    "from scipy import spatial\n",
    "\n",
    "def cosine_similarity(v, u):\n",
    "    return 1 - spatial.distance.cosine(v, u)\n",
    "\n",
    "similarities = {}\n",
    "\n",
    "for word in nlp.vocab:\n",
    "    if word.is_alpha:\n",
    "        similarities[word.text] = cosine_similarity(what_is_this, word.vector)\n",
    "\n"
   ]
  },
  {
   "cell_type": "code",
   "execution_count": 25,
   "metadata": {},
   "outputs": [
    {
     "output_type": "execute_result",
     "data": {
      "text/plain": [
       "[('queen', 0.8452084064483643),\n",
       " ('king', 0.7803477048873901),\n",
       " ('iron', 0.19357843697071075),\n",
       " ('apple', 0.1696002185344696),\n",
       " ('ll', 0.1684713512659073)]"
      ]
     },
     "metadata": {},
     "execution_count": 25
    }
   ],
   "source": [
    "sorted(similarities.items(), key=lambda x: x[1], reverse=True)[:5]"
   ]
  },
  {
   "source": [
    "## Visualizing word vectors"
   ],
   "cell_type": "markdown",
   "metadata": {}
  },
  {
   "cell_type": "code",
   "execution_count": 26,
   "metadata": {},
   "outputs": [
    {
     "output_type": "execute_result",
     "data": {
      "text/plain": [
       "(684831, 300)"
      ]
     },
     "metadata": {},
     "execution_count": 26
    }
   ],
   "source": [
    "nlp.vocab.vectors.data.shape"
   ]
  },
  {
   "cell_type": "code",
   "execution_count": 27,
   "metadata": {
    "tags": []
   },
   "outputs": [
    {
     "output_type": "display_data",
     "data": {
      "text/plain": "<Figure size 432x288 with 1 Axes>",
      "image/svg+xml": "<?xml version=\"1.0\" encoding=\"utf-8\" standalone=\"no\"?>\r\n<!DOCTYPE svg PUBLIC \"-//W3C//DTD SVG 1.1//EN\"\r\n  \"http://www.w3.org/Graphics/SVG/1.1/DTD/svg11.dtd\">\r\n<!-- Created with matplotlib (https://matplotlib.org/) -->\r\n<svg height=\"248.518125pt\" version=\"1.1\" viewBox=\"0 0 385.959943 248.518125\" width=\"385.959943pt\" xmlns=\"http://www.w3.org/2000/svg\" xmlns:xlink=\"http://www.w3.org/1999/xlink\">\r\n <metadata>\r\n  <rdf:RDF xmlns:cc=\"http://creativecommons.org/ns#\" xmlns:dc=\"http://purl.org/dc/elements/1.1/\" xmlns:rdf=\"http://www.w3.org/1999/02/22-rdf-syntax-ns#\">\r\n   <cc:Work>\r\n    <dc:type rdf:resource=\"http://purl.org/dc/dcmitype/StillImage\"/>\r\n    <dc:date>2021-03-04T18:12:06.187470</dc:date>\r\n    <dc:format>image/svg+xml</dc:format>\r\n    <dc:creator>\r\n     <cc:Agent>\r\n      <dc:title>Matplotlib v3.3.3, https://matplotlib.org/</dc:title>\r\n     </cc:Agent>\r\n    </dc:creator>\r\n   </cc:Work>\r\n  </rdf:RDF>\r\n </metadata>\r\n <defs>\r\n  <style type=\"text/css\">*{stroke-linecap:butt;stroke-linejoin:round;}</style>\r\n </defs>\r\n <g id=\"figure_1\">\r\n  <g id=\"patch_1\">\r\n   <path d=\"M 0 248.518125 \r\nL 385.959943 248.518125 \r\nL 385.959943 0 \r\nL 0 0 \r\nz\r\n\" style=\"fill:none;\"/>\r\n  </g>\r\n  <g id=\"axes_1\">\r\n   <g id=\"patch_2\">\r\n    <path d=\"M 28.942188 224.64 \r\nL 363.742188 224.64 \r\nL 363.742188 7.2 \r\nL 28.942188 7.2 \r\nz\r\n\" style=\"fill:#ffffff;\"/>\r\n   </g>\r\n   <g id=\"PathCollection_1\">\r\n    <defs>\r\n     <path d=\"M 0 3 \r\nC 0.795609 3 1.55874 2.683901 2.12132 2.12132 \r\nC 2.683901 1.55874 3 0.795609 3 0 \r\nC 3 -0.795609 2.683901 -1.55874 2.12132 -2.12132 \r\nC 1.55874 -2.683901 0.795609 -3 0 -3 \r\nC -0.795609 -3 -1.55874 -2.683901 -2.12132 -2.12132 \r\nC -2.683901 -1.55874 -3 -0.795609 -3 0 \r\nC -3 0.795609 -2.683901 1.55874 -2.12132 2.12132 \r\nC -1.55874 2.683901 -0.795609 3 0 3 \r\nz\r\n\" id=\"mb499653e35\" style=\"stroke:#1f77b4;\"/>\r\n    </defs>\r\n    <g clip-path=\"url(#p968c877b6a)\">\r\n     <use style=\"fill:#1f77b4;stroke:#1f77b4;\" x=\"190.00709\" xlink:href=\"#mb499653e35\" y=\"77.62324\"/>\r\n     <use style=\"fill:#1f77b4;stroke:#1f77b4;\" x=\"44.160369\" xlink:href=\"#mb499653e35\" y=\"214.756364\"/>\r\n     <use style=\"fill:#1f77b4;stroke:#1f77b4;\" x=\"89.461298\" xlink:href=\"#mb499653e35\" y=\"171.965504\"/>\r\n     <use style=\"fill:#1f77b4;stroke:#1f77b4;\" x=\"135.028446\" xlink:href=\"#mb499653e35\" y=\"81.576295\"/>\r\n     <use style=\"fill:#1f77b4;stroke:#1f77b4;\" x=\"232.039418\" xlink:href=\"#mb499653e35\" y=\"17.083636\"/>\r\n     <use style=\"fill:#1f77b4;stroke:#1f77b4;\" x=\"197.675521\" xlink:href=\"#mb499653e35\" y=\"106.027369\"/>\r\n     <use style=\"fill:#1f77b4;stroke:#1f77b4;\" x=\"78.645361\" xlink:href=\"#mb499653e35\" y=\"206.406601\"/>\r\n     <use style=\"fill:#1f77b4;stroke:#1f77b4;\" x=\"315.527854\" xlink:href=\"#mb499653e35\" y=\"188.664884\"/>\r\n     <use style=\"fill:#1f77b4;stroke:#1f77b4;\" x=\"84.002855\" xlink:href=\"#mb499653e35\" y=\"123.411421\"/>\r\n     <use style=\"fill:#1f77b4;stroke:#1f77b4;\" x=\"96.05396\" xlink:href=\"#mb499653e35\" y=\"196.34161\"/>\r\n     <use style=\"fill:#1f77b4;stroke:#1f77b4;\" x=\"151.944025\" xlink:href=\"#mb499653e35\" y=\"37.701884\"/>\r\n     <use style=\"fill:#1f77b4;stroke:#1f77b4;\" x=\"151.289847\" xlink:href=\"#mb499653e35\" y=\"64.192402\"/>\r\n     <use style=\"fill:#1f77b4;stroke:#1f77b4;\" x=\"203.553351\" xlink:href=\"#mb499653e35\" y=\"17.166431\"/>\r\n     <use style=\"fill:#1f77b4;stroke:#1f77b4;\" x=\"147.825207\" xlink:href=\"#mb499653e35\" y=\"53.12581\"/>\r\n     <use style=\"fill:#1f77b4;stroke:#1f77b4;\" x=\"348.524006\" xlink:href=\"#mb499653e35\" y=\"134.228003\"/>\r\n     <use style=\"fill:#1f77b4;stroke:#1f77b4;\" x=\"175.816537\" xlink:href=\"#mb499653e35\" y=\"48.191013\"/>\r\n     <use style=\"fill:#1f77b4;stroke:#1f77b4;\" x=\"341.142591\" xlink:href=\"#mb499653e35\" y=\"186.76285\"/>\r\n     <use style=\"fill:#1f77b4;stroke:#1f77b4;\" x=\"323.15538\" xlink:href=\"#mb499653e35\" y=\"195.599564\"/>\r\n    </g>\r\n   </g>\r\n   <g id=\"matplotlib.axis_1\">\r\n    <g id=\"xtick_1\">\r\n     <g id=\"line2d_1\">\r\n      <defs>\r\n       <path d=\"M 0 0 \r\nL 0 3.5 \r\n\" id=\"m83bde81c43\" style=\"stroke:#000000;stroke-width:0.8;\"/>\r\n      </defs>\r\n      <g>\r\n       <use style=\"stroke:#000000;stroke-width:0.8;\" x=\"62.617852\" xlink:href=\"#m83bde81c43\" y=\"224.64\"/>\r\n      </g>\r\n     </g>\r\n     <g id=\"text_1\">\r\n      <!-- −3 -->\r\n      <g transform=\"translate(55.246758 239.238437)scale(0.1 -0.1)\">\r\n       <defs>\r\n        <path d=\"M 10.59375 35.5 \r\nL 73.1875 35.5 \r\nL 73.1875 27.203125 \r\nL 10.59375 27.203125 \r\nz\r\n\" id=\"DejaVuSans-8722\"/>\r\n        <path d=\"M 40.578125 39.3125 \r\nQ 47.65625 37.796875 51.625 33 \r\nQ 55.609375 28.21875 55.609375 21.1875 \r\nQ 55.609375 10.40625 48.1875 4.484375 \r\nQ 40.765625 -1.421875 27.09375 -1.421875 \r\nQ 22.515625 -1.421875 17.65625 -0.515625 \r\nQ 12.796875 0.390625 7.625 2.203125 \r\nL 7.625 11.71875 \r\nQ 11.71875 9.328125 16.59375 8.109375 \r\nQ 21.484375 6.890625 26.8125 6.890625 \r\nQ 36.078125 6.890625 40.9375 10.546875 \r\nQ 45.796875 14.203125 45.796875 21.1875 \r\nQ 45.796875 27.640625 41.28125 31.265625 \r\nQ 36.765625 34.90625 28.71875 34.90625 \r\nL 20.21875 34.90625 \r\nL 20.21875 43.015625 \r\nL 29.109375 43.015625 \r\nQ 36.375 43.015625 40.234375 45.921875 \r\nQ 44.09375 48.828125 44.09375 54.296875 \r\nQ 44.09375 59.90625 40.109375 62.90625 \r\nQ 36.140625 65.921875 28.71875 65.921875 \r\nQ 24.65625 65.921875 20.015625 65.03125 \r\nQ 15.375 64.15625 9.8125 62.3125 \r\nL 9.8125 71.09375 \r\nQ 15.4375 72.65625 20.34375 73.4375 \r\nQ 25.25 74.21875 29.59375 74.21875 \r\nQ 40.828125 74.21875 47.359375 69.109375 \r\nQ 53.90625 64.015625 53.90625 55.328125 \r\nQ 53.90625 49.265625 50.4375 45.09375 \r\nQ 46.96875 40.921875 40.578125 39.3125 \r\nz\r\n\" id=\"DejaVuSans-51\"/>\r\n       </defs>\r\n       <use xlink:href=\"#DejaVuSans-8722\"/>\r\n       <use x=\"83.789062\" xlink:href=\"#DejaVuSans-51\"/>\r\n      </g>\r\n     </g>\r\n    </g>\r\n    <g id=\"xtick_2\">\r\n     <g id=\"line2d_2\">\r\n      <g>\r\n       <use style=\"stroke:#000000;stroke-width:0.8;\" x=\"102.964737\" xlink:href=\"#m83bde81c43\" y=\"224.64\"/>\r\n      </g>\r\n     </g>\r\n     <g id=\"text_2\">\r\n      <!-- −2 -->\r\n      <g transform=\"translate(95.593643 239.238437)scale(0.1 -0.1)\">\r\n       <defs>\r\n        <path d=\"M 19.1875 8.296875 \r\nL 53.609375 8.296875 \r\nL 53.609375 0 \r\nL 7.328125 0 \r\nL 7.328125 8.296875 \r\nQ 12.9375 14.109375 22.625 23.890625 \r\nQ 32.328125 33.6875 34.8125 36.53125 \r\nQ 39.546875 41.84375 41.421875 45.53125 \r\nQ 43.3125 49.21875 43.3125 52.78125 \r\nQ 43.3125 58.59375 39.234375 62.25 \r\nQ 35.15625 65.921875 28.609375 65.921875 \r\nQ 23.96875 65.921875 18.8125 64.3125 \r\nQ 13.671875 62.703125 7.8125 59.421875 \r\nL 7.8125 69.390625 \r\nQ 13.765625 71.78125 18.9375 73 \r\nQ 24.125 74.21875 28.421875 74.21875 \r\nQ 39.75 74.21875 46.484375 68.546875 \r\nQ 53.21875 62.890625 53.21875 53.421875 \r\nQ 53.21875 48.921875 51.53125 44.890625 \r\nQ 49.859375 40.875 45.40625 35.40625 \r\nQ 44.1875 33.984375 37.640625 27.21875 \r\nQ 31.109375 20.453125 19.1875 8.296875 \r\nz\r\n\" id=\"DejaVuSans-50\"/>\r\n       </defs>\r\n       <use xlink:href=\"#DejaVuSans-8722\"/>\r\n       <use x=\"83.789062\" xlink:href=\"#DejaVuSans-50\"/>\r\n      </g>\r\n     </g>\r\n    </g>\r\n    <g id=\"xtick_3\">\r\n     <g id=\"line2d_3\">\r\n      <g>\r\n       <use style=\"stroke:#000000;stroke-width:0.8;\" x=\"143.311622\" xlink:href=\"#m83bde81c43\" y=\"224.64\"/>\r\n      </g>\r\n     </g>\r\n     <g id=\"text_3\">\r\n      <!-- −1 -->\r\n      <g transform=\"translate(135.940528 239.238437)scale(0.1 -0.1)\">\r\n       <defs>\r\n        <path d=\"M 12.40625 8.296875 \r\nL 28.515625 8.296875 \r\nL 28.515625 63.921875 \r\nL 10.984375 60.40625 \r\nL 10.984375 69.390625 \r\nL 28.421875 72.90625 \r\nL 38.28125 72.90625 \r\nL 38.28125 8.296875 \r\nL 54.390625 8.296875 \r\nL 54.390625 0 \r\nL 12.40625 0 \r\nz\r\n\" id=\"DejaVuSans-49\"/>\r\n       </defs>\r\n       <use xlink:href=\"#DejaVuSans-8722\"/>\r\n       <use x=\"83.789062\" xlink:href=\"#DejaVuSans-49\"/>\r\n      </g>\r\n     </g>\r\n    </g>\r\n    <g id=\"xtick_4\">\r\n     <g id=\"line2d_4\">\r\n      <g>\r\n       <use style=\"stroke:#000000;stroke-width:0.8;\" x=\"183.658506\" xlink:href=\"#m83bde81c43\" y=\"224.64\"/>\r\n      </g>\r\n     </g>\r\n     <g id=\"text_4\">\r\n      <!-- 0 -->\r\n      <g transform=\"translate(180.477256 239.238437)scale(0.1 -0.1)\">\r\n       <defs>\r\n        <path d=\"M 31.78125 66.40625 \r\nQ 24.171875 66.40625 20.328125 58.90625 \r\nQ 16.5 51.421875 16.5 36.375 \r\nQ 16.5 21.390625 20.328125 13.890625 \r\nQ 24.171875 6.390625 31.78125 6.390625 \r\nQ 39.453125 6.390625 43.28125 13.890625 \r\nQ 47.125 21.390625 47.125 36.375 \r\nQ 47.125 51.421875 43.28125 58.90625 \r\nQ 39.453125 66.40625 31.78125 66.40625 \r\nz\r\nM 31.78125 74.21875 \r\nQ 44.046875 74.21875 50.515625 64.515625 \r\nQ 56.984375 54.828125 56.984375 36.375 \r\nQ 56.984375 17.96875 50.515625 8.265625 \r\nQ 44.046875 -1.421875 31.78125 -1.421875 \r\nQ 19.53125 -1.421875 13.0625 8.265625 \r\nQ 6.59375 17.96875 6.59375 36.375 \r\nQ 6.59375 54.828125 13.0625 64.515625 \r\nQ 19.53125 74.21875 31.78125 74.21875 \r\nz\r\n\" id=\"DejaVuSans-48\"/>\r\n       </defs>\r\n       <use xlink:href=\"#DejaVuSans-48\"/>\r\n      </g>\r\n     </g>\r\n    </g>\r\n    <g id=\"xtick_5\">\r\n     <g id=\"line2d_5\">\r\n      <g>\r\n       <use style=\"stroke:#000000;stroke-width:0.8;\" x=\"224.005391\" xlink:href=\"#m83bde81c43\" y=\"224.64\"/>\r\n      </g>\r\n     </g>\r\n     <g id=\"text_5\">\r\n      <!-- 1 -->\r\n      <g transform=\"translate(220.824141 239.238437)scale(0.1 -0.1)\">\r\n       <use xlink:href=\"#DejaVuSans-49\"/>\r\n      </g>\r\n     </g>\r\n    </g>\r\n    <g id=\"xtick_6\">\r\n     <g id=\"line2d_6\">\r\n      <g>\r\n       <use style=\"stroke:#000000;stroke-width:0.8;\" x=\"264.352276\" xlink:href=\"#m83bde81c43\" y=\"224.64\"/>\r\n      </g>\r\n     </g>\r\n     <g id=\"text_6\">\r\n      <!-- 2 -->\r\n      <g transform=\"translate(261.171026 239.238437)scale(0.1 -0.1)\">\r\n       <use xlink:href=\"#DejaVuSans-50\"/>\r\n      </g>\r\n     </g>\r\n    </g>\r\n    <g id=\"xtick_7\">\r\n     <g id=\"line2d_7\">\r\n      <g>\r\n       <use style=\"stroke:#000000;stroke-width:0.8;\" x=\"304.699161\" xlink:href=\"#m83bde81c43\" y=\"224.64\"/>\r\n      </g>\r\n     </g>\r\n     <g id=\"text_7\">\r\n      <!-- 3 -->\r\n      <g transform=\"translate(301.517911 239.238437)scale(0.1 -0.1)\">\r\n       <use xlink:href=\"#DejaVuSans-51\"/>\r\n      </g>\r\n     </g>\r\n    </g>\r\n    <g id=\"xtick_8\">\r\n     <g id=\"line2d_8\">\r\n      <g>\r\n       <use style=\"stroke:#000000;stroke-width:0.8;\" x=\"345.046046\" xlink:href=\"#m83bde81c43\" y=\"224.64\"/>\r\n      </g>\r\n     </g>\r\n     <g id=\"text_8\">\r\n      <!-- 4 -->\r\n      <g transform=\"translate(341.864796 239.238437)scale(0.1 -0.1)\">\r\n       <defs>\r\n        <path d=\"M 37.796875 64.3125 \r\nL 12.890625 25.390625 \r\nL 37.796875 25.390625 \r\nz\r\nM 35.203125 72.90625 \r\nL 47.609375 72.90625 \r\nL 47.609375 25.390625 \r\nL 58.015625 25.390625 \r\nL 58.015625 17.1875 \r\nL 47.609375 17.1875 \r\nL 47.609375 0 \r\nL 37.796875 0 \r\nL 37.796875 17.1875 \r\nL 4.890625 17.1875 \r\nL 4.890625 26.703125 \r\nz\r\n\" id=\"DejaVuSans-52\"/>\r\n       </defs>\r\n       <use xlink:href=\"#DejaVuSans-52\"/>\r\n      </g>\r\n     </g>\r\n    </g>\r\n   </g>\r\n   <g id=\"matplotlib.axis_2\">\r\n    <g id=\"ytick_1\">\r\n     <g id=\"line2d_9\">\r\n      <defs>\r\n       <path d=\"M 0 0 \r\nL -3.5 0 \r\n\" id=\"m3c3b0734b9\" style=\"stroke:#000000;stroke-width:0.8;\"/>\r\n      </defs>\r\n      <g>\r\n       <use style=\"stroke:#000000;stroke-width:0.8;\" x=\"28.942188\" xlink:href=\"#m3c3b0734b9\" y=\"212.504064\"/>\r\n      </g>\r\n     </g>\r\n     <g id=\"text_9\">\r\n      <!-- −3 -->\r\n      <g transform=\"translate(7.2 216.303283)scale(0.1 -0.1)\">\r\n       <use xlink:href=\"#DejaVuSans-8722\"/>\r\n       <use x=\"83.789062\" xlink:href=\"#DejaVuSans-51\"/>\r\n      </g>\r\n     </g>\r\n    </g>\r\n    <g id=\"ytick_2\">\r\n     <g id=\"line2d_10\">\r\n      <g>\r\n       <use style=\"stroke:#000000;stroke-width:0.8;\" x=\"28.942188\" xlink:href=\"#m3c3b0734b9\" y=\"180.943911\"/>\r\n      </g>\r\n     </g>\r\n     <g id=\"text_10\">\r\n      <!-- −2 -->\r\n      <g transform=\"translate(7.2 184.74313)scale(0.1 -0.1)\">\r\n       <use xlink:href=\"#DejaVuSans-8722\"/>\r\n       <use x=\"83.789062\" xlink:href=\"#DejaVuSans-50\"/>\r\n      </g>\r\n     </g>\r\n    </g>\r\n    <g id=\"ytick_3\">\r\n     <g id=\"line2d_11\">\r\n      <g>\r\n       <use style=\"stroke:#000000;stroke-width:0.8;\" x=\"28.942188\" xlink:href=\"#m3c3b0734b9\" y=\"149.383758\"/>\r\n      </g>\r\n     </g>\r\n     <g id=\"text_11\">\r\n      <!-- −1 -->\r\n      <g transform=\"translate(7.2 153.182977)scale(0.1 -0.1)\">\r\n       <use xlink:href=\"#DejaVuSans-8722\"/>\r\n       <use x=\"83.789062\" xlink:href=\"#DejaVuSans-49\"/>\r\n      </g>\r\n     </g>\r\n    </g>\r\n    <g id=\"ytick_4\">\r\n     <g id=\"line2d_12\">\r\n      <g>\r\n       <use style=\"stroke:#000000;stroke-width:0.8;\" x=\"28.942188\" xlink:href=\"#m3c3b0734b9\" y=\"117.823605\"/>\r\n      </g>\r\n     </g>\r\n     <g id=\"text_12\">\r\n      <!-- 0 -->\r\n      <g transform=\"translate(15.579688 121.622823)scale(0.1 -0.1)\">\r\n       <use xlink:href=\"#DejaVuSans-48\"/>\r\n      </g>\r\n     </g>\r\n    </g>\r\n    <g id=\"ytick_5\">\r\n     <g id=\"line2d_13\">\r\n      <g>\r\n       <use style=\"stroke:#000000;stroke-width:0.8;\" x=\"28.942188\" xlink:href=\"#m3c3b0734b9\" y=\"86.263451\"/>\r\n      </g>\r\n     </g>\r\n     <g id=\"text_13\">\r\n      <!-- 1 -->\r\n      <g transform=\"translate(15.579688 90.06267)scale(0.1 -0.1)\">\r\n       <use xlink:href=\"#DejaVuSans-49\"/>\r\n      </g>\r\n     </g>\r\n    </g>\r\n    <g id=\"ytick_6\">\r\n     <g id=\"line2d_14\">\r\n      <g>\r\n       <use style=\"stroke:#000000;stroke-width:0.8;\" x=\"28.942188\" xlink:href=\"#m3c3b0734b9\" y=\"54.703298\"/>\r\n      </g>\r\n     </g>\r\n     <g id=\"text_14\">\r\n      <!-- 2 -->\r\n      <g transform=\"translate(15.579688 58.502517)scale(0.1 -0.1)\">\r\n       <use xlink:href=\"#DejaVuSans-50\"/>\r\n      </g>\r\n     </g>\r\n    </g>\r\n    <g id=\"ytick_7\">\r\n     <g id=\"line2d_15\">\r\n      <g>\r\n       <use style=\"stroke:#000000;stroke-width:0.8;\" x=\"28.942188\" xlink:href=\"#m3c3b0734b9\" y=\"23.143145\"/>\r\n      </g>\r\n     </g>\r\n     <g id=\"text_15\">\r\n      <!-- 3 -->\r\n      <g transform=\"translate(15.579688 26.942364)scale(0.1 -0.1)\">\r\n       <use xlink:href=\"#DejaVuSans-51\"/>\r\n      </g>\r\n     </g>\r\n    </g>\r\n   </g>\r\n   <g id=\"patch_3\">\r\n    <path d=\"M 28.942188 224.64 \r\nL 28.942188 7.2 \r\n\" style=\"fill:none;stroke:#000000;stroke-linecap:square;stroke-linejoin:miter;stroke-width:0.8;\"/>\r\n   </g>\r\n   <g id=\"patch_4\">\r\n    <path d=\"M 363.742188 224.64 \r\nL 363.742188 7.2 \r\n\" style=\"fill:none;stroke:#000000;stroke-linecap:square;stroke-linejoin:miter;stroke-width:0.8;\"/>\r\n   </g>\r\n   <g id=\"patch_5\">\r\n    <path d=\"M 28.942188 224.64 \r\nL 363.742188 224.64 \r\n\" style=\"fill:none;stroke:#000000;stroke-linecap:square;stroke-linejoin:miter;stroke-width:0.8;\"/>\r\n   </g>\r\n   <g id=\"patch_6\">\r\n    <path d=\"M 28.942188 7.2 \r\nL 363.742188 7.2 \r\n\" style=\"fill:none;stroke:#000000;stroke-linecap:square;stroke-linejoin:miter;stroke-width:0.8;\"/>\r\n   </g>\r\n   <g id=\"text_16\">\r\n    <!-- big -->\r\n    <g transform=\"translate(190.00709 77.62324)scale(0.1 -0.1)\">\r\n     <defs>\r\n      <path d=\"M 48.6875 27.296875 \r\nQ 48.6875 37.203125 44.609375 42.84375 \r\nQ 40.53125 48.484375 33.40625 48.484375 \r\nQ 26.265625 48.484375 22.1875 42.84375 \r\nQ 18.109375 37.203125 18.109375 27.296875 \r\nQ 18.109375 17.390625 22.1875 11.75 \r\nQ 26.265625 6.109375 33.40625 6.109375 \r\nQ 40.53125 6.109375 44.609375 11.75 \r\nQ 48.6875 17.390625 48.6875 27.296875 \r\nz\r\nM 18.109375 46.390625 \r\nQ 20.953125 51.265625 25.265625 53.625 \r\nQ 29.59375 56 35.59375 56 \r\nQ 45.5625 56 51.78125 48.09375 \r\nQ 58.015625 40.1875 58.015625 27.296875 \r\nQ 58.015625 14.40625 51.78125 6.484375 \r\nQ 45.5625 -1.421875 35.59375 -1.421875 \r\nQ 29.59375 -1.421875 25.265625 0.953125 \r\nQ 20.953125 3.328125 18.109375 8.203125 \r\nL 18.109375 0 \r\nL 9.078125 0 \r\nL 9.078125 75.984375 \r\nL 18.109375 75.984375 \r\nz\r\n\" id=\"DejaVuSans-98\"/>\r\n      <path d=\"M 9.421875 54.6875 \r\nL 18.40625 54.6875 \r\nL 18.40625 0 \r\nL 9.421875 0 \r\nz\r\nM 9.421875 75.984375 \r\nL 18.40625 75.984375 \r\nL 18.40625 64.59375 \r\nL 9.421875 64.59375 \r\nz\r\n\" id=\"DejaVuSans-105\"/>\r\n      <path d=\"M 45.40625 27.984375 \r\nQ 45.40625 37.75 41.375 43.109375 \r\nQ 37.359375 48.484375 30.078125 48.484375 \r\nQ 22.859375 48.484375 18.828125 43.109375 \r\nQ 14.796875 37.75 14.796875 27.984375 \r\nQ 14.796875 18.265625 18.828125 12.890625 \r\nQ 22.859375 7.515625 30.078125 7.515625 \r\nQ 37.359375 7.515625 41.375 12.890625 \r\nQ 45.40625 18.265625 45.40625 27.984375 \r\nz\r\nM 54.390625 6.78125 \r\nQ 54.390625 -7.171875 48.1875 -13.984375 \r\nQ 42 -20.796875 29.203125 -20.796875 \r\nQ 24.46875 -20.796875 20.265625 -20.09375 \r\nQ 16.0625 -19.390625 12.109375 -17.921875 \r\nL 12.109375 -9.1875 \r\nQ 16.0625 -11.328125 19.921875 -12.34375 \r\nQ 23.78125 -13.375 27.78125 -13.375 \r\nQ 36.625 -13.375 41.015625 -8.765625 \r\nQ 45.40625 -4.15625 45.40625 5.171875 \r\nL 45.40625 9.625 \r\nQ 42.625 4.78125 38.28125 2.390625 \r\nQ 33.9375 0 27.875 0 \r\nQ 17.828125 0 11.671875 7.65625 \r\nQ 5.515625 15.328125 5.515625 27.984375 \r\nQ 5.515625 40.671875 11.671875 48.328125 \r\nQ 17.828125 56 27.875 56 \r\nQ 33.9375 56 38.28125 53.609375 \r\nQ 42.625 51.21875 45.40625 46.390625 \r\nL 45.40625 54.6875 \r\nL 54.390625 54.6875 \r\nz\r\n\" id=\"DejaVuSans-103\"/>\r\n     </defs>\r\n     <use xlink:href=\"#DejaVuSans-98\"/>\r\n     <use x=\"63.476562\" xlink:href=\"#DejaVuSans-105\"/>\r\n     <use x=\"91.259766\" xlink:href=\"#DejaVuSans-103\"/>\r\n    </g>\r\n   </g>\r\n   <g id=\"text_17\">\r\n    <!-- puppy -->\r\n    <g transform=\"translate(44.160369 214.756364)scale(0.1 -0.1)\">\r\n     <defs>\r\n      <path d=\"M 18.109375 8.203125 \r\nL 18.109375 -20.796875 \r\nL 9.078125 -20.796875 \r\nL 9.078125 54.6875 \r\nL 18.109375 54.6875 \r\nL 18.109375 46.390625 \r\nQ 20.953125 51.265625 25.265625 53.625 \r\nQ 29.59375 56 35.59375 56 \r\nQ 45.5625 56 51.78125 48.09375 \r\nQ 58.015625 40.1875 58.015625 27.296875 \r\nQ 58.015625 14.40625 51.78125 6.484375 \r\nQ 45.5625 -1.421875 35.59375 -1.421875 \r\nQ 29.59375 -1.421875 25.265625 0.953125 \r\nQ 20.953125 3.328125 18.109375 8.203125 \r\nz\r\nM 48.6875 27.296875 \r\nQ 48.6875 37.203125 44.609375 42.84375 \r\nQ 40.53125 48.484375 33.40625 48.484375 \r\nQ 26.265625 48.484375 22.1875 42.84375 \r\nQ 18.109375 37.203125 18.109375 27.296875 \r\nQ 18.109375 17.390625 22.1875 11.75 \r\nQ 26.265625 6.109375 33.40625 6.109375 \r\nQ 40.53125 6.109375 44.609375 11.75 \r\nQ 48.6875 17.390625 48.6875 27.296875 \r\nz\r\n\" id=\"DejaVuSans-112\"/>\r\n      <path d=\"M 8.5 21.578125 \r\nL 8.5 54.6875 \r\nL 17.484375 54.6875 \r\nL 17.484375 21.921875 \r\nQ 17.484375 14.15625 20.5 10.265625 \r\nQ 23.53125 6.390625 29.59375 6.390625 \r\nQ 36.859375 6.390625 41.078125 11.03125 \r\nQ 45.3125 15.671875 45.3125 23.6875 \r\nL 45.3125 54.6875 \r\nL 54.296875 54.6875 \r\nL 54.296875 0 \r\nL 45.3125 0 \r\nL 45.3125 8.40625 \r\nQ 42.046875 3.421875 37.71875 1 \r\nQ 33.40625 -1.421875 27.6875 -1.421875 \r\nQ 18.265625 -1.421875 13.375 4.4375 \r\nQ 8.5 10.296875 8.5 21.578125 \r\nz\r\nM 31.109375 56 \r\nz\r\n\" id=\"DejaVuSans-117\"/>\r\n      <path d=\"M 32.171875 -5.078125 \r\nQ 28.375 -14.84375 24.75 -17.8125 \r\nQ 21.140625 -20.796875 15.09375 -20.796875 \r\nL 7.90625 -20.796875 \r\nL 7.90625 -13.28125 \r\nL 13.1875 -13.28125 \r\nQ 16.890625 -13.28125 18.9375 -11.515625 \r\nQ 21 -9.765625 23.484375 -3.21875 \r\nL 25.09375 0.875 \r\nL 2.984375 54.6875 \r\nL 12.5 54.6875 \r\nL 29.59375 11.921875 \r\nL 46.6875 54.6875 \r\nL 56.203125 54.6875 \r\nz\r\n\" id=\"DejaVuSans-121\"/>\r\n     </defs>\r\n     <use xlink:href=\"#DejaVuSans-112\"/>\r\n     <use x=\"63.476562\" xlink:href=\"#DejaVuSans-117\"/>\r\n     <use x=\"126.855469\" xlink:href=\"#DejaVuSans-112\"/>\r\n     <use x=\"190.332031\" xlink:href=\"#DejaVuSans-112\"/>\r\n     <use x=\"253.808594\" xlink:href=\"#DejaVuSans-121\"/>\r\n    </g>\r\n   </g>\r\n   <g id=\"text_18\">\r\n    <!-- kitty -->\r\n    <g transform=\"translate(89.461298 171.965504)scale(0.1 -0.1)\">\r\n     <defs>\r\n      <path d=\"M 9.078125 75.984375 \r\nL 18.109375 75.984375 \r\nL 18.109375 31.109375 \r\nL 44.921875 54.6875 \r\nL 56.390625 54.6875 \r\nL 27.390625 29.109375 \r\nL 57.625 0 \r\nL 45.90625 0 \r\nL 18.109375 26.703125 \r\nL 18.109375 0 \r\nL 9.078125 0 \r\nz\r\n\" id=\"DejaVuSans-107\"/>\r\n      <path d=\"M 18.3125 70.21875 \r\nL 18.3125 54.6875 \r\nL 36.8125 54.6875 \r\nL 36.8125 47.703125 \r\nL 18.3125 47.703125 \r\nL 18.3125 18.015625 \r\nQ 18.3125 11.328125 20.140625 9.421875 \r\nQ 21.96875 7.515625 27.59375 7.515625 \r\nL 36.8125 7.515625 \r\nL 36.8125 0 \r\nL 27.59375 0 \r\nQ 17.1875 0 13.234375 3.875 \r\nQ 9.28125 7.765625 9.28125 18.015625 \r\nL 9.28125 47.703125 \r\nL 2.6875 47.703125 \r\nL 2.6875 54.6875 \r\nL 9.28125 54.6875 \r\nL 9.28125 70.21875 \r\nz\r\n\" id=\"DejaVuSans-116\"/>\r\n     </defs>\r\n     <use xlink:href=\"#DejaVuSans-107\"/>\r\n     <use x=\"57.910156\" xlink:href=\"#DejaVuSans-105\"/>\r\n     <use x=\"85.693359\" xlink:href=\"#DejaVuSans-116\"/>\r\n     <use x=\"124.902344\" xlink:href=\"#DejaVuSans-116\"/>\r\n     <use x=\"164.111328\" xlink:href=\"#DejaVuSans-121\"/>\r\n    </g>\r\n   </g>\r\n   <g id=\"text_19\">\r\n    <!-- happy -->\r\n    <g transform=\"translate(135.028446 81.576295)scale(0.1 -0.1)\">\r\n     <defs>\r\n      <path d=\"M 54.890625 33.015625 \r\nL 54.890625 0 \r\nL 45.90625 0 \r\nL 45.90625 32.71875 \r\nQ 45.90625 40.484375 42.875 44.328125 \r\nQ 39.84375 48.1875 33.796875 48.1875 \r\nQ 26.515625 48.1875 22.3125 43.546875 \r\nQ 18.109375 38.921875 18.109375 30.90625 \r\nL 18.109375 0 \r\nL 9.078125 0 \r\nL 9.078125 75.984375 \r\nL 18.109375 75.984375 \r\nL 18.109375 46.1875 \r\nQ 21.34375 51.125 25.703125 53.5625 \r\nQ 30.078125 56 35.796875 56 \r\nQ 45.21875 56 50.046875 50.171875 \r\nQ 54.890625 44.34375 54.890625 33.015625 \r\nz\r\n\" id=\"DejaVuSans-104\"/>\r\n      <path d=\"M 34.28125 27.484375 \r\nQ 23.390625 27.484375 19.1875 25 \r\nQ 14.984375 22.515625 14.984375 16.5 \r\nQ 14.984375 11.71875 18.140625 8.90625 \r\nQ 21.296875 6.109375 26.703125 6.109375 \r\nQ 34.1875 6.109375 38.703125 11.40625 \r\nQ 43.21875 16.703125 43.21875 25.484375 \r\nL 43.21875 27.484375 \r\nz\r\nM 52.203125 31.203125 \r\nL 52.203125 0 \r\nL 43.21875 0 \r\nL 43.21875 8.296875 \r\nQ 40.140625 3.328125 35.546875 0.953125 \r\nQ 30.953125 -1.421875 24.3125 -1.421875 \r\nQ 15.921875 -1.421875 10.953125 3.296875 \r\nQ 6 8.015625 6 15.921875 \r\nQ 6 25.140625 12.171875 29.828125 \r\nQ 18.359375 34.515625 30.609375 34.515625 \r\nL 43.21875 34.515625 \r\nL 43.21875 35.40625 \r\nQ 43.21875 41.609375 39.140625 45 \r\nQ 35.0625 48.390625 27.6875 48.390625 \r\nQ 23 48.390625 18.546875 47.265625 \r\nQ 14.109375 46.140625 10.015625 43.890625 \r\nL 10.015625 52.203125 \r\nQ 14.9375 54.109375 19.578125 55.046875 \r\nQ 24.21875 56 28.609375 56 \r\nQ 40.484375 56 46.34375 49.84375 \r\nQ 52.203125 43.703125 52.203125 31.203125 \r\nz\r\n\" id=\"DejaVuSans-97\"/>\r\n     </defs>\r\n     <use xlink:href=\"#DejaVuSans-104\"/>\r\n     <use x=\"63.378906\" xlink:href=\"#DejaVuSans-97\"/>\r\n     <use x=\"124.658203\" xlink:href=\"#DejaVuSans-112\"/>\r\n     <use x=\"188.134766\" xlink:href=\"#DejaVuSans-112\"/>\r\n     <use x=\"251.611328\" xlink:href=\"#DejaVuSans-121\"/>\r\n    </g>\r\n   </g>\r\n   <g id=\"text_20\">\r\n    <!-- king -->\r\n    <g transform=\"translate(232.039418 17.083636)scale(0.1 -0.1)\">\r\n     <defs>\r\n      <path d=\"M 54.890625 33.015625 \r\nL 54.890625 0 \r\nL 45.90625 0 \r\nL 45.90625 32.71875 \r\nQ 45.90625 40.484375 42.875 44.328125 \r\nQ 39.84375 48.1875 33.796875 48.1875 \r\nQ 26.515625 48.1875 22.3125 43.546875 \r\nQ 18.109375 38.921875 18.109375 30.90625 \r\nL 18.109375 0 \r\nL 9.078125 0 \r\nL 9.078125 54.6875 \r\nL 18.109375 54.6875 \r\nL 18.109375 46.1875 \r\nQ 21.34375 51.125 25.703125 53.5625 \r\nQ 30.078125 56 35.796875 56 \r\nQ 45.21875 56 50.046875 50.171875 \r\nQ 54.890625 44.34375 54.890625 33.015625 \r\nz\r\n\" id=\"DejaVuSans-110\"/>\r\n     </defs>\r\n     <use xlink:href=\"#DejaVuSans-107\"/>\r\n     <use x=\"57.910156\" xlink:href=\"#DejaVuSans-105\"/>\r\n     <use x=\"85.693359\" xlink:href=\"#DejaVuSans-110\"/>\r\n     <use x=\"149.072266\" xlink:href=\"#DejaVuSans-103\"/>\r\n    </g>\r\n   </g>\r\n   <g id=\"text_21\">\r\n    <!-- small -->\r\n    <g transform=\"translate(197.675521 106.027369)scale(0.1 -0.1)\">\r\n     <defs>\r\n      <path d=\"M 44.28125 53.078125 \r\nL 44.28125 44.578125 \r\nQ 40.484375 46.53125 36.375 47.5 \r\nQ 32.28125 48.484375 27.875 48.484375 \r\nQ 21.1875 48.484375 17.84375 46.4375 \r\nQ 14.5 44.390625 14.5 40.28125 \r\nQ 14.5 37.15625 16.890625 35.375 \r\nQ 19.28125 33.59375 26.515625 31.984375 \r\nL 29.59375 31.296875 \r\nQ 39.15625 29.25 43.1875 25.515625 \r\nQ 47.21875 21.78125 47.21875 15.09375 \r\nQ 47.21875 7.46875 41.1875 3.015625 \r\nQ 35.15625 -1.421875 24.609375 -1.421875 \r\nQ 20.21875 -1.421875 15.453125 -0.5625 \r\nQ 10.6875 0.296875 5.421875 2 \r\nL 5.421875 11.28125 \r\nQ 10.40625 8.6875 15.234375 7.390625 \r\nQ 20.0625 6.109375 24.8125 6.109375 \r\nQ 31.15625 6.109375 34.5625 8.28125 \r\nQ 37.984375 10.453125 37.984375 14.40625 \r\nQ 37.984375 18.0625 35.515625 20.015625 \r\nQ 33.0625 21.96875 24.703125 23.78125 \r\nL 21.578125 24.515625 \r\nQ 13.234375 26.265625 9.515625 29.90625 \r\nQ 5.8125 33.546875 5.8125 39.890625 \r\nQ 5.8125 47.609375 11.28125 51.796875 \r\nQ 16.75 56 26.8125 56 \r\nQ 31.78125 56 36.171875 55.265625 \r\nQ 40.578125 54.546875 44.28125 53.078125 \r\nz\r\n\" id=\"DejaVuSans-115\"/>\r\n      <path d=\"M 52 44.1875 \r\nQ 55.375 50.25 60.0625 53.125 \r\nQ 64.75 56 71.09375 56 \r\nQ 79.640625 56 84.28125 50.015625 \r\nQ 88.921875 44.046875 88.921875 33.015625 \r\nL 88.921875 0 \r\nL 79.890625 0 \r\nL 79.890625 32.71875 \r\nQ 79.890625 40.578125 77.09375 44.375 \r\nQ 74.3125 48.1875 68.609375 48.1875 \r\nQ 61.625 48.1875 57.5625 43.546875 \r\nQ 53.515625 38.921875 53.515625 30.90625 \r\nL 53.515625 0 \r\nL 44.484375 0 \r\nL 44.484375 32.71875 \r\nQ 44.484375 40.625 41.703125 44.40625 \r\nQ 38.921875 48.1875 33.109375 48.1875 \r\nQ 26.21875 48.1875 22.15625 43.53125 \r\nQ 18.109375 38.875 18.109375 30.90625 \r\nL 18.109375 0 \r\nL 9.078125 0 \r\nL 9.078125 54.6875 \r\nL 18.109375 54.6875 \r\nL 18.109375 46.1875 \r\nQ 21.1875 51.21875 25.484375 53.609375 \r\nQ 29.78125 56 35.6875 56 \r\nQ 41.65625 56 45.828125 52.96875 \r\nQ 50 49.953125 52 44.1875 \r\nz\r\n\" id=\"DejaVuSans-109\"/>\r\n      <path d=\"M 9.421875 75.984375 \r\nL 18.40625 75.984375 \r\nL 18.40625 0 \r\nL 9.421875 0 \r\nz\r\n\" id=\"DejaVuSans-108\"/>\r\n     </defs>\r\n     <use xlink:href=\"#DejaVuSans-115\"/>\r\n     <use x=\"52.099609\" xlink:href=\"#DejaVuSans-109\"/>\r\n     <use x=\"149.511719\" xlink:href=\"#DejaVuSans-97\"/>\r\n     <use x=\"210.791016\" xlink:href=\"#DejaVuSans-108\"/>\r\n     <use x=\"238.574219\" xlink:href=\"#DejaVuSans-108\"/>\r\n    </g>\r\n   </g>\r\n   <g id=\"text_22\">\r\n    <!-- dog -->\r\n    <g transform=\"translate(78.645361 206.406601)scale(0.1 -0.1)\">\r\n     <defs>\r\n      <path d=\"M 45.40625 46.390625 \r\nL 45.40625 75.984375 \r\nL 54.390625 75.984375 \r\nL 54.390625 0 \r\nL 45.40625 0 \r\nL 45.40625 8.203125 \r\nQ 42.578125 3.328125 38.25 0.953125 \r\nQ 33.9375 -1.421875 27.875 -1.421875 \r\nQ 17.96875 -1.421875 11.734375 6.484375 \r\nQ 5.515625 14.40625 5.515625 27.296875 \r\nQ 5.515625 40.1875 11.734375 48.09375 \r\nQ 17.96875 56 27.875 56 \r\nQ 33.9375 56 38.25 53.625 \r\nQ 42.578125 51.265625 45.40625 46.390625 \r\nz\r\nM 14.796875 27.296875 \r\nQ 14.796875 17.390625 18.875 11.75 \r\nQ 22.953125 6.109375 30.078125 6.109375 \r\nQ 37.203125 6.109375 41.296875 11.75 \r\nQ 45.40625 17.390625 45.40625 27.296875 \r\nQ 45.40625 37.203125 41.296875 42.84375 \r\nQ 37.203125 48.484375 30.078125 48.484375 \r\nQ 22.953125 48.484375 18.875 42.84375 \r\nQ 14.796875 37.203125 14.796875 27.296875 \r\nz\r\n\" id=\"DejaVuSans-100\"/>\r\n      <path d=\"M 30.609375 48.390625 \r\nQ 23.390625 48.390625 19.1875 42.75 \r\nQ 14.984375 37.109375 14.984375 27.296875 \r\nQ 14.984375 17.484375 19.15625 11.84375 \r\nQ 23.34375 6.203125 30.609375 6.203125 \r\nQ 37.796875 6.203125 41.984375 11.859375 \r\nQ 46.1875 17.53125 46.1875 27.296875 \r\nQ 46.1875 37.015625 41.984375 42.703125 \r\nQ 37.796875 48.390625 30.609375 48.390625 \r\nz\r\nM 30.609375 56 \r\nQ 42.328125 56 49.015625 48.375 \r\nQ 55.71875 40.765625 55.71875 27.296875 \r\nQ 55.71875 13.875 49.015625 6.21875 \r\nQ 42.328125 -1.421875 30.609375 -1.421875 \r\nQ 18.84375 -1.421875 12.171875 6.21875 \r\nQ 5.515625 13.875 5.515625 27.296875 \r\nQ 5.515625 40.765625 12.171875 48.375 \r\nQ 18.84375 56 30.609375 56 \r\nz\r\n\" id=\"DejaVuSans-111\"/>\r\n     </defs>\r\n     <use xlink:href=\"#DejaVuSans-100\"/>\r\n     <use x=\"63.476562\" xlink:href=\"#DejaVuSans-111\"/>\r\n     <use x=\"124.658203\" xlink:href=\"#DejaVuSans-103\"/>\r\n    </g>\r\n   </g>\r\n   <g id=\"text_23\">\r\n    <!-- fish -->\r\n    <g transform=\"translate(315.527854 188.664884)scale(0.1 -0.1)\">\r\n     <defs>\r\n      <path d=\"M 37.109375 75.984375 \r\nL 37.109375 68.5 \r\nL 28.515625 68.5 \r\nQ 23.6875 68.5 21.796875 66.546875 \r\nQ 19.921875 64.59375 19.921875 59.515625 \r\nL 19.921875 54.6875 \r\nL 34.71875 54.6875 \r\nL 34.71875 47.703125 \r\nL 19.921875 47.703125 \r\nL 19.921875 0 \r\nL 10.890625 0 \r\nL 10.890625 47.703125 \r\nL 2.296875 47.703125 \r\nL 2.296875 54.6875 \r\nL 10.890625 54.6875 \r\nL 10.890625 58.5 \r\nQ 10.890625 67.625 15.140625 71.796875 \r\nQ 19.390625 75.984375 28.609375 75.984375 \r\nz\r\n\" id=\"DejaVuSans-102\"/>\r\n     </defs>\r\n     <use xlink:href=\"#DejaVuSans-102\"/>\r\n     <use x=\"35.205078\" xlink:href=\"#DejaVuSans-105\"/>\r\n     <use x=\"62.988281\" xlink:href=\"#DejaVuSans-115\"/>\r\n     <use x=\"115.087891\" xlink:href=\"#DejaVuSans-104\"/>\r\n    </g>\r\n   </g>\r\n   <g id=\"text_24\">\r\n    <!-- cute -->\r\n    <g transform=\"translate(84.002855 123.411421)scale(0.1 -0.1)\">\r\n     <defs>\r\n      <path d=\"M 48.78125 52.59375 \r\nL 48.78125 44.1875 \r\nQ 44.96875 46.296875 41.140625 47.34375 \r\nQ 37.3125 48.390625 33.40625 48.390625 \r\nQ 24.65625 48.390625 19.8125 42.84375 \r\nQ 14.984375 37.3125 14.984375 27.296875 \r\nQ 14.984375 17.28125 19.8125 11.734375 \r\nQ 24.65625 6.203125 33.40625 6.203125 \r\nQ 37.3125 6.203125 41.140625 7.25 \r\nQ 44.96875 8.296875 48.78125 10.40625 \r\nL 48.78125 2.09375 \r\nQ 45.015625 0.34375 40.984375 -0.53125 \r\nQ 36.96875 -1.421875 32.421875 -1.421875 \r\nQ 20.0625 -1.421875 12.78125 6.34375 \r\nQ 5.515625 14.109375 5.515625 27.296875 \r\nQ 5.515625 40.671875 12.859375 48.328125 \r\nQ 20.21875 56 33.015625 56 \r\nQ 37.15625 56 41.109375 55.140625 \r\nQ 45.0625 54.296875 48.78125 52.59375 \r\nz\r\n\" id=\"DejaVuSans-99\"/>\r\n      <path d=\"M 56.203125 29.59375 \r\nL 56.203125 25.203125 \r\nL 14.890625 25.203125 \r\nQ 15.484375 15.921875 20.484375 11.0625 \r\nQ 25.484375 6.203125 34.421875 6.203125 \r\nQ 39.59375 6.203125 44.453125 7.46875 \r\nQ 49.3125 8.734375 54.109375 11.28125 \r\nL 54.109375 2.78125 \r\nQ 49.265625 0.734375 44.1875 -0.34375 \r\nQ 39.109375 -1.421875 33.890625 -1.421875 \r\nQ 20.796875 -1.421875 13.15625 6.1875 \r\nQ 5.515625 13.8125 5.515625 26.8125 \r\nQ 5.515625 40.234375 12.765625 48.109375 \r\nQ 20.015625 56 32.328125 56 \r\nQ 43.359375 56 49.78125 48.890625 \r\nQ 56.203125 41.796875 56.203125 29.59375 \r\nz\r\nM 47.21875 32.234375 \r\nQ 47.125 39.59375 43.09375 43.984375 \r\nQ 39.0625 48.390625 32.421875 48.390625 \r\nQ 24.90625 48.390625 20.390625 44.140625 \r\nQ 15.875 39.890625 15.1875 32.171875 \r\nz\r\n\" id=\"DejaVuSans-101\"/>\r\n     </defs>\r\n     <use xlink:href=\"#DejaVuSans-99\"/>\r\n     <use x=\"54.980469\" xlink:href=\"#DejaVuSans-117\"/>\r\n     <use x=\"118.359375\" xlink:href=\"#DejaVuSans-116\"/>\r\n     <use x=\"157.568359\" xlink:href=\"#DejaVuSans-101\"/>\r\n    </g>\r\n   </g>\r\n   <g id=\"text_25\">\r\n    <!-- cat -->\r\n    <g transform=\"translate(96.05396 196.34161)scale(0.1 -0.1)\">\r\n     <use xlink:href=\"#DejaVuSans-99\"/>\r\n     <use x=\"54.980469\" xlink:href=\"#DejaVuSans-97\"/>\r\n     <use x=\"116.259766\" xlink:href=\"#DejaVuSans-116\"/>\r\n    </g>\r\n   </g>\r\n   <g id=\"text_26\">\r\n    <!-- woman -->\r\n    <g transform=\"translate(151.944025 37.701884)scale(0.1 -0.1)\">\r\n     <defs>\r\n      <path d=\"M 4.203125 54.6875 \r\nL 13.1875 54.6875 \r\nL 24.421875 12.015625 \r\nL 35.59375 54.6875 \r\nL 46.1875 54.6875 \r\nL 57.421875 12.015625 \r\nL 68.609375 54.6875 \r\nL 77.59375 54.6875 \r\nL 63.28125 0 \r\nL 52.6875 0 \r\nL 40.921875 44.828125 \r\nL 29.109375 0 \r\nL 18.5 0 \r\nz\r\n\" id=\"DejaVuSans-119\"/>\r\n     </defs>\r\n     <use xlink:href=\"#DejaVuSans-119\"/>\r\n     <use x=\"81.787109\" xlink:href=\"#DejaVuSans-111\"/>\r\n     <use x=\"142.96875\" xlink:href=\"#DejaVuSans-109\"/>\r\n     <use x=\"240.380859\" xlink:href=\"#DejaVuSans-97\"/>\r\n     <use x=\"301.660156\" xlink:href=\"#DejaVuSans-110\"/>\r\n    </g>\r\n   </g>\r\n   <g id=\"text_27\">\r\n    <!-- ugly -->\r\n    <g transform=\"translate(151.289847 64.192402)scale(0.1 -0.1)\">\r\n     <use xlink:href=\"#DejaVuSans-117\"/>\r\n     <use x=\"63.378906\" xlink:href=\"#DejaVuSans-103\"/>\r\n     <use x=\"126.855469\" xlink:href=\"#DejaVuSans-108\"/>\r\n     <use x=\"154.638672\" xlink:href=\"#DejaVuSans-121\"/>\r\n    </g>\r\n   </g>\r\n   <g id=\"text_28\">\r\n    <!-- queen -->\r\n    <g transform=\"translate(203.553351 17.166431)scale(0.1 -0.1)\">\r\n     <defs>\r\n      <path d=\"M 14.796875 27.296875 \r\nQ 14.796875 17.390625 18.875 11.75 \r\nQ 22.953125 6.109375 30.078125 6.109375 \r\nQ 37.203125 6.109375 41.296875 11.75 \r\nQ 45.40625 17.390625 45.40625 27.296875 \r\nQ 45.40625 37.203125 41.296875 42.84375 \r\nQ 37.203125 48.484375 30.078125 48.484375 \r\nQ 22.953125 48.484375 18.875 42.84375 \r\nQ 14.796875 37.203125 14.796875 27.296875 \r\nz\r\nM 45.40625 8.203125 \r\nQ 42.578125 3.328125 38.25 0.953125 \r\nQ 33.9375 -1.421875 27.875 -1.421875 \r\nQ 17.96875 -1.421875 11.734375 6.484375 \r\nQ 5.515625 14.40625 5.515625 27.296875 \r\nQ 5.515625 40.1875 11.734375 48.09375 \r\nQ 17.96875 56 27.875 56 \r\nQ 33.9375 56 38.25 53.625 \r\nQ 42.578125 51.265625 45.40625 46.390625 \r\nL 45.40625 54.6875 \r\nL 54.390625 54.6875 \r\nL 54.390625 -20.796875 \r\nL 45.40625 -20.796875 \r\nz\r\n\" id=\"DejaVuSans-113\"/>\r\n     </defs>\r\n     <use xlink:href=\"#DejaVuSans-113\"/>\r\n     <use x=\"63.476562\" xlink:href=\"#DejaVuSans-117\"/>\r\n     <use x=\"126.855469\" xlink:href=\"#DejaVuSans-101\"/>\r\n     <use x=\"188.378906\" xlink:href=\"#DejaVuSans-101\"/>\r\n     <use x=\"249.902344\" xlink:href=\"#DejaVuSans-110\"/>\r\n    </g>\r\n   </g>\r\n   <g id=\"text_29\">\r\n    <!-- unhappy -->\r\n    <g transform=\"translate(147.825207 53.12581)scale(0.1 -0.1)\">\r\n     <use xlink:href=\"#DejaVuSans-117\"/>\r\n     <use x=\"63.378906\" xlink:href=\"#DejaVuSans-110\"/>\r\n     <use x=\"126.757812\" xlink:href=\"#DejaVuSans-104\"/>\r\n     <use x=\"190.136719\" xlink:href=\"#DejaVuSans-97\"/>\r\n     <use x=\"251.416016\" xlink:href=\"#DejaVuSans-112\"/>\r\n     <use x=\"314.892578\" xlink:href=\"#DejaVuSans-112\"/>\r\n     <use x=\"378.369141\" xlink:href=\"#DejaVuSans-121\"/>\r\n    </g>\r\n   </g>\r\n   <g id=\"text_30\">\r\n    <!-- ocean -->\r\n    <g transform=\"translate(348.524006 134.228003)scale(0.1 -0.1)\">\r\n     <use xlink:href=\"#DejaVuSans-111\"/>\r\n     <use x=\"61.181641\" xlink:href=\"#DejaVuSans-99\"/>\r\n     <use x=\"116.162109\" xlink:href=\"#DejaVuSans-101\"/>\r\n     <use x=\"177.685547\" xlink:href=\"#DejaVuSans-97\"/>\r\n     <use x=\"238.964844\" xlink:href=\"#DejaVuSans-110\"/>\r\n    </g>\r\n   </g>\r\n   <g id=\"text_31\">\r\n    <!-- man -->\r\n    <g transform=\"translate(175.816537 48.191013)scale(0.1 -0.1)\">\r\n     <use xlink:href=\"#DejaVuSans-109\"/>\r\n     <use x=\"97.412109\" xlink:href=\"#DejaVuSans-97\"/>\r\n     <use x=\"158.691406\" xlink:href=\"#DejaVuSans-110\"/>\r\n    </g>\r\n   </g>\r\n   <g id=\"text_32\">\r\n    <!-- whale -->\r\n    <g transform=\"translate(341.142591 186.76285)scale(0.1 -0.1)\">\r\n     <use xlink:href=\"#DejaVuSans-119\"/>\r\n     <use x=\"81.787109\" xlink:href=\"#DejaVuSans-104\"/>\r\n     <use x=\"145.166016\" xlink:href=\"#DejaVuSans-97\"/>\r\n     <use x=\"206.445312\" xlink:href=\"#DejaVuSans-108\"/>\r\n     <use x=\"234.228516\" xlink:href=\"#DejaVuSans-101\"/>\r\n    </g>\r\n   </g>\r\n   <g id=\"text_33\">\r\n    <!-- shark -->\r\n    <g transform=\"translate(323.15538 195.599564)scale(0.1 -0.1)\">\r\n     <defs>\r\n      <path d=\"M 41.109375 46.296875 \r\nQ 39.59375 47.171875 37.8125 47.578125 \r\nQ 36.03125 48 33.890625 48 \r\nQ 26.265625 48 22.1875 43.046875 \r\nQ 18.109375 38.09375 18.109375 28.8125 \r\nL 18.109375 0 \r\nL 9.078125 0 \r\nL 9.078125 54.6875 \r\nL 18.109375 54.6875 \r\nL 18.109375 46.1875 \r\nQ 20.953125 51.171875 25.484375 53.578125 \r\nQ 30.03125 56 36.53125 56 \r\nQ 37.453125 56 38.578125 55.875 \r\nQ 39.703125 55.765625 41.0625 55.515625 \r\nz\r\n\" id=\"DejaVuSans-114\"/>\r\n     </defs>\r\n     <use xlink:href=\"#DejaVuSans-115\"/>\r\n     <use x=\"52.099609\" xlink:href=\"#DejaVuSans-104\"/>\r\n     <use x=\"115.478516\" xlink:href=\"#DejaVuSans-97\"/>\r\n     <use x=\"176.757812\" xlink:href=\"#DejaVuSans-114\"/>\r\n     <use x=\"217.871094\" xlink:href=\"#DejaVuSans-107\"/>\r\n    </g>\r\n   </g>\r\n  </g>\r\n </g>\r\n <defs>\r\n  <clipPath id=\"p968c877b6a\">\r\n   <rect height=\"217.44\" width=\"334.8\" x=\"28.942188\" y=\"7.2\"/>\r\n  </clipPath>\r\n </defs>\r\n</svg>\r\n",
      "image/png": "[encoded data removed]"
     },
     "metadata": {
      "needs_background": "light"
     }
    }
   ],
   "source": [
    "import matplotlib.pyplot as plt\n",
    "from sklearn.decomposition import PCA\n",
    "\n",
    "WORDS = [\"happy\", \"unhappy\", \"cute\", \"ugly\", \"big\", \"small\", \"king\", \"man\", \"queen\", \"woman\", \"puppy\", \"dog\", \"kitty\", \"cat\", \"whale\", \"shark\", \"fish\", \"ocean\"]\n",
    "\n",
    "data = []\n",
    "data_annotation = []\n",
    "\n",
    "for v in nlp.vocab.vectors:\n",
    "    word = nlp.vocab[v]\n",
    "\n",
    "    if word in WORDS:\n",
    "        data.append(word.vector)\n",
    "        data_annotation.append(word.lower_)\n",
    "#data = np.array([word.vector for word in nlp.vocab if word.lower_ in WORDS])\n",
    "\n",
    "\n",
    "pca = PCA(n_components=2)\n",
    "reduced_dims = pca.fit_transform(data)\n",
    "\n",
    "fig, ax = plt.subplots()\n",
    "ax.scatter(reduced_dims[:, 0], reduced_dims[:, 1])\n",
    "\n",
    "vocabulary = list(nlp.vocab.strings)\n",
    "\n",
    "for i in range(len(data)):\n",
    "    ax.annotate(data_annotation[i], (reduced_dims[i, 0], reduced_dims[i, 1]))"
   ]
  }
 ]
}