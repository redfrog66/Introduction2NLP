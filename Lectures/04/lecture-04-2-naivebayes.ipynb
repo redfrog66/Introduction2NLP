{
 "cells": [
  {
   "cell_type": "markdown",
   "metadata": {},
   "source": [
    "# Naive Bayes"
   ]
  },
  {
   "cell_type": "markdown",
   "metadata": {},
   "source": [
    "## 1 = positive\n",
    "## 0 = negative"
   ]
  },
  {
   "cell_type": "code",
   "execution_count": null,
   "metadata": {},
   "outputs": [],
   "source": [
    "import pandas as pd\n",
    "\n",
    "df_train = pd.read_json(\"../data/aclIMDB_train.json\", orient=\"records\")\n",
    "df_train.info()\n",
    "df_train.hist()\n",
    "df_train.head()"
   ]
  },
  {
   "cell_type": "code",
   "execution_count": null,
   "metadata": {},
   "outputs": [],
   "source": [
    "df_val = pd.read_json(\"../data/aclIMDB_val.json\", orient=\"records\")\n",
    "df_val.info()\n",
    "df_val.hist()\n",
    "df_val.head()"
   ]
  },
  {
   "cell_type": "code",
   "execution_count": null,
   "metadata": {},
   "outputs": [],
   "source": [
    "df_test = pd.read_json(\"../data/aclIMDB_test.json\", orient=\"records\")\n",
    "df_test.info()\n",
    "df_test.hist()\n",
    "df_test.head()"
   ]
  },
  {
   "cell_type": "code",
   "execution_count": null,
   "metadata": {},
   "outputs": [],
   "source": [
    "def sentiment(value):\n",
    "    if(value == 1):\n",
    "        return \"positive\"\n",
    "    else:\n",
    "        return \"negative\"\n",
    "\n",
    "df_train[\"sentiment\"] = [None] * len(df_train)\n",
    "df_train[\"sentiment\"] = df_train[\"label\"].apply(sentiment)\n",
    "df_val[\"sentiment\"] = [None] * len(df_test)\n",
    "df_val[\"sentiment\"] = df_val[\"label\"].apply(sentiment)\n",
    "df_test[\"sentiment\"] = [None] * len(df_test)\n",
    "df_test[\"sentiment\"] = df_test[\"label\"].apply(sentiment)"
   ]
  },
  {
   "cell_type": "code",
   "execution_count": null,
   "metadata": {},
   "outputs": [],
   "source": [
    "df_train[df_train[\"label\"] == 1][:1000]"
   ]
  },
  {
   "cell_type": "code",
   "execution_count": null,
   "metadata": {},
   "outputs": [],
   "source": [
    "df_train.shape"
   ]
  },
  {
   "cell_type": "markdown",
   "metadata": {},
   "source": [
    "## Pre-processing"
   ]
  },
  {
   "cell_type": "code",
   "execution_count": null,
   "metadata": {},
   "outputs": [],
   "source": [
    "import nltk\n",
    "from nltk.corpus import stopwords\n",
    "from nltk.tokenize import word_tokenize\n",
    "\n",
    "nltk.download('stopwords')\n",
    "\n",
    "STOPWORDS = stopwords.words(\"english\")\n",
    "\n",
    "STOPWORDS[:10]"
   ]
  },
  {
   "cell_type": "code",
   "execution_count": null,
   "metadata": {},
   "outputs": [],
   "source": [
    "\n",
    "def is_html_tag(word):\n",
    "    w = word.replace(\"\\n\", \"\")\n",
    "    return w.startswith(\"<\") or w.startswith(\">\") or w.startswith(\"/\") or w.strip()[:2] == \"br\"\n",
    "\n",
    "def remove_html_tags(sentence):\n",
    "    #separate_tags = sentence.replace(\"<\", \" < \")\n",
    "    #separate_tags = separate_tags.replace(\">\", \" > \")\n",
    "\n",
    "    single_spaces = \" \".join(str(sentence).split())\n",
    "\n",
    "    return \" \".join([token for token in single_spaces.split(\" \") if not is_html_tag(token)])"
   ]
  },
  {
   "cell_type": "code",
   "execution_count": null,
   "metadata": {},
   "outputs": [],
   "source": [
    "remove_html_tags(\"\"\"\n",
    "<html>\n",
    "<body\n",
    "    <h1> <br> Hello, there br> </h1>\n",
    "    <p> General Kenobi </p>\n",
    "</body>\n",
    "</html>\n",
    "\"\"\")"
   ]
  },
  {
   "cell_type": "code",
   "execution_count": null,
   "metadata": {},
   "outputs": [],
   "source": [
    "df_train[\"text\"].head(5)"
   ]
  },
  {
   "cell_type": "code",
   "execution_count": null,
   "metadata": {},
   "outputs": [],
   "source": [
    "df_train[\"text\"] = df_train[\"text\"].apply(remove_html_tags)"
   ]
  },
  {
   "cell_type": "code",
   "execution_count": null,
   "metadata": {},
   "outputs": [],
   "source": [
    "df_train[\"text\"].head(5)"
   ]
  },
  {
   "cell_type": "code",
   "execution_count": null,
   "metadata": {},
   "outputs": [],
   "source": [
    "nltk.download('punkt')\n",
    "\n",
    "tokenized_reviews = df_train[\"text\"].apply(lambda review_text: word_tokenize(review_text.lower()))\n",
    "\n",
    "tokenized_reviews.head()"
   ]
  },
  {
   "cell_type": "code",
   "execution_count": null,
   "metadata": {},
   "outputs": [],
   "source": [
    "d = dict()\n",
    "\n",
    "for review in tokenized_reviews:\n",
    "    for word in review:\n",
    "        if word not in STOPWORDS and word.isalpha():\n",
    "            d[word] = d.get(word, 0) + 1\n",
    "            "
   ]
  },
  {
   "cell_type": "code",
   "execution_count": null,
   "metadata": {},
   "outputs": [],
   "source": [
    "d[\"br\"]"
   ]
  },
  {
   "cell_type": "code",
   "execution_count": null,
   "metadata": {},
   "outputs": [],
   "source": [
    "del d[\"br\"]"
   ]
  },
  {
   "cell_type": "code",
   "execution_count": null,
   "metadata": {},
   "outputs": [],
   "source": [
    "DESIRED_VOCAB_SIZE = 4000\n",
    "\n",
    "\n",
    "VOCAB = [k for k,v in sorted(d.items(), key=lambda item: item[1], reverse=True)[:DESIRED_VOCAB_SIZE]]"
   ]
  },
  {
   "cell_type": "code",
   "execution_count": null,
   "metadata": {},
   "outputs": [],
   "source": [
    "VOCAB[:10]"
   ]
  },
  {
   "cell_type": "code",
   "execution_count": null,
   "metadata": {},
   "outputs": [],
   "source": [
    "word_table = pd.DataFrame({\"word\": VOCAB})\n",
    "word_table.to_json(\"../data/vocab.json\", orient=\"records\")"
   ]
  },
  {
   "cell_type": "code",
   "execution_count": null,
   "metadata": {},
   "outputs": [],
   "source": [
    "word_table = pd.read_json(\"../data/vocab.json\", orient=\"records\")\n",
    "word_table.info()\n",
    "word_table.head(10)"
   ]
  },
  {
   "cell_type": "markdown",
   "metadata": {},
   "source": [
    "## Naive Bayes"
   ]
  },
  {
   "cell_type": "code",
   "execution_count": null,
   "metadata": {},
   "outputs": [],
   "source": [
    "dict_freqs = {\"positive\": {}, \"negative\": {}}"
   ]
  },
  {
   "cell_type": "code",
   "execution_count": null,
   "metadata": {},
   "outputs": [],
   "source": [
    "VOCAB_IDX = {}\n",
    "for i in range(0, len(word_table[\"word\"].values)):\n",
    "    VOCAB_IDX[word_table[\"word\"].values[i]] = i\n",
    "\n",
    "for idx in range(df_train.shape[0]):\n",
    "    review = df_train.iloc[idx][\"text\"]\n",
    "    sentiment = df_train.iloc[idx][\"sentiment\"]\n",
    "    \n",
    "    for word in review.split(\" \"):\n",
    "        if word in VOCAB_IDX:\n",
    "            dict_freqs[sentiment][word] = dict_freqs[sentiment].get(word, 0) + 1"
   ]
  },
  {
   "cell_type": "code",
   "execution_count": null,
   "metadata": {},
   "outputs": [],
   "source": [
    "dict_freqs[\"positive\"][\"good\"]"
   ]
  },
  {
   "cell_type": "code",
   "execution_count": null,
   "metadata": {},
   "outputs": [],
   "source": [
    "dict_freqs[\"negative\"][\"good\"]"
   ]
  },
  {
   "cell_type": "code",
   "execution_count": null,
   "metadata": {},
   "outputs": [],
   "source": [
    "dict_freqs[\"negative\"][\"bad\"]"
   ]
  },
  {
   "cell_type": "code",
   "execution_count": null,
   "metadata": {},
   "outputs": [],
   "source": [
    "dict_freqs[\"positive\"][\"bad\"]"
   ]
  },
  {
   "cell_type": "code",
   "execution_count": null,
   "metadata": {},
   "outputs": [],
   "source": [
    "word_table.head()"
   ]
  },
  {
   "cell_type": "code",
   "execution_count": null,
   "metadata": {},
   "outputs": [],
   "source": [
    "total_positive = sum(dict_freqs[\"positive\"].values())\n",
    "\n",
    "word_table[\"positive\"] = [(dict_freqs[\"positive\"].get(w, 0) + 1) / (total_positive + len(VOCAB))  for w in word_table[\"word\"]]"
   ]
  },
  {
   "cell_type": "code",
   "execution_count": null,
   "metadata": {},
   "outputs": [],
   "source": [
    "total_negative = sum(dict_freqs[\"negative\"].values())\n",
    "\n",
    "word_table[\"negative\"] = [(dict_freqs[\"negative\"].get(w, 0) + 1) / (total_negative + len(VOCAB))  for w in word_table[\"word\"]]"
   ]
  },
  {
   "cell_type": "code",
   "execution_count": null,
   "metadata": {},
   "outputs": [],
   "source": [
    "word_table.head()"
   ]
  },
  {
   "cell_type": "code",
   "execution_count": null,
   "metadata": {},
   "outputs": [],
   "source": [
    "import numpy as np\n",
    "\n",
    "word_table[\"ratio\"] = np.log(word_table[\"positive\"] / word_table[\"negative\"])"
   ]
  },
  {
   "cell_type": "code",
   "execution_count": null,
   "metadata": {},
   "outputs": [],
   "source": [
    "word_table.head()"
   ]
  },
  {
   "cell_type": "code",
   "execution_count": null,
   "metadata": {},
   "outputs": [],
   "source": [
    "word_table = word_table.set_index(\"word\")"
   ]
  },
  {
   "cell_type": "code",
   "execution_count": null,
   "metadata": {},
   "outputs": [],
   "source": [
    "word_table.head()"
   ]
  },
  {
   "cell_type": "code",
   "execution_count": null,
   "metadata": {},
   "outputs": [],
   "source": [
    "word_table[\"ratio\"].describe()"
   ]
  },
  {
   "cell_type": "code",
   "execution_count": null,
   "metadata": {},
   "outputs": [],
   "source": [
    "word_table[\"word\"] = word_table.index\n",
    "word_table.head()"
   ]
  },
  {
   "cell_type": "code",
   "execution_count": null,
   "metadata": {},
   "outputs": [],
   "source": [
    "word_table.to_json(\"../data/word_table.json\",orient=\"records\")"
   ]
  },
  {
   "cell_type": "markdown",
   "metadata": {},
   "source": [
    "## Predicting"
   ]
  },
  {
   "cell_type": "code",
   "execution_count": null,
   "metadata": {},
   "outputs": [],
   "source": [
    "import pandas as pd\n",
    "\n",
    "word_table = pd.read_json(\"../data/word_table.json\", orient=\"records\")\n",
    "word_table.head()"
   ]
  },
  {
   "cell_type": "code",
   "execution_count": null,
   "metadata": {},
   "outputs": [],
   "source": [
    "word_table = word_table.set_index(\"word\")\n",
    "word_table.head()"
   ]
  },
  {
   "cell_type": "code",
   "execution_count": null,
   "metadata": {},
   "outputs": [],
   "source": [
    "from nltk.corpus import stopwords\n",
    "from nltk.tokenize import word_tokenize\n",
    "\n",
    "STOPWORDS = stopwords.words(\"english\")\n",
    "\n",
    "def is_html_tag(word):\n",
    "    w = word.replace(\"\\n\", \"\")\n",
    "    return w.startswith(\"<\") or w.startswith(\">\") or w.startswith(\"/\") or w.strip()[:2] == \"br\"\n",
    "\n",
    "def remove_html_tags(sentence):\n",
    "    #separate_tags = sentence.replace(\"<\", \" < \")\n",
    "    #separate_tags = separate_tags.replace(\">\", \" > \")\n",
    "\n",
    "    single_spaces = \" \".join(str(sentence).split())\n",
    "\n",
    "    return \" \".join([token for token in single_spaces.split(\" \") if not is_html_tag(token)])\n",
    "\n",
    "def predict_for_review_raw(review):\n",
    "    _input = remove_html_tags(review)\n",
    "    _input = word_tokenize(_input.lower())\n",
    "\n",
    "    word_table_words = word_table.index\n",
    "\n",
    "    return sum([word_table[\"ratio\"].loc[token] for token in _input if token in word_table_words])"
   ]
  },
  {
   "cell_type": "code",
   "execution_count": null,
   "metadata": {},
   "outputs": [],
   "source": [
    "predict_for_review_raw(\"This movie sucks.\")"
   ]
  },
  {
   "cell_type": "code",
   "execution_count": null,
   "metadata": {},
   "outputs": [],
   "source": [
    "predict_for_review_raw(\"This movie was fantastic!\")"
   ]
  },
  {
   "cell_type": "code",
   "execution_count": null,
   "metadata": {},
   "outputs": [],
   "source": [
    "def predict_for_review(review):\n",
    "    return int(predict_for_review_raw(review) > 0)"
   ]
  },
  {
   "cell_type": "code",
   "execution_count": null,
   "metadata": {},
   "outputs": [],
   "source": [
    "preds = df_train[\"text\"].apply(predict_for_review)\n",
    "\n",
    "preds"
   ]
  },
  {
   "cell_type": "code",
   "execution_count": null,
   "metadata": {},
   "outputs": [],
   "source": [
    "real = (df_train[\"sentiment\"] == \"positive\").astype(int)"
   ]
  },
  {
   "cell_type": "code",
   "execution_count": null,
   "metadata": {},
   "outputs": [],
   "source": [
    "def get_accuracy(preds, real):\n",
    "    return sum(preds == real) / len(real)"
   ]
  },
  {
   "cell_type": "code",
   "execution_count": null,
   "metadata": {},
   "outputs": [],
   "source": [
    "print(f\"Training set accuracy: {get_accuracy(preds, real)}\")"
   ]
  },
  {
   "cell_type": "code",
   "execution_count": null,
   "metadata": {},
   "outputs": [],
   "source": [
    "preds_val = df_val[\"text\"].apply(predict_for_review)\n",
    "real_val = (df_val[\"sentiment\"] == \"positive\").astype(int)\n",
    "print(f\"Validation set accuracy: {get_accuracy(preds_val, real_val)}\")"
   ]
  },
  {
   "cell_type": "code",
   "execution_count": null,
   "metadata": {},
   "outputs": [],
   "source": [
    "preds_test = df_test[\"text\"].apply(predict_for_review)\n",
    "real_test = (df_test[\"sentiment\"] == \"positive\").astype(int)\n",
    "print(f\"Test set accuracy: {get_accuracy(preds_test, real_test)}\")"
   ]
  }
 ],
 "metadata": {
  "kernelspec": {
   "display_name": "Python 3.9.5 ('nlp')",
   "language": "python",
   "name": "python3"
  },
  "language_info": {
   "codemirror_mode": {
    "name": "ipython",
    "version": 3
   },
   "file_extension": ".py",
   "mimetype": "text/x-python",
   "name": "python",
   "nbconvert_exporter": "python",
   "pygments_lexer": "ipython3",
   "version": "3.9.5"
  },
  "vscode": {
   "interpreter": {
    "hash": "4650b2ab9af1b5111f53599d1b6662800e1e795f0a404b209a1518c877a28bdd"
   }
  }
 },
 "nbformat": 4,
 "nbformat_minor": 2
}
