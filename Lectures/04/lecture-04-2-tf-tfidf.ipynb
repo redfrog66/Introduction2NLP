{
 "metadata": {
  "language_info": {
   "codemirror_mode": {
    "name": "ipython",
    "version": 3
   },
   "file_extension": ".py",
   "mimetype": "text/x-python",
   "name": "python",
   "nbconvert_exporter": "python",
   "pygments_lexer": "ipython3",
   "version": "3.8.5-final"
  },
  "orig_nbformat": 2,
  "kernelspec": {
   "name": "python3",
   "display_name": "Python 3",
   "language": "python"
  }
 },
 "nbformat": 4,
 "nbformat_minor": 2,
 "cells": [
  {
   "cell_type": "code",
   "execution_count": 8,
   "metadata": {},
   "outputs": [],
   "source": [
    "import pandas as pd\n",
    "\n",
    "df = pd.read_csv(\"../data/tweets.csv\")"
   ]
  },
  {
   "cell_type": "code",
   "execution_count": 9,
   "metadata": {},
   "outputs": [
    {
     "output_type": "stream",
     "name": "stdout",
     "text": [
      "<class 'pandas.core.frame.DataFrame'>\nRangeIndex: 11370 entries, 0 to 11369\nData columns (total 5 columns):\n #   Column    Non-Null Count  Dtype \n---  ------    --------------  ----- \n 0   id        11370 non-null  int64 \n 1   keyword   11370 non-null  object\n 2   location  7952 non-null   object\n 3   text      11370 non-null  object\n 4   target    11370 non-null  int64 \ndtypes: int64(2), object(3)\nmemory usage: 444.3+ KB\n"
     ]
    }
   ],
   "source": [
    "df.info()"
   ]
  },
  {
   "cell_type": "code",
   "execution_count": 10,
   "metadata": {},
   "outputs": [
    {
     "output_type": "execute_result",
     "data": {
      "text/plain": [
       "0    Communal violence in Bhainsa, Telangana. \"Ston...\n",
       "1    Telangana: Section 144 has been imposed in Bha...\n",
       "2    Arsonist sets cars ablaze at dealership https:...\n",
       "3    Arsonist sets cars ablaze at dealership https:...\n",
       "4    \"Lord Jesus, your love brings freedom and pard...\n",
       "Name: text, dtype: object"
      ]
     },
     "metadata": {},
     "execution_count": 10
    }
   ],
   "source": [
    "tweets = df[\"text\"]\n",
    "\n",
    "tweets.head()"
   ]
  },
  {
   "source": [
    "## TF"
   ],
   "cell_type": "markdown",
   "metadata": {}
  },
  {
   "cell_type": "code",
   "execution_count": 11,
   "metadata": {},
   "outputs": [
    {
     "output_type": "execute_result",
     "data": {
      "text/plain": [
       "<11370x1000 sparse matrix of type '<class 'numpy.float64'>'\n",
       "\twith 122207 stored elements in Compressed Sparse Row format>"
      ]
     },
     "metadata": {},
     "execution_count": 11
    }
   ],
   "source": [
    "from sklearn.feature_extraction.text import TfidfVectorizer\n",
    "\n",
    "VOCAB_SIZE = 1000\n",
    "\n",
    "vectorizer = TfidfVectorizer(max_features=VOCAB_SIZE, use_idf=False)\n",
    "\n",
    "X = vectorizer.fit_transform(tweets)\n",
    "\n",
    "X"
   ]
  },
  {
   "cell_type": "code",
   "execution_count": 12,
   "metadata": {},
   "outputs": [
    {
     "output_type": "execute_result",
     "data": {
      "text/plain": [
       "array([[0., 0., 0., ..., 0., 0., 0.],\n",
       "       [0., 0., 0., ..., 0., 0., 0.],\n",
       "       [0., 0., 0., ..., 0., 0., 0.],\n",
       "       ...,\n",
       "       [0., 0., 0., ..., 0., 0., 0.],\n",
       "       [0., 0., 0., ..., 0., 0., 0.],\n",
       "       [0., 0., 0., ..., 0., 0., 0.]])"
      ]
     },
     "metadata": {},
     "execution_count": 12
    }
   ],
   "source": [
    "X = X.toarray()\n",
    "X"
   ]
  },
  {
   "cell_type": "code",
   "execution_count": 13,
   "metadata": {},
   "outputs": [
    {
     "output_type": "execute_result",
     "data": {
      "text/plain": [
       "array([0.        , 0.        , 0.        , 0.        , 0.        ,\n",
       "       0.        , 0.        , 0.        , 0.        , 0.        ,\n",
       "       0.        , 0.        , 0.        , 0.        , 0.        ,\n",
       "       0.        , 0.        , 0.        , 0.        , 0.23570226,\n",
       "       0.        , 0.        , 0.        , 0.        , 0.        ,\n",
       "       0.        , 0.        , 0.        , 0.        , 0.        ,\n",
       "       0.        , 0.        , 0.        , 0.        , 0.        ,\n",
       "       0.        , 0.        , 0.        , 0.        , 0.        ,\n",
       "       0.        , 0.        , 0.        , 0.        , 0.        ,\n",
       "       0.        , 0.        , 0.        , 0.        , 0.        ,\n",
       "       0.        , 0.        , 0.        , 0.        , 0.        ,\n",
       "       0.        , 0.47140452, 0.        , 0.        , 0.        ,\n",
       "       0.        , 0.        , 0.        , 0.        , 0.        ,\n",
       "       0.        , 0.        , 0.        , 0.        , 0.        ,\n",
       "       0.        , 0.        , 0.        , 0.        , 0.        ,\n",
       "       0.        , 0.        , 0.        , 0.        , 0.        ,\n",
       "       0.        , 0.        , 0.        , 0.        , 0.        ,\n",
       "       0.        , 0.        , 0.        , 0.        , 0.        ,\n",
       "       0.        , 0.        , 0.        , 0.        , 0.        ,\n",
       "       0.        , 0.        , 0.        , 0.        , 0.        ,\n",
       "       0.        , 0.        , 0.        , 0.        , 0.        ,\n",
       "       0.        , 0.        , 0.        , 0.        , 0.        ,\n",
       "       0.        , 0.        , 0.        , 0.        , 0.        ,\n",
       "       0.        , 0.        , 0.        , 0.        , 0.        ,\n",
       "       0.        , 0.        , 0.        , 0.        , 0.        ,\n",
       "       0.        , 0.        , 0.        , 0.        , 0.        ,\n",
       "       0.        , 0.        , 0.        , 0.        , 0.        ,\n",
       "       0.        , 0.        , 0.        , 0.        , 0.        ,\n",
       "       0.        , 0.        , 0.        , 0.        , 0.        ,\n",
       "       0.        , 0.        , 0.        , 0.        , 0.        ,\n",
       "       0.        , 0.        , 0.        , 0.        , 0.        ,\n",
       "       0.        , 0.        , 0.        , 0.        , 0.        ,\n",
       "       0.        , 0.        , 0.        , 0.        , 0.        ,\n",
       "       0.        , 0.        , 0.        , 0.        , 0.        ,\n",
       "       0.        , 0.        , 0.        , 0.        , 0.        ,\n",
       "       0.        , 0.        , 0.        , 0.        , 0.        ,\n",
       "       0.        , 0.        , 0.        , 0.        , 0.        ,\n",
       "       0.        , 0.        , 0.        , 0.        , 0.        ,\n",
       "       0.        , 0.        , 0.        , 0.        , 0.        ,\n",
       "       0.        , 0.        , 0.        , 0.        , 0.        ,\n",
       "       0.        , 0.        , 0.        , 0.        , 0.        ,\n",
       "       0.        , 0.        , 0.        , 0.        , 0.        ,\n",
       "       0.        , 0.        , 0.        , 0.        , 0.        ,\n",
       "       0.        , 0.        , 0.        , 0.        , 0.        ,\n",
       "       0.        , 0.        , 0.        , 0.        , 0.        ,\n",
       "       0.        , 0.        , 0.        , 0.        , 0.        ,\n",
       "       0.        , 0.        , 0.        , 0.        , 0.        ,\n",
       "       0.        , 0.        , 0.        , 0.        , 0.        ,\n",
       "       0.        , 0.        , 0.        , 0.        , 0.        ,\n",
       "       0.        , 0.        , 0.        , 0.        , 0.        ,\n",
       "       0.        , 0.        , 0.        , 0.        , 0.        ,\n",
       "       0.        , 0.        , 0.        , 0.        , 0.        ,\n",
       "       0.        , 0.        , 0.        , 0.        , 0.        ,\n",
       "       0.        , 0.        , 0.        , 0.        , 0.        ,\n",
       "       0.        , 0.        , 0.        , 0.        , 0.        ,\n",
       "       0.        , 0.        , 0.        , 0.        , 0.        ,\n",
       "       0.        , 0.        , 0.        , 0.        , 0.        ,\n",
       "       0.        , 0.        , 0.        , 0.        , 0.        ,\n",
       "       0.        , 0.        , 0.        , 0.        , 0.        ,\n",
       "       0.        , 0.        , 0.        , 0.        , 0.        ,\n",
       "       0.        , 0.        , 0.        , 0.        , 0.        ,\n",
       "       0.        , 0.        , 0.        , 0.        , 0.        ,\n",
       "       0.        , 0.        , 0.        , 0.        , 0.        ,\n",
       "       0.        , 0.        , 0.        , 0.        , 0.        ,\n",
       "       0.        , 0.        , 0.        , 0.        , 0.        ,\n",
       "       0.        , 0.        , 0.        , 0.        , 0.        ,\n",
       "       0.        , 0.        , 0.        , 0.        , 0.        ,\n",
       "       0.        , 0.        , 0.        , 0.        , 0.        ,\n",
       "       0.        , 0.        , 0.        , 0.        , 0.        ,\n",
       "       0.        , 0.        , 0.        , 0.        , 0.        ,\n",
       "       0.        , 0.        , 0.        , 0.        , 0.        ,\n",
       "       0.        , 0.        , 0.        , 0.        , 0.        ,\n",
       "       0.        , 0.        , 0.        , 0.        , 0.        ,\n",
       "       0.        , 0.        , 0.        , 0.        , 0.        ,\n",
       "       0.        , 0.        , 0.        , 0.        , 0.        ,\n",
       "       0.        , 0.        , 0.        , 0.        , 0.        ,\n",
       "       0.        , 0.        , 0.        , 0.        , 0.        ,\n",
       "       0.        , 0.        , 0.        , 0.        , 0.        ,\n",
       "       0.        , 0.        , 0.        , 0.        , 0.        ,\n",
       "       0.        , 0.        , 0.        , 0.        , 0.        ,\n",
       "       0.        , 0.        , 0.        , 0.        , 0.        ,\n",
       "       0.        , 0.        , 0.        , 0.        , 0.        ,\n",
       "       0.        , 0.        , 0.        , 0.        , 0.        ,\n",
       "       0.        , 0.        , 0.        , 0.        , 0.        ,\n",
       "       0.        , 0.        , 0.        , 0.        , 0.        ,\n",
       "       0.        , 0.        , 0.        , 0.        , 0.        ,\n",
       "       0.        , 0.        , 0.        , 0.        , 0.47140452,\n",
       "       0.        , 0.        , 0.        , 0.        , 0.        ,\n",
       "       0.        , 0.        , 0.        , 0.        , 0.        ,\n",
       "       0.        , 0.23570226, 0.        , 0.        , 0.        ,\n",
       "       0.        , 0.        , 0.        , 0.        , 0.        ,\n",
       "       0.        , 0.        , 0.        , 0.        , 0.        ,\n",
       "       0.        , 0.        , 0.        , 0.        , 0.        ,\n",
       "       0.        , 0.        , 0.        , 0.        , 0.        ,\n",
       "       0.        , 0.        , 0.        , 0.        , 0.        ,\n",
       "       0.        , 0.        , 0.        , 0.        , 0.        ,\n",
       "       0.        , 0.        , 0.        , 0.        , 0.        ,\n",
       "       0.        , 0.        , 0.        , 0.        , 0.        ,\n",
       "       0.        , 0.        , 0.        , 0.        , 0.        ,\n",
       "       0.        , 0.        , 0.        , 0.        , 0.        ,\n",
       "       0.        , 0.        , 0.        , 0.        , 0.        ,\n",
       "       0.        , 0.        , 0.        , 0.        , 0.        ,\n",
       "       0.        , 0.        , 0.        , 0.        , 0.        ,\n",
       "       0.        , 0.        , 0.        , 0.        , 0.        ,\n",
       "       0.        , 0.        , 0.        , 0.        , 0.        ,\n",
       "       0.        , 0.        , 0.        , 0.        , 0.        ,\n",
       "       0.        , 0.        , 0.        , 0.        , 0.        ,\n",
       "       0.        , 0.        , 0.        , 0.        , 0.        ,\n",
       "       0.        , 0.        , 0.        , 0.        , 0.        ,\n",
       "       0.        , 0.        , 0.        , 0.        , 0.        ,\n",
       "       0.        , 0.        , 0.        , 0.        , 0.        ,\n",
       "       0.        , 0.        , 0.        , 0.        , 0.        ,\n",
       "       0.        , 0.        , 0.        , 0.        , 0.        ,\n",
       "       0.        , 0.        , 0.        , 0.        , 0.        ,\n",
       "       0.        , 0.        , 0.        , 0.        , 0.        ,\n",
       "       0.        , 0.        , 0.        , 0.        , 0.        ,\n",
       "       0.        , 0.        , 0.        , 0.        , 0.        ,\n",
       "       0.        , 0.        , 0.        , 0.        , 0.        ,\n",
       "       0.        , 0.        , 0.        , 0.        , 0.        ,\n",
       "       0.        , 0.        , 0.        , 0.        , 0.        ,\n",
       "       0.        , 0.        , 0.        , 0.        , 0.        ,\n",
       "       0.        , 0.        , 0.        , 0.        , 0.        ,\n",
       "       0.        , 0.        , 0.        , 0.        , 0.        ,\n",
       "       0.        , 0.        , 0.23570226, 0.        , 0.        ,\n",
       "       0.        , 0.        , 0.        , 0.        , 0.        ,\n",
       "       0.        , 0.        , 0.        , 0.        , 0.        ,\n",
       "       0.        , 0.        , 0.        , 0.        , 0.        ,\n",
       "       0.        , 0.        , 0.        , 0.        , 0.        ,\n",
       "       0.        , 0.        , 0.        , 0.        , 0.        ,\n",
       "       0.        , 0.        , 0.        , 0.        , 0.        ,\n",
       "       0.        , 0.        , 0.        , 0.        , 0.        ,\n",
       "       0.        , 0.        , 0.        , 0.        , 0.        ,\n",
       "       0.        , 0.        , 0.        , 0.        , 0.        ,\n",
       "       0.        , 0.        , 0.        , 0.        , 0.        ,\n",
       "       0.        , 0.        , 0.        , 0.        , 0.        ,\n",
       "       0.        , 0.        , 0.        , 0.        , 0.        ,\n",
       "       0.        , 0.        , 0.        , 0.        , 0.        ,\n",
       "       0.        , 0.        , 0.        , 0.        , 0.        ,\n",
       "       0.        , 0.        , 0.        , 0.        , 0.        ,\n",
       "       0.        , 0.        , 0.        , 0.        , 0.        ,\n",
       "       0.        , 0.        , 0.        , 0.        , 0.        ,\n",
       "       0.        , 0.        , 0.        , 0.        , 0.        ,\n",
       "       0.        , 0.        , 0.        , 0.        , 0.        ,\n",
       "       0.        , 0.        , 0.        , 0.        , 0.        ,\n",
       "       0.        , 0.        , 0.        , 0.        , 0.        ,\n",
       "       0.        , 0.        , 0.        , 0.        , 0.        ,\n",
       "       0.        , 0.        , 0.        , 0.        , 0.        ,\n",
       "       0.        , 0.        , 0.        , 0.        , 0.        ,\n",
       "       0.        , 0.        , 0.        , 0.        , 0.        ,\n",
       "       0.        , 0.        , 0.        , 0.        , 0.        ,\n",
       "       0.23570226, 0.        , 0.        , 0.        , 0.        ,\n",
       "       0.        , 0.        , 0.        , 0.        , 0.        ,\n",
       "       0.        , 0.        , 0.        , 0.        , 0.        ,\n",
       "       0.        , 0.        , 0.        , 0.        , 0.        ,\n",
       "       0.        , 0.        , 0.        , 0.        , 0.        ,\n",
       "       0.        , 0.        , 0.        , 0.        , 0.        ,\n",
       "       0.        , 0.23570226, 0.        , 0.        , 0.        ,\n",
       "       0.        , 0.        , 0.        , 0.        , 0.        ,\n",
       "       0.        , 0.        , 0.        , 0.        , 0.        ,\n",
       "       0.        , 0.        , 0.        , 0.        , 0.        ,\n",
       "       0.        , 0.        , 0.        , 0.        , 0.        ,\n",
       "       0.        , 0.        , 0.        , 0.        , 0.        ,\n",
       "       0.        , 0.        , 0.        , 0.        , 0.        ,\n",
       "       0.        , 0.        , 0.        , 0.        , 0.        ,\n",
       "       0.        , 0.        , 0.        , 0.        , 0.        ,\n",
       "       0.        , 0.        , 0.        , 0.        , 0.        ,\n",
       "       0.        , 0.        , 0.        , 0.        , 0.        ,\n",
       "       0.        , 0.        , 0.        , 0.        , 0.        ,\n",
       "       0.        , 0.        , 0.        , 0.        , 0.        ,\n",
       "       0.        , 0.        , 0.        , 0.        , 0.        ,\n",
       "       0.        , 0.        , 0.        , 0.        , 0.        ,\n",
       "       0.        , 0.        , 0.        , 0.        , 0.        ,\n",
       "       0.        , 0.        , 0.        , 0.        , 0.        ,\n",
       "       0.        , 0.        , 0.        , 0.        , 0.        ,\n",
       "       0.        , 0.        , 0.        , 0.        , 0.        ,\n",
       "       0.        , 0.        , 0.        , 0.        , 0.        ,\n",
       "       0.        , 0.        , 0.        , 0.        , 0.        ,\n",
       "       0.        , 0.        , 0.        , 0.        , 0.        ,\n",
       "       0.        , 0.        , 0.        , 0.        , 0.        ,\n",
       "       0.        , 0.        , 0.        , 0.        , 0.        ,\n",
       "       0.        , 0.        , 0.        , 0.        , 0.        ,\n",
       "       0.        , 0.        , 0.        , 0.        , 0.        ,\n",
       "       0.        , 0.        , 0.        , 0.        , 0.        ,\n",
       "       0.23570226, 0.        , 0.        , 0.        , 0.        ,\n",
       "       0.        , 0.        , 0.        , 0.        , 0.        ,\n",
       "       0.        , 0.        , 0.        , 0.        , 0.        ,\n",
       "       0.        , 0.        , 0.        , 0.        , 0.        ,\n",
       "       0.        , 0.        , 0.        , 0.        , 0.        ,\n",
       "       0.        , 0.        , 0.        , 0.        , 0.        ,\n",
       "       0.        , 0.        , 0.        , 0.        , 0.47140452,\n",
       "       0.        , 0.        , 0.        , 0.        , 0.        ,\n",
       "       0.        , 0.        , 0.        , 0.        , 0.        ,\n",
       "       0.        , 0.        , 0.        , 0.        , 0.        ,\n",
       "       0.        , 0.        , 0.        , 0.        , 0.        ,\n",
       "       0.        , 0.        , 0.        , 0.        , 0.        ,\n",
       "       0.        , 0.        , 0.        , 0.        , 0.        ,\n",
       "       0.        , 0.        , 0.        , 0.        , 0.        ,\n",
       "       0.        , 0.        , 0.        , 0.        , 0.        ,\n",
       "       0.        , 0.        , 0.        , 0.        , 0.        ,\n",
       "       0.        , 0.        , 0.        , 0.        , 0.        ])"
      ]
     },
     "metadata": {},
     "execution_count": 13
    }
   ],
   "source": [
    "X[0, :]"
   ]
  },
  {
   "cell_type": "code",
   "execution_count": 14,
   "metadata": {},
   "outputs": [
    {
     "output_type": "execute_result",
     "data": {
      "text/plain": [
       "1.0"
      ]
     },
     "metadata": {},
     "execution_count": 14
    }
   ],
   "source": [
    "X.max()"
   ]
  },
  {
   "cell_type": "code",
   "execution_count": 15,
   "metadata": {},
   "outputs": [
    {
     "output_type": "execute_result",
     "data": {
      "text/plain": [
       "0.0031213164358622316"
      ]
     },
     "metadata": {},
     "execution_count": 15
    }
   ],
   "source": [
    "X.mean()"
   ]
  },
  {
   "cell_type": "code",
   "execution_count": 16,
   "metadata": {},
   "outputs": [
    {
     "output_type": "execute_result",
     "data": {
      "text/plain": [
       "'Communal violence in Bhainsa, Telangana. \"Stones were pelted on Muslims\\' houses and some houses and vehicles were set ablaze…'"
      ]
     },
     "metadata": {},
     "execution_count": 16
    }
   ],
   "source": [
    "tweets.iat[0]"
   ]
  },
  {
   "cell_type": "code",
   "execution_count": 17,
   "metadata": {},
   "outputs": [
    {
     "output_type": "execute_result",
     "data": {
      "text/plain": [
       "['ablaze', 'and', 'houses', 'in', 'on', 'set', 'some', 'violence', 'were']"
      ]
     },
     "metadata": {},
     "execution_count": 17
    }
   ],
   "source": [
    "[vectorizer.get_feature_names()[idx] for idx, value in enumerate(X[0, :]) if value > 0]"
   ]
  },
  {
   "source": [
    "## TF-IDF"
   ],
   "cell_type": "markdown",
   "metadata": {}
  },
  {
   "cell_type": "code",
   "execution_count": 18,
   "metadata": {},
   "outputs": [
    {
     "output_type": "execute_result",
     "data": {
      "text/plain": [
       "<11370x1000 sparse matrix of type '<class 'numpy.float64'>'\n",
       "\twith 122207 stored elements in Compressed Sparse Row format>"
      ]
     },
     "metadata": {},
     "execution_count": 18
    }
   ],
   "source": [
    "from sklearn.feature_extraction.text import TfidfVectorizer\n",
    "\n",
    "VOCAB_SIZE = 1000\n",
    "\n",
    "vectorizer = TfidfVectorizer(max_features=VOCAB_SIZE)\n",
    "\n",
    "X = vectorizer.fit_transform(tweets)\n",
    "\n",
    "X"
   ]
  },
  {
   "cell_type": "code",
   "execution_count": 19,
   "metadata": {},
   "outputs": [
    {
     "output_type": "execute_result",
     "data": {
      "text/plain": [
       "array([[0., 0., 0., ..., 0., 0., 0.],\n",
       "       [0., 0., 0., ..., 0., 0., 0.],\n",
       "       [0., 0., 0., ..., 0., 0., 0.],\n",
       "       ...,\n",
       "       [0., 0., 0., ..., 0., 0., 0.],\n",
       "       [0., 0., 0., ..., 0., 0., 0.],\n",
       "       [0., 0., 0., ..., 0., 0., 0.]])"
      ]
     },
     "metadata": {},
     "execution_count": 19
    }
   ],
   "source": [
    "X = X.toarray()\n",
    "X"
   ]
  },
  {
   "cell_type": "code",
   "execution_count": 20,
   "metadata": {},
   "outputs": [
    {
     "output_type": "execute_result",
     "data": {
      "text/plain": [
       "1.0"
      ]
     },
     "metadata": {},
     "execution_count": 20
    }
   ],
   "source": [
    "X.max()"
   ]
  },
  {
   "cell_type": "code",
   "execution_count": 21,
   "metadata": {},
   "outputs": [
    {
     "output_type": "execute_result",
     "data": {
      "text/plain": [
       "0.0029806796287371387"
      ]
     },
     "metadata": {},
     "execution_count": 21
    }
   ],
   "source": [
    "X.mean()"
   ]
  },
  {
   "cell_type": "code",
   "execution_count": 22,
   "metadata": {},
   "outputs": [
    {
     "output_type": "execute_result",
     "data": {
      "text/plain": [
       "'Communal violence in Bhainsa, Telangana. \"Stones were pelted on Muslims\\' houses and some houses and vehicles were set ablaze…'"
      ]
     },
     "metadata": {},
     "execution_count": 22
    }
   ],
   "source": [
    "tweets.iat[0]"
   ]
  },
  {
   "cell_type": "code",
   "execution_count": 23,
   "metadata": {},
   "outputs": [
    {
     "output_type": "execute_result",
     "data": {
      "text/plain": [
       "['ablaze', 'and', 'houses', 'in', 'on', 'set', 'some', 'violence', 'were']"
      ]
     },
     "metadata": {},
     "execution_count": 23
    }
   ],
   "source": [
    "[vectorizer.get_feature_names()[idx] for idx, value in enumerate(X[0, :]) if value > 0]"
   ]
  },
  {
   "cell_type": "code",
   "execution_count": 24,
   "metadata": {
    "tags": []
   },
   "outputs": [
    {
     "output_type": "stream",
     "name": "stdout",
     "text": [
      "['00', '000', '01', '10', '100', '11', '12', '13', '14', '15', '20', '200', '2018', '2019', '2020', '24', '30', '40', '50', 'ablaze', 'able', 'about', 'absolutely', 'accident', 'account', 'across', 'act', 'action', 'activity', 'actually', 'affected', 'after', 'aftershock', 'again', 'against', 'ago', 'agree', 'air', 'airplane', 'al', 'alert', 'all', 'almost', 'alone', 'along', 'already', 'also', 'always', 'am', 'amazing', 'ambulance', 'america', 'american', 'americans', 'amp', 'an', 'and', 'animal', 'animals', 'annihilated', 'annihilation', 'another', 'anti', 'any', 'anyone', 'anything', 'apocalypse', 'ar', 'are', 'area', 'areas', 'aren', 'army', 'around', 'arrested', 'arson', 'article', 'as', 'ash', 'ask', 'asked', 'asking', 'ass', 'at', 'attack', 'attacked', 'australia', 'australian', 'avalanche', 'away', 'baby', 'back', 'backup', 'bad', 'bag', 'bagging', 'bags', 'bang', 'base', 'based', 'batangas', 'battle', 'bbc', 'bc', 'be', 'beat', 'because', 'become', 'been', 'before', 'behind', 'being', 'believe', 'bernie', 'best', 'better', 'between', 'big', 'biggest', 'billion', 'bioterror', 'bioterrorism', 'bit', 'black', 'blazing', 'bleeding', 'blew', 'blight', 'blizzard', 'blood', 'bloody', 'body', 'bomb', 'bombed', 'bomber', 'bombing', 'book', 'border', 'both', 'boy', 'brace', 'break', 'breaking', 'brendan', 'bridge', 'bring', 'british', 'bts', 'build', 'building', 'buildings', 'burn', 'burned', 'burning', 'bus', 'bush', 'bushfire', 'bushfires', 'business', 'but', 'buy', 'by', 'caa', 'call', 'called', 'calling', 'came', 'campaign', 'can', 'cannot', 'car', 'care', 'case', 'casualties', 'casualty', 'catastrophic', 'caught', 'cause', 'caused', 'causes', 'causing', 'central', 'change', 'check', 'chemical', 'child', 'children', 'china', 'chinese', 'city', 'clear', 'cliff', 'climate', 'closed', 'co', 'collapse', 'collapsed', 'collide', 'collided', 'collision', 'come', 'comes', 'coming', 'community', 'company', 'completely', 'continue', 'continues', 'control', 'could', 'country', 'county', 'couple', 'course', 'court', 'crash', 'crashed', 'crazy', 'crisis', 'crush', 'crushed', 'curfew', 'current', 'currently', 'damage', 'damn', 'danger', 'day', 'days', 'de', 'dead', 'deal', 'dear', 'death', 'deaths', 'deep', 'deluge', 'democrats', 'demolish', 'demolished', 'demolition', 'derailed', 'derailment', 'destroy', 'destroyed', 'destruction', 'detonate', 'devastation', 'did', 'didn', 'die', 'died', 'different', 'disaster', 'displaced', 'do', 'does', 'doesn', 'dog', 'doing', 'don', 'done', 'dont', 'door', 'down', 'dr', 'driving', 'drought', 'drown', 'drowned', 'drowning', 'dublin', 'due', 'during', 'dust', 'each', 'early', 'earth', 'earthquake', 'east', 'either', 'electrocute', 'else', 'emergency', 'end', 'english', 'engulfed', 'enough', 'entire', 'epicentre', 'eruption', 'evacuate', 'evacuation', 'even', 'event', 'ever', 'every', 'everyone', 'everything', 'evidence', 'explosion', 'eyes', 'eyewitness', 'face', 'fact', 'failure', 'fake', 'fall', 'families', 'family', 'fans', 'far', 'fatalities', 'fatality', 'father', 'fear', 'feel', 'feeling', 'feels', 'felt', 'few', 'fight', 'finally', 'find', 'fire', 'fires', 'first', 'five', 'flames', 'flattened', 'flood', 'flooding', 'floods', 'follow', 'following', 'food', 'footage', 'for', 'force', 'forced', 'forest', 'forget', 'found', 'four', 'free', 'freight', 'friend', 'friends', 'from', 'front', 'fuck', 'fucking', 'full', 'future', 'game', 'gave', 'get', 'gets', 'getting', 'girl', 'give', 'giving', 'global', 'go', 'god', 'goes', 'going', 'gone', 'gonna', 'good', 'got', 'gove', 'government', 'govt', 'great', 'ground', 'group', 'gt', 'guess', 'gun', 'guy', 'guys', 'ha', 'had', 'hail', 'half', 'hand', 'happened', 'happy', 'hard', 'harm', 'has', 'hate', 'have', 'haven', 'having', 'hazard', 'hazardous', 'he', 'head', 'health', 'hear', 'heard', 'heart', 'heat', 'heavy', 'held', 'helicopter', 'hell', 'hellfire', 'help', 'her', 'here', 'hey', 'hi', 'high', 'hijack', 'hijacker', 'hijacking', 'him', 'his', 'history', 'hit', 'hitchin', 'hold', 'home', 'homes', 'hope', 'hospital', 'hostage', 'hostages', 'hour', 'hours', 'house', 'houses', 'how', 'https', 'huge', 'human', 'hurricane', 'id', 'idea', 'if', 'im', 'imagine', 'important', 'in', 'incident', 'including', 'india', 'indian', 'information', 'injured', 'injuries', 'injury', 'innocent', 'inside', 'instead', 'into', 'inundated', 'inundation', 'iran', 'iranian', 'iraq', 'is', 'isis', 'islamic', 'island', 'isn', 'israel', 'it', 'its', 'jan', 'january', 'jesus', 'job', 'joe', 'john', 'join', 'just', 'justice', 'kashmir', 'keep', 'kids', 'kill', 'killed', 'killing', 'kind', 'king', 'know', 'land', 'landslide', 'lane', 'large', 'last', 'late', 'latest', 'law', 'leader', 'least', 'leave', 'leaving', 'left', 'less', 'let', 'level', 'life', 'light', 'lightning', 'like', 'likely', 'line', 'list', 'listen', 'literally', 'little', 'live', 'lives', 'living', 'll', 'local', 'lol', 'london', 'long', 'longer', 'look', 'looking', 'looks', 'lost', 'lot', 'loud', 'love', 'low', 'made', 'major', 'make', 'makes', 'making', 'man', 'many', 'market', 'mass', 'massive', 'matter', 'may', 'maybe', 'me', 'mean', 'means', 'media', 'melbourne', 'meltdown', 'members', 'men', 'middle', 'might', 'military', 'million', 'millions', 'mind', 'minister', 'miss', 'missing', 'moment', 'monday', 'money', 'months', 'more', 'morning', 'most', 'mother', 'movie', 'much', 'mudslide', 'multiple', 'murder', 'murderer', 'music', 'muslim', 'must', 'my', 'myself', 'mystery', 'name', 'nation', 'national', 'natural', 'nc', 'near', 'nearly', 'need', 'needs', 'never', 'new', 'news', 'next', 'nice', 'night', 'no', 'non', 'normal', 'north', 'not', 'nothing', 'now', 'nuclear', 'number', 'obliterate', 'obliterated', 'of', 'off', 'official', 'officials', 'oh', 'oil', 'ok', 'old', 'on', 'once', 'one', 'only', 'open', 'or', 'order', 'other', 'others', 'our', 'out', 'outbreak', 'outside', 'over', 'own', 'pakistan', 'panic', 'panicking', 'parents', 'park', 'part', 'parts', 'party', 'past', 'pay', 'people', 'person', 'philippines', 'pick', 'piece', 'place', 'plan', 'plane', 'planet', 'plant', 'play', 'please', 'pm', 'point', 'police', 'political', 'poor', 'possible', 'post', 'power', 'powerful', 'pray', 'president', 'pretty', 'probably', 'problem', 'protect', 'public', 'puerto', 'put', 'quality', 'quarantine', 'quarantined', 'question', 'rain', 'razed', 're', 'reactor', 'read', 'ready', 'real', 'really', 'reason', 'record', 'red', 'refugees', 'regime', 'region', 'relief', 'remember', 'report', 'reported', 'rescue', 'rescued', 'rescuers', 'residents', 'responders', 'response', 'result', 'return', 'rico', 'right', 'riot', 'rioting', 'risk', 'river', 'road', 'room', 'royal', 'rt', 'ruin', 'run', 'running', 'sa', 'sad', 'safe', 'safety', 'said', 'same', 'sandstorm', 'saudi', 'save', 'saw', 'say', 'saying', 'says', 'scene', 'school', 'schools', 'screamed', 'screaming', 'screams', 'sea', 'season', 'second', 'security', 'see', 'seeing', 'seems', 'seen', 'seismic', 'self', 'sense', 'sent', 'series', 'serious', 'service', 'services', 'set', 'several', 'severe', 'share', 'she', 'shit', 'shooting', 'shot', 'should', 'show', 'shows', 'shut', 'sick', 'side', 'since', 'singh', 'single', 'sinkhole', 'sinking', 'sir', 'sirens', 'situation', 'six', 'sleep', 'small', 'smoke', 'snow', 'snowstorm', 'so', 'soldiers', 'soleimani', 'some', 'someone', 'something', 'song', 'soon', 'sorry', 'soul', 'sounds', 'south', 'speak', 'spill', 'st', 'stand', 'star', 'start', 'started', 'state', 'states', 'station', 'stay', 'still', 'stop', 'storm', 'story', 'street', 'stretcher', 'strong', 'students', 'stupid', 'such', 'suicide', 'sunday', 'sunk', 'support', 'sure', 'survive', 'survived', 'survivors', 'swallows', 'system', 'taal', 'take', 'taken', 'takes', 'taking', 'talk', 'talking', 'team', 'tell', 'telling', 'terrorism', 'terrorist', 'terrorists', 'th', 'thailand', 'than', 'thank', 'that', 'the', 'their', 'them', 'then', 'there', 'these', 'they', 'thing', 'things', 'think', 'thinking', 'this', 'those', 'though', 'thought', 'thousands', 'thread', 'threat', 'three', 'through', 'thunderstorm', 'till', 'time', 'times', 'to', 'today', 'told', 'tonight', 'too', 'took', 'top', 'tornado', 'total', 'tour', 'town', 'traffic', 'tragedy', 'train', 'training', 'trapped', 'trauma', 'traumatised', 'tried', 'triumphant', 'trouble', 'truck', 'true', 'trump', 'try', 'trying', 'tuesday', 'turn', 'tweet', 'twitter', 'two', 'uk', 'ukrainian', 'under', 'understand', 'united', 'until', 'up', 'update', 'upheaval', 'ur', 'us', 'usa', 'use', 'used', 'using', 've', 'vehicle', 'very', 'via', 'victims', 'video', 'violence', 'violent', 'virus', 'visit', 'volcanic', 'volcano', 'vote', 'vs', 'wait', 'waiting', 'wake', 'wanna', 'want', 'wanted', 'wants', 'war', 'warning', 'warren', 'was', 'wasn', 'watch', 'watching', 'water', 'wave', 'way', 'we', 'weapon', 'weapons', 'weather', 'week', 'weekend', 'weeks', 'well', 'went', 'were', 'west', 'what', 'when', 'where', 'which', 'while', 'white', 'who', 'whole', 'why', 'wild', 'wildfire', 'wildlife', 'will', 'win', 'wind', 'winds', 'windstorm', 'wish', 'with', 'within', 'without', 'woman', 'women', 'won', 'wonder', 'work', 'working', 'world', 'worse', 'worst', 'would', 'wouldn', 'wounded', 'wounds', 'wreck', 'wrecked', 'wrong', 'yeah', 'year', 'years', 'yes', 'yesterday', 'yet', 'yo', 'you', 'young', 'your', 'yourself', 'zone']\n"
     ]
    }
   ],
   "source": [
    "print(vectorizer.get_feature_names())"
   ]
  },
  {
   "cell_type": "code",
   "execution_count": 25,
   "metadata": {},
   "outputs": [
    {
     "output_type": "stream",
     "name": "stdout",
     "text": [
      "1000\n"
     ]
    }
   ],
   "source": [
    "print(len(vectorizer.get_feature_names()))"
   ]
  },
  {
   "cell_type": "code",
   "execution_count": null,
   "metadata": {},
   "outputs": [],
   "source": []
  }
 ]
}