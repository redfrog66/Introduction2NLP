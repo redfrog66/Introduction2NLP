{
 "cells": [
  {
   "cell_type": "code",
   "execution_count": null,
   "metadata": {},
   "outputs": [],
   "source": [
    "import pandas as pd\n",
    "\n",
    "df = pd.read_json(\"../data/aclIMDB.json\", orient=\"records\")\n",
    "df.head(5)"
   ]
  },
  {
   "cell_type": "code",
   "execution_count": null,
   "metadata": {},
   "outputs": [],
   "source": [
    "df.info()"
   ]
  },
  {
   "cell_type": "code",
   "execution_count": null,
   "metadata": {},
   "outputs": [],
   "source": [
    "df.hist()"
   ]
  },
  {
   "cell_type": "code",
   "execution_count": null,
   "metadata": {},
   "outputs": [],
   "source": [
    "len_df = len(df)\n",
    "print(len_df)\n",
    "\n",
    "len_train = int(round(len_df * 0.6))\n",
    "len_val_test = (len_df - len_train) // 4\n",
    "len_train = len_train // 2\n",
    "\n",
    "print(len_train)\n",
    "print(len_val_test)"
   ]
  },
  {
   "cell_type": "code",
   "execution_count": null,
   "metadata": {},
   "outputs": [],
   "source": [
    "df_0 = df.loc[df['label'] == 0].copy()\n",
    "df_1 = df.loc[df['label'] == 1].copy()\n",
    "\n",
    "df_0_train = df_0[:len_train].copy()\n",
    "df_1_train = df_1[:len_train].copy()\n",
    "\n",
    "df_0_val = df_0[len_train:len_train+len_val_test].copy()\n",
    "df_1_val = df_1[len_train:len_train+len_val_test].copy()\n",
    "\n",
    "df_0_test = df_0[len_train+len_val_test:].copy()\n",
    "df_1_test = df_1[len_train+len_val_test:].copy()"
   ]
  },
  {
   "cell_type": "code",
   "execution_count": null,
   "metadata": {},
   "outputs": [],
   "source": [
    "df_train = pd.concat([df_0_train, df_1_train])\n",
    "df_train = df_train.sample(frac=1)\n",
    "df_train.hist()"
   ]
  },
  {
   "cell_type": "code",
   "execution_count": null,
   "metadata": {},
   "outputs": [],
   "source": [
    "df_val = pd.concat([df_0_val, df_1_val])\n",
    "df_val = df_val.sample(frac=1)\n",
    "df_val.hist()"
   ]
  },
  {
   "cell_type": "code",
   "execution_count": null,
   "metadata": {},
   "outputs": [],
   "source": [
    "df_test = pd.concat([df_0_test, df_1_test])\n",
    "df_test = df_test.sample(frac=1)\n",
    "df_test.hist()"
   ]
  },
  {
   "cell_type": "code",
   "execution_count": null,
   "metadata": {},
   "outputs": [],
   "source": [
    "import json\n",
    "\n",
    "train = \"../data/aclIMDB_train.json\"\n",
    "df_train.to_json(train, orient=\"records\")\n",
    "df_readed_train = pd.read_json(train, orient='records')\n",
    "df_readed_train.head()"
   ]
  },
  {
   "cell_type": "code",
   "execution_count": null,
   "metadata": {},
   "outputs": [],
   "source": [
    "df_readed_train.hist()"
   ]
  },
  {
   "cell_type": "code",
   "execution_count": null,
   "metadata": {},
   "outputs": [],
   "source": [
    "val = \"../data/aclIMDB_val.json\"\n",
    "df_val.to_json(val, orient=\"records\")\n",
    "df_readed_val = pd.read_json(val, orient='records')\n",
    "df_readed_val.head()"
   ]
  },
  {
   "cell_type": "code",
   "execution_count": null,
   "metadata": {},
   "outputs": [],
   "source": [
    "df_readed_val.hist()"
   ]
  },
  {
   "cell_type": "code",
   "execution_count": null,
   "metadata": {},
   "outputs": [],
   "source": [
    "test = \"../data/aclIMDB_test.json\"\n",
    "df_test.to_json(test, orient=\"records\")\n",
    "df_readed_test = pd.read_json(test, orient='records')\n",
    "df_readed_test.head()"
   ]
  },
  {
   "cell_type": "code",
   "execution_count": null,
   "metadata": {},
   "outputs": [],
   "source": [
    "df_readed_test.hist()"
   ]
  }
 ],
 "metadata": {
  "kernelspec": {
   "display_name": "Python 3.9.5 ('nlp')",
   "language": "python",
   "name": "python3"
  },
  "language_info": {
   "codemirror_mode": {
    "name": "ipython",
    "version": 3
   },
   "file_extension": ".py",
   "mimetype": "text/x-python",
   "name": "python",
   "nbconvert_exporter": "python",
   "pygments_lexer": "ipython3",
   "version": "3.9.5"
  },
  "vscode": {
   "interpreter": {
    "hash": "4650b2ab9af1b5111f53599d1b6662800e1e795f0a404b209a1518c877a28bdd"
   }
  }
 },
 "nbformat": 4,
 "nbformat_minor": 2
}
