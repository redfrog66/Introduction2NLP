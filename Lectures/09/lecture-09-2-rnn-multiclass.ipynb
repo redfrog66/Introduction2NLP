{
 "cells": [
  {
   "cell_type": "code",
   "execution_count": null,
   "metadata": {},
   "outputs": [],
   "source": [
    "import pandas as pd\n",
    "\n",
    "df_train = pd.read_json(\"../data/news_train.json\", orient='records')\n",
    "df_train.info()\n",
    "df_train.hist()\n",
    "df_train.head()"
   ]
  },
  {
   "cell_type": "code",
   "execution_count": null,
   "metadata": {},
   "outputs": [],
   "source": [
    "df_test = pd.read_json(\"../data/news_test.json\", orient='records')\n",
    "df_test.info()\n",
    "df_test.hist()\n",
    "df_test.head()"
   ]
  },
  {
   "cell_type": "code",
   "execution_count": null,
   "metadata": {},
   "outputs": [],
   "source": [
    "df_val = pd.read_json(\"../data/news_val.json\", orient='records')\n",
    "df_val.info()\n",
    "df_val.hist()\n",
    "df_val.head()"
   ]
  },
  {
   "cell_type": "code",
   "execution_count": null,
   "metadata": {},
   "outputs": [],
   "source": [
    "import numpy as np\n",
    "from tokenizers import BertWordPieceTokenizer\n",
    "\n",
    "tokenizer = BertWordPieceTokenizer(\"../data/bert-base-uncased-vocab.txt\",\n",
    "                                   lowercase=True)\n",
    "\n",
    "def bert_tokenizer(data):\n",
    "    result = []\n",
    "    for item in data:\n",
    "        result.append(tokenizer.encode(item).ids)\n",
    "    \n",
    "    return np.array(result, dtype=object)"
   ]
  },
  {
   "cell_type": "code",
   "execution_count": null,
   "metadata": {},
   "outputs": [],
   "source": [
    "import tensorflow as tf\n",
    "\n",
    "maxlen = 128\n",
    "\n",
    "X_train = list(df_train[\"text\"].values)\n",
    "X_train = bert_tokenizer(X_train)\n",
    "X_train = tf.keras.preprocessing.sequence.pad_sequences(X_train, maxlen=maxlen)\n",
    "y_train = df_train[\"label\"].values\n",
    "\n",
    "X_val = list(df_val[\"text\"].values)\n",
    "X_val = bert_tokenizer(X_val)\n",
    "X_val = tf.keras.preprocessing.sequence.pad_sequences(X_val, maxlen=maxlen)\n",
    "y_val = df_val[\"label\"].values\n",
    "\n",
    "\n",
    "X_test = list(df_test[\"text\"].values)\n",
    "X_test = bert_tokenizer(X_test)\n",
    "X_test = tf.keras.preprocessing.sequence.pad_sequences(X_test, maxlen=maxlen)\n",
    "y_test = df_test[\"label\"].values"
   ]
  },
  {
   "cell_type": "code",
   "execution_count": null,
   "metadata": {},
   "outputs": [],
   "source": [
    "import tensorflow as tf\n",
    "\n",
    "emb_size = 32\n",
    "max_features = 30523 # vocab size\n",
    "\n",
    "model_simple_rnn = tf.keras.Sequential([\n",
    "    tf.keras.layers.Embedding(max_features, emb_size, input_length=maxlen),\n",
    "    tf.keras.layers.SimpleRNN(units=emb_size, activation='tanh'),\n",
    "    tf.keras.layers.Dense(units=4, activation='softmax')\n",
    "]) \n",
    "\n",
    "model_simple_rnn.compile(optimizer='adam',\n",
    "                         loss=\"sparse_categorical_crossentropy\",\n",
    "                         metrics=['accuracy'])\n",
    "\n",
    "model_simple_rnn.summary()"
   ]
  },
  {
   "cell_type": "code",
   "execution_count": null,
   "metadata": {},
   "outputs": [],
   "source": [
    "callback = tf.keras.callbacks.EarlyStopping(monitor='val_accuracy', patience=2)\n",
    "\n",
    "h_simple_rnn = model_simple_rnn.fit(X_train, \n",
    "                                    y_train,\n",
    "                                    epochs=5,\n",
    "                                    batch_size=32,\n",
    "                                    callbacks=[callback],\n",
    "                                    validation_data=(X_val, y_val))"
   ]
  },
  {
   "cell_type": "code",
   "execution_count": null,
   "metadata": {},
   "outputs": [],
   "source": [
    "import matplotlib.pyplot as plt\n",
    "\n",
    "plt.plot(h_simple_rnn.history['loss'], label='(training data)',color='blue')\n",
    "plt.plot(h_simple_rnn.history['val_loss'], label='(val data)',color='green')\n",
    "plt.title('Neural Network training loss')\n",
    "plt.ylabel('value')\n",
    "plt.xlabel('No. epoch')\n",
    "plt.show()"
   ]
  },
  {
   "cell_type": "code",
   "execution_count": null,
   "metadata": {},
   "outputs": [],
   "source": [
    "import matplotlib.pyplot as plt\n",
    "\n",
    "plt.plot(h_simple_rnn.history['accuracy'], label='(training data)',color='blue')\n",
    "plt.plot(h_simple_rnn.history['val_accuracy'], label='(val data)',color='green')\n",
    "plt.title('Neural Network training accuracy')\n",
    "plt.ylabel('value')\n",
    "plt.xlabel('No. epoch')\n",
    "plt.show()"
   ]
  },
  {
   "cell_type": "code",
   "execution_count": null,
   "metadata": {},
   "outputs": [],
   "source": [
    "results = model_simple_rnn.evaluate(X_test, y_test, batch_size=32)\n",
    "print(\"Simple rnn test loss, test acc:\", results)"
   ]
  },
  {
   "cell_type": "code",
   "execution_count": null,
   "metadata": {},
   "outputs": [],
   "source": [
    "import tensorflow as tf\n",
    "\n",
    "emb_size = 32\n",
    "max_features = 30523 # vocab size\n",
    "\n",
    "model_lstm = tf.keras.Sequential([\n",
    "    tf.keras.layers.Embedding(max_features, emb_size, input_length=maxlen),\n",
    "    tf.keras.layers.LSTM(units=emb_size, activation='tanh'),\n",
    "    tf.keras.layers.Dense(units=4, activation='softmax')\n",
    "]) \n",
    "\n",
    "model_lstm.compile(optimizer='adam',\n",
    "                   loss=\"sparse_categorical_crossentropy\",\n",
    "                   metrics=['accuracy'])\n",
    "\n",
    "model_lstm.summary()"
   ]
  },
  {
   "cell_type": "code",
   "execution_count": null,
   "metadata": {},
   "outputs": [],
   "source": [
    "callback = tf.keras.callbacks.EarlyStopping(monitor='val_accuracy', patience=2)\n",
    "\n",
    "h_lstm = model_lstm.fit(X_train, \n",
    "                        y_train,\n",
    "                        epochs=5,\n",
    "                        batch_size=32,\n",
    "                        callbacks=[callback],\n",
    "                        validation_data=(X_test, y_test))"
   ]
  },
  {
   "cell_type": "code",
   "execution_count": null,
   "metadata": {},
   "outputs": [],
   "source": [
    "import matplotlib.pyplot as plt\n",
    "\n",
    "plt.plot(h_lstm.history['loss'], label='(training data)',color='blue')\n",
    "plt.plot(h_lstm.history['val_loss'], label='(val data)',color='green')\n",
    "plt.title('Neural Network training loss')\n",
    "plt.ylabel('value')\n",
    "plt.xlabel('No. epoch')\n",
    "plt.show()"
   ]
  },
  {
   "cell_type": "code",
   "execution_count": null,
   "metadata": {},
   "outputs": [],
   "source": [
    "import matplotlib.pyplot as plt\n",
    "\n",
    "plt.plot(h_lstm.history['accuracy'], label='(training data)',color='blue')\n",
    "plt.plot(h_lstm.history['val_accuracy'], label='(val data)',color='green')\n",
    "plt.title('Neural Network training accuracy')\n",
    "plt.ylabel('value')\n",
    "plt.xlabel('No. epoch')\n",
    "plt.show()"
   ]
  },
  {
   "cell_type": "code",
   "execution_count": null,
   "metadata": {},
   "outputs": [],
   "source": [
    "results = model_lstm.evaluate(X_test, y_test, batch_size=32)\n",
    "print(\"LSTM test loss, test acc:\", results)"
   ]
  },
  {
   "cell_type": "code",
   "execution_count": null,
   "metadata": {},
   "outputs": [],
   "source": [
    "import tensorflow as tf\n",
    "\n",
    "emb_size = 32\n",
    "max_features = 30523 # vocab size\n",
    "\n",
    "model_gru = tf.keras.Sequential([\n",
    "    tf.keras.layers.Embedding(max_features, emb_size, input_length=maxlen),\n",
    "    tf.keras.layers.GRU(units=emb_size, activation='tanh'),\n",
    "    tf.keras.layers.Dense(units=4, activation='softmax')\n",
    "]) \n",
    "\n",
    "model_gru.compile(optimizer='adam',\n",
    "                  loss=\"sparse_categorical_crossentropy\",\n",
    "                  metrics=['accuracy'])\n",
    "\n",
    "model_gru.summary()"
   ]
  },
  {
   "cell_type": "code",
   "execution_count": null,
   "metadata": {},
   "outputs": [],
   "source": [
    "callback = tf.keras.callbacks.EarlyStopping(monitor='val_accuracy', patience=2)\n",
    "\n",
    "h_gru = model_gru.fit(X_train, \n",
    "                      y_train,\n",
    "                      epochs=5,\n",
    "                      batch_size=32,\n",
    "                      callbacks=[callback],\n",
    "                      validation_data=(X_test, y_test))"
   ]
  },
  {
   "cell_type": "code",
   "execution_count": null,
   "metadata": {},
   "outputs": [],
   "source": [
    "import matplotlib.pyplot as plt\n",
    "\n",
    "plt.plot(h_gru.history['loss'], label='(training data)',color='blue')\n",
    "plt.plot(h_gru.history['val_loss'], label='(val data)',color='green')\n",
    "plt.title('Neural Network training loss')\n",
    "plt.ylabel('value')\n",
    "plt.xlabel('No. epoch')\n",
    "plt.show()"
   ]
  },
  {
   "cell_type": "code",
   "execution_count": null,
   "metadata": {},
   "outputs": [],
   "source": [
    "import matplotlib.pyplot as plt\n",
    "\n",
    "plt.plot(h_gru.history['accuracy'], label='(training data)',color='blue')\n",
    "plt.plot(h_gru.history['val_accuracy'], label='(val data)',color='green')\n",
    "plt.title('Neural Network training accuracy')\n",
    "plt.ylabel('value')\n",
    "plt.xlabel('No. epoch')\n",
    "plt.show()"
   ]
  },
  {
   "cell_type": "code",
   "execution_count": null,
   "metadata": {},
   "outputs": [],
   "source": [
    "results = model_gru.evaluate(X_test, y_test, batch_size=32)\n",
    "print(\"GRU test loss, test acc:\", results)"
   ]
  }
 ],
 "metadata": {
  "kernelspec": {
   "display_name": "Python 3.9.5 ('nlp')",
   "language": "python",
   "name": "python3"
  },
  "language_info": {
   "codemirror_mode": {
    "name": "ipython",
    "version": 3
   },
   "file_extension": ".py",
   "mimetype": "text/x-python",
   "name": "python",
   "nbconvert_exporter": "python",
   "pygments_lexer": "ipython3",
   "version": "3.9.5"
  },
  "orig_nbformat": 2,
  "vscode": {
   "interpreter": {
    "hash": "4650b2ab9af1b5111f53599d1b6662800e1e795f0a404b209a1518c877a28bdd"
   }
  }
 },
 "nbformat": 4,
 "nbformat_minor": 2
}
