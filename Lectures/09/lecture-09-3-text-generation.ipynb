{
 "cells": [
  {
   "cell_type": "code",
   "execution_count": null,
   "metadata": {},
   "outputs": [],
   "source": [
    "with open(\"../data/nietzsche.txt\", \"r\", encoding=\"utf8\") as f:\n",
    "    text = f.read().lower()\n",
    "\n",
    "print(len(text))"
   ]
  },
  {
   "cell_type": "code",
   "execution_count": null,
   "metadata": {},
   "outputs": [],
   "source": [
    "text[:500]"
   ]
  },
  {
   "cell_type": "code",
   "execution_count": null,
   "metadata": {},
   "outputs": [],
   "source": [
    "import numpy as np\n",
    "from tqdm import tqdm\n",
    "\n",
    "maxlen = 60\n",
    "step = 3\n",
    "sequences = []\n",
    "next_chars = []\n",
    "\n",
    "for i in tqdm(range(0, len(text) - maxlen, step)):\n",
    "    sequences.append(text[i: i + maxlen])\n",
    "    next_chars.append(text[i + maxlen])\n",
    "len(sequences)"
   ]
  },
  {
   "cell_type": "code",
   "execution_count": null,
   "metadata": {},
   "outputs": [],
   "source": [
    "for i in range(5): print(repr(sequences[i]),\" : \", next_chars[i])"
   ]
  },
  {
   "cell_type": "code",
   "execution_count": null,
   "metadata": {},
   "outputs": [],
   "source": [
    "chars = sorted(list(set(text)))\n",
    "print(chars)"
   ]
  },
  {
   "cell_type": "code",
   "execution_count": null,
   "metadata": {},
   "outputs": [],
   "source": [
    "char_indices = dict((char, chars.index(char)) for char in chars)\n",
    "print(char_indices)"
   ]
  },
  {
   "cell_type": "code",
   "execution_count": null,
   "metadata": {},
   "outputs": [],
   "source": [
    "indices_char = dict((chars.index(char), char) for char in chars)\n",
    "print(indices_char)"
   ]
  },
  {
   "cell_type": "code",
   "execution_count": null,
   "metadata": {},
   "outputs": [],
   "source": [
    "X = []\n",
    "y = []\n",
    "for i, seq in tqdm(enumerate(sequences)):\n",
    "    x = [char_indices[char] for char in seq]\n",
    "    X.append(x)\n",
    "    y.append([char_indices[next_chars[i]]])\n",
    "\n",
    "X = np.array(X)\n",
    "y = np.array(y)\n",
    "X.shape, y.shape"
   ]
  },
  {
   "cell_type": "code",
   "execution_count": null,
   "metadata": {},
   "outputs": [],
   "source": [
    "import tensorflow as tf\n",
    "\n",
    "emb_size = 8\n",
    "num_chars = len(chars)\n",
    "model = tf.keras.Sequential([\n",
    "    tf.keras.layers.Embedding(num_chars, emb_size, input_length=maxlen),\n",
    "    tf.keras.layers.Conv1D(32, 5, activation='relu'),    \n",
    "    tf.keras.layers.Flatten(),\n",
    "    tf.keras.layers.Dropout(0.2),\n",
    "    tf.keras.layers.Dense(units=num_chars, activation='softmax')\n",
    "]) \n",
    "\n",
    "model.compile(loss='sparse_categorical_crossentropy', optimizer=\"adam\", metrics=['accuracy'])\n",
    "\n",
    "model.summary()"
   ]
  },
  {
   "cell_type": "code",
   "execution_count": null,
   "metadata": {},
   "outputs": [],
   "source": [
    "# with tf.device(\"/CPU:0\"):\n",
    "model.fit(X, y, epochs=1, batch_size=32)"
   ]
  },
  {
   "cell_type": "code",
   "execution_count": null,
   "metadata": {},
   "outputs": [],
   "source": [
    "import random\n",
    "\n",
    "start_index = random.randint(0, len(text) - maxlen - 1)\n",
    "base_text = text[start_index: start_index + maxlen]\n",
    "base_text"
   ]
  },
  {
   "cell_type": "code",
   "execution_count": null,
   "metadata": {},
   "outputs": [],
   "source": [
    "import sys\n",
    "\n",
    "next_char = 100\n",
    "new_text = base_text\n",
    "sys.stdout.write(new_text)\n",
    "\n",
    "for _ in range(next_char):\n",
    "    x = np.array([[char_indices[char] for char in base_text]])  \n",
    "    predicted = np.argmax(model.predict(np.array([[char_indices[char] for char in new_text]]), verbose=0), axis=-1)\n",
    "    new_char = indices_char[predicted[0]]\n",
    "    new_text = new_text[1:] + new_char\n",
    "    sys.stdout.write(new_char)"
   ]
  }
 ],
 "metadata": {
  "kernelspec": {
   "display_name": "Python 3.9.5 ('nlp')",
   "language": "python",
   "name": "python3"
  },
  "language_info": {
   "codemirror_mode": {
    "name": "ipython",
    "version": 3
   },
   "file_extension": ".py",
   "mimetype": "text/x-python",
   "name": "python",
   "nbconvert_exporter": "python",
   "pygments_lexer": "ipython3",
   "version": "3.9.5"
  },
  "orig_nbformat": 2,
  "vscode": {
   "interpreter": {
    "hash": "4650b2ab9af1b5111f53599d1b6662800e1e795f0a404b209a1518c877a28bdd"
   }
  }
 },
 "nbformat": 4,
 "nbformat_minor": 2
}
