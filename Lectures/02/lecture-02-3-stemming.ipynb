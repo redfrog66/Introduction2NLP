{
 "cells": [
  {
   "cell_type": "markdown",
   "metadata": {},
   "source": [
    "# Stemming"
   ]
  },
  {
   "cell_type": "code",
   "execution_count": null,
   "metadata": {},
   "outputs": [],
   "source": [
    "!pip install nltk"
   ]
  },
  {
   "cell_type": "code",
   "execution_count": null,
   "metadata": {},
   "outputs": [],
   "source": [
    "import nltk\n",
    "from nltk.stem import LancasterStemmer\n",
    "\n",
    "lancaster_stemmer = LancasterStemmer()\n",
    "\n",
    "print(\"Lancaster Stemmer\")\n",
    "print(lancaster_stemmer.stem(\"dogs\"))\n",
    "print(lancaster_stemmer.stem(\"harm\"))\n",
    "print(lancaster_stemmer.stem(\"harming\"))\n",
    "print(lancaster_stemmer.stem(\"harmed\"))\n",
    "print(lancaster_stemmer.stem(\"harmony\"))\n",
    "print(lancaster_stemmer.stem(\"harmless\"))\n",
    "print(lancaster_stemmer.stem(\"harmful\"))"
   ]
  },
  {
   "cell_type": "code",
   "execution_count": null,
   "metadata": {},
   "outputs": [],
   "source": [
    "# https://tartarus.org/martin/PorterStemmer/index.html\n",
    "# https://tartarus.org/martin/PorterStemmer/def.txt\n",
    "from nltk.stem import PorterStemmer  \n",
    "\n",
    "porter_stemmer = PorterStemmer()\n",
    "\n",
    "print(\"Porter Stemmer\")\n",
    "print(porter_stemmer.stem(\"dogs\"))\n",
    "print(porter_stemmer.stem(\"harm\"))\n",
    "print(porter_stemmer.stem(\"harming\"))\n",
    "print(porter_stemmer.stem(\"harmed\"))\n",
    "print(porter_stemmer.stem(\"harmony\"))\n",
    "print(porter_stemmer.stem(\"harmless\"))\n",
    "print(porter_stemmer.stem(\"harmful\"))"
   ]
  },
  {
   "cell_type": "code",
   "execution_count": null,
   "metadata": {},
   "outputs": [],
   "source": [
    "word_list = [\"friend\", \"friendship\", \"friends\", \"friendships\",\n",
    "             \"stabil\",\"destabilize\",\"misunderstanding\",\n",
    "             \"railroad\",\"moonlight\",\"football\"]\n",
    "\n",
    "print(\"{0:20}{1:20}{2:20}\".format(\"Word\",\"Porter Stemmer\",\"lancaster Stemmer\"))\n",
    "\n",
    "for word in word_list:\n",
    "    print(\"{0:20}{1:20}{2:20}\".format(word,porter_stemmer.stem(word),lancaster_stemmer.stem(word)))"
   ]
  },
  {
   "cell_type": "markdown",
   "metadata": {},
   "source": [
    "## Non-English Stemmers\n",
    "### SnowballStemmers : \n",
    "    Danish, Dutch, English, French, German, Hungarian, Italian, \n",
    "    Norwegian, Porter, Portuguese, Romanian, Russian, Spanish, Swedish\n",
    "### ISRIStemmer\n",
    "    Arabic\n",
    "### RSLPSStemmer\n",
    "    Portuguese "
   ]
  },
  {
   "cell_type": "markdown",
   "metadata": {},
   "source": [
    "### SnowballStemmer - [FELADAT]"
   ]
  },
  {
   "cell_type": "code",
   "execution_count": null,
   "metadata": {},
   "outputs": [],
   "source": [
    "# Próbálja ki a SnowbalStemmer 3 különböző szóra\n",
    "from nltk.stem.snowball import SnowballStemmer\n",
    "\n",
    "hungarian_stemmer = SnowballStemmer(#CODE#)"
   ]
  }
 ],
 "metadata": {
  "kernelspec": {
   "display_name": "Python 3.9.13 ('nlp')",
   "language": "python",
   "name": "python3"
  },
  "language_info": {
   "codemirror_mode": {
    "name": "ipython",
    "version": 3
   },
   "file_extension": ".py",
   "mimetype": "text/x-python",
   "name": "python",
   "nbconvert_exporter": "python",
   "pygments_lexer": "ipython3",
   "version": "3.9.13"
  },
  "orig_nbformat": 2,
  "vscode": {
   "interpreter": {
    "hash": "d5f66739f1dd32b1c14636a4c66467b6c7b0f6b88b09a96883d2a49b9cebc250"
   }
  }
 },
 "nbformat": 4,
 "nbformat_minor": 2
}
