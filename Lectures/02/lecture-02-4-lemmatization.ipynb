{
 "cells": [
  {
   "cell_type": "markdown",
   "metadata": {},
   "source": [
    "# Lemmatization"
   ]
  },
  {
   "cell_type": "code",
   "execution_count": null,
   "metadata": {},
   "outputs": [],
   "source": [
    "!pip install nltk"
   ]
  },
  {
   "cell_type": "code",
   "execution_count": null,
   "metadata": {},
   "outputs": [],
   "source": [
    "\n",
    "# import these modules \n",
    "import nltk\n",
    "from nltk.stem import WordNetLemmatizer \n",
    "\n",
    "nltk.download('wordnet')\n",
    "nltk.download('omw-1.4')\n",
    "w_n_lemmatizer = WordNetLemmatizer() \n",
    "  \n",
    "print(\"rocks :\", w_n_lemmatizer.lemmatize(\"rocks\")) \n",
    "print(\"corpora :\", w_n_lemmatizer.lemmatize(\"corpora\")) \n",
    "\n",
    "print(\"better :\", w_n_lemmatizer.lemmatize(\"better\")) \n",
    "\n",
    "# adjective \n",
    "print(\"better :\", w_n_lemmatizer.lemmatize(\"better\", pos =\"a\"))"
   ]
  },
  {
   "cell_type": "code",
   "execution_count": null,
   "metadata": {},
   "outputs": [],
   "source": [
    "words = ['kites', 'babies', 'dogs', 'flying', 'smiling',  \n",
    "         'driving', 'died', 'tried', 'feet'] \n",
    "for word in words: \n",
    "    print(word + \" -> \" + w_n_lemmatizer.lemmatize(word)) "
   ]
  }
 ],
 "metadata": {
  "kernelspec": {
   "display_name": "Python 3.9.13 ('nlp')",
   "language": "python",
   "name": "python3"
  },
  "language_info": {
   "codemirror_mode": {
    "name": "ipython",
    "version": 3
   },
   "file_extension": ".py",
   "mimetype": "text/x-python",
   "name": "python",
   "nbconvert_exporter": "python",
   "pygments_lexer": "ipython3",
   "version": "3.9.13"
  },
  "orig_nbformat": 2,
  "vscode": {
   "interpreter": {
    "hash": "d5f66739f1dd32b1c14636a4c66467b6c7b0f6b88b09a96883d2a49b9cebc250"
   }
  }
 },
 "nbformat": 4,
 "nbformat_minor": 2
}
