{
 "cells": [
  {
   "cell_type": "code",
   "execution_count": null,
   "metadata": {},
   "outputs": [],
   "source": [
    "import pandas as pd\n",
    "\n",
    "df_train = pd.read_json(\"../data/aclIMDB_train.json\", orient='records')\n",
    "df_train.info()\n",
    "df_train.hist()\n",
    "df_train.head()"
   ]
  },
  {
   "cell_type": "code",
   "execution_count": null,
   "metadata": {},
   "outputs": [],
   "source": [
    "df_val = pd.read_json(\"../data/aclIMDB_val.json\", orient=\"records\")\n",
    "df_val.info()\n",
    "df_val.hist()\n",
    "df_val.head()"
   ]
  },
  {
   "cell_type": "code",
   "execution_count": null,
   "metadata": {},
   "outputs": [],
   "source": [
    "df_test = pd.read_json(\"../data/aclIMDB_test.json\", orient='records')\n",
    "df_test.info()\n",
    "df_test.hist()\n",
    "df_test.head()"
   ]
  },
  {
   "cell_type": "code",
   "execution_count": null,
   "metadata": {},
   "outputs": [],
   "source": [
    "train = [str(item).lower() for item in  df_train[\"text\"].values]\n",
    "val = [str(item).lower() for item in  df_val[\"text\"].values]\n",
    "test = [str(item).lower() for item in  df_test[\"text\"].values]"
   ]
  },
  {
   "cell_type": "code",
   "execution_count": null,
   "metadata": {},
   "outputs": [],
   "source": [
    "import numpy as np\n",
    "import tensorflow as tf\n",
    "from tokenizers import BertWordPieceTokenizer\n",
    "\n",
    "maxlen = 128\n",
    "tokenizer = BertWordPieceTokenizer(\"../data/bert-base-uncased-vocab.txt\", lowercase=True)\n",
    "\n",
    "def bert_tokenizer(data):\n",
    "    result = []\n",
    "    for item in data:\n",
    "        result.append(tokenizer.encode(item).ids)\n",
    "    \n",
    "    return np.array(result, dtype=object)\n",
    "\n",
    "X_train_bert = bert_tokenizer(train)\n",
    "X_val_bert = bert_tokenizer(val)\n",
    "X_test_bert = bert_tokenizer(test)\n",
    "\n",
    "X_train_bert = tf.keras.preprocessing.sequence.pad_sequences(X_train_bert, maxlen=maxlen)\n",
    "X_val_bert = tf.keras.preprocessing.sequence.pad_sequences(X_val_bert, maxlen=maxlen)\n",
    "X_test_bert = tf.keras.preprocessing.sequence.pad_sequences(X_test_bert, maxlen=maxlen)\n",
    "\n",
    "y_train = np.array(df_train[\"label\"].values)\n",
    "y_val = np.array(df_val[\"label\"].values)\n",
    "y_test = np.array(df_test[\"label\"].values)"
   ]
  },
  {
   "cell_type": "code",
   "execution_count": null,
   "metadata": {},
   "outputs": [],
   "source": [
    "import tensorflow as tf\n",
    "\n",
    "emb_size = 32\n",
    "max_features = 30523 # vocab size\n",
    "\n",
    "model_cnn = tf.keras.Sequential([\n",
    "    tf.keras.layers.Embedding(max_features, emb_size, input_length=maxlen),\n",
    "    tf.keras.layers.Conv1D(32, 7, activation='relu'),\n",
    "    tf.keras.layers.MaxPooling1D(5),\n",
    "    tf.keras.layers.Conv1D(32, 7, activation='relu'),\n",
    "    tf.keras.layers.GlobalMaxPooling1D(),\n",
    "    tf.keras.layers.Dense(units=1, activation='sigmoid')\n",
    "]) \n",
    "\n",
    "model_cnn.compile(optimizer='adam',\n",
    "                  loss=\"binary_crossentropy\",\n",
    "                  metrics=['binary_accuracy'])\n",
    "\n",
    "model_cnn.summary()"
   ]
  },
  {
   "cell_type": "code",
   "execution_count": null,
   "metadata": {},
   "outputs": [],
   "source": [
    "callback = tf.keras.callbacks.EarlyStopping(monitor='val_binary_accuracy', patience=2)\n",
    "\n",
    "h_cnn = model_cnn.fit(X_train_bert, \n",
    "                      y_train,\n",
    "                      epochs=5,\n",
    "                      batch_size=32,\n",
    "                      callbacks=[callback],\n",
    "                      validation_data=(X_val_bert, y_val))"
   ]
  },
  {
   "cell_type": "code",
   "execution_count": null,
   "metadata": {},
   "outputs": [],
   "source": [
    "import matplotlib.pyplot as plt\n",
    "\n",
    "plt.plot(h_cnn.history['loss'], label='(training data)',color='blue')\n",
    "plt.plot(h_cnn.history['val_loss'], label='(val data)',color='green')\n",
    "plt.title('Neural Network loss')\n",
    "plt.ylabel('value')\n",
    "plt.xlabel('No. epoch')\n",
    "plt.show()"
   ]
  },
  {
   "cell_type": "code",
   "execution_count": null,
   "metadata": {},
   "outputs": [],
   "source": [
    "import matplotlib.pyplot as plt\n",
    "\n",
    "plt.plot(h_cnn.history['binary_accuracy'], label='(training data)',color='blue')\n",
    "plt.plot(h_cnn.history['val_binary_accuracy'], label='(val data)',color='green')\n",
    "plt.title('Neural Network accuracy')\n",
    "plt.ylabel('value')\n",
    "plt.xlabel('No. epoch')\n",
    "plt.show()"
   ]
  },
  {
   "cell_type": "code",
   "execution_count": null,
   "metadata": {},
   "outputs": [],
   "source": [
    "results = model_cnn.evaluate(X_test_bert, y_test, batch_size=32)\n",
    "print(\"Simple cnn test loss, test acc:\", results)"
   ]
  },
  {
   "cell_type": "code",
   "execution_count": null,
   "metadata": {},
   "outputs": [],
   "source": [
    "X_train_bert = bert_tokenizer(train)\n",
    "X_val_bert = bert_tokenizer(val)\n",
    "X_test_bert = bert_tokenizer(test)"
   ]
  },
  {
   "cell_type": "code",
   "execution_count": null,
   "metadata": {},
   "outputs": [],
   "source": [
    "max_len_avg = [len(item) for item in X_train_bert]\n",
    "max_len_avg = int(round(sum(max_len_avg) / len(max_len_avg)))\n",
    "max_len_avg"
   ]
  },
  {
   "cell_type": "code",
   "execution_count": null,
   "metadata": {},
   "outputs": [],
   "source": [
    "len([item for item in X_train_bert if len(item) <= 512]) / len(X_train_bert)"
   ]
  },
  {
   "cell_type": "code",
   "execution_count": null,
   "metadata": {},
   "outputs": [],
   "source": [
    "max_len_512 = 512\n",
    "X_train_bert = tf.keras.preprocessing.sequence.pad_sequences(X_train_bert, maxlen=max_len_512)\n",
    "X_val_bert = tf.keras.preprocessing.sequence.pad_sequences(X_val_bert, maxlen=max_len_512)\n",
    "X_test_bert = tf.keras.preprocessing.sequence.pad_sequences(X_test_bert, maxlen=max_len_512)"
   ]
  },
  {
   "cell_type": "code",
   "execution_count": null,
   "metadata": {},
   "outputs": [],
   "source": [
    "import tensorflow as tf\n",
    "\n",
    "emb_size = 32\n",
    "max_features = 30524 # vocab size\n",
    "\n",
    "model_cnn_gru = tf.keras.Sequential([\n",
    "    tf.keras.layers.Embedding(max_features, emb_size, input_length=max_len_512),\n",
    "    tf.keras.layers.Conv1D(32, 7, activation='relu'),\n",
    "    tf.keras.layers.GRU(32),\n",
    "    tf.keras.layers.Flatten(),\n",
    "    tf.keras.layers.Dense(units=1, activation='sigmoid')\n",
    "]) \n",
    "\n",
    "model_cnn_gru.compile(optimizer='adam',\n",
    "                      loss=\"binary_crossentropy\",\n",
    "                      metrics=['binary_accuracy'])\n",
    "\n",
    "model_cnn_gru.summary()"
   ]
  },
  {
   "cell_type": "code",
   "execution_count": null,
   "metadata": {},
   "outputs": [],
   "source": [
    "callback = tf.keras.callbacks.EarlyStopping(monitor='val_binary_accuracy', patience=2)\n",
    "\n",
    "h_cnn_gru = model_cnn_gru.fit(X_train_bert, \n",
    "                              y_train,\n",
    "                              epochs=5,\n",
    "                              batch_size=32,\n",
    "                              callbacks=[callback],\n",
    "                              validation_data=(X_val_bert, y_val))"
   ]
  },
  {
   "cell_type": "code",
   "execution_count": null,
   "metadata": {},
   "outputs": [],
   "source": [
    "import matplotlib.pyplot as plt\n",
    "\n",
    "plt.plot(h_cnn_gru.history['loss'], label='(training data)',color='blue')\n",
    "plt.plot(h_cnn_gru.history['val_loss'], label='(val data)',color='green')\n",
    "plt.title('Neural Network loss')\n",
    "plt.ylabel('value')\n",
    "plt.xlabel('No. epoch')\n",
    "plt.show()"
   ]
  },
  {
   "cell_type": "code",
   "execution_count": null,
   "metadata": {},
   "outputs": [],
   "source": [
    "import matplotlib.pyplot as plt\n",
    "\n",
    "plt.plot(h_cnn_gru.history['binary_accuracy'], label='(training data)',color='blue')\n",
    "plt.plot(h_cnn_gru.history['val_binary_accuracy'], label='(val data)',color='green')\n",
    "plt.title('Neural Network accuracy')\n",
    "plt.ylabel('value')\n",
    "plt.xlabel('No. epoch')\n",
    "plt.show()"
   ]
  },
  {
   "cell_type": "code",
   "execution_count": null,
   "metadata": {},
   "outputs": [],
   "source": [
    "results = model_cnn_gru.evaluate(X_test_bert, y_test, batch_size=32)\n",
    "print(\"Simple cnn+gru test loss, test acc:\", results)"
   ]
  }
 ],
 "metadata": {
  "kernelspec": {
   "display_name": "Python 3.9.5 ('nlp')",
   "language": "python",
   "name": "python3"
  },
  "language_info": {
   "codemirror_mode": {
    "name": "ipython",
    "version": 3
   },
   "file_extension": ".py",
   "mimetype": "text/x-python",
   "name": "python",
   "nbconvert_exporter": "python",
   "pygments_lexer": "ipython3",
   "version": "3.9.5"
  },
  "vscode": {
   "interpreter": {
    "hash": "4650b2ab9af1b5111f53599d1b6662800e1e795f0a404b209a1518c877a28bdd"
   }
  }
 },
 "nbformat": 4,
 "nbformat_minor": 2
}
