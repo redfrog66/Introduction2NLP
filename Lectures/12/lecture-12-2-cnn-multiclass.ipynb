{
 "cells": [
  {
   "cell_type": "code",
   "execution_count": 1,
   "metadata": {},
   "outputs": [
    {
     "name": "stdout",
     "output_type": "stream",
     "text": [
      "<class 'pandas.core.frame.DataFrame'>\n",
      "RangeIndex: 4560 entries, 0 to 4559\n",
      "Data columns (total 3 columns):\n",
      " #   Column      Non-Null Count  Dtype \n",
      "---  ------      --------------  ----- \n",
      " 0   text        4560 non-null   object\n",
      " 1   label       4560 non-null   int64 \n",
      " 2   label_name  4560 non-null   object\n",
      "dtypes: int64(1), object(2)\n",
      "memory usage: 107.0+ KB\n"
     ]
    },
    {
     "data": {
      "text/html": [
       "<div>\n",
       "<style scoped>\n",
       "    .dataframe tbody tr th:only-of-type {\n",
       "        vertical-align: middle;\n",
       "    }\n",
       "\n",
       "    .dataframe tbody tr th {\n",
       "        vertical-align: top;\n",
       "    }\n",
       "\n",
       "    .dataframe thead th {\n",
       "        text-align: right;\n",
       "    }\n",
       "</style>\n",
       "<table border=\"1\" class=\"dataframe\">\n",
       "  <thead>\n",
       "    <tr style=\"text-align: right;\">\n",
       "      <th></th>\n",
       "      <th>text</th>\n",
       "      <th>label</th>\n",
       "      <th>label_name</th>\n",
       "    </tr>\n",
       "  </thead>\n",
       "  <tbody>\n",
       "    <tr>\n",
       "      <th>0</th>\n",
       "      <td>The Organization of the Petroleum Exporting Co...</td>\n",
       "      <td>0</td>\n",
       "      <td>Business</td>\n",
       "    </tr>\n",
       "    <tr>\n",
       "      <th>1</th>\n",
       "      <td>American business tycoon Malcolm Glazer has in...</td>\n",
       "      <td>2</td>\n",
       "      <td>Sports</td>\n",
       "    </tr>\n",
       "    <tr>\n",
       "      <th>2</th>\n",
       "      <td>NEW YORK (Reuters) - International Business Ma...</td>\n",
       "      <td>1</td>\n",
       "      <td>SciTech</td>\n",
       "    </tr>\n",
       "    <tr>\n",
       "      <th>3</th>\n",
       "      <td>Unilever, the world #39;s largest maker of foo...</td>\n",
       "      <td>0</td>\n",
       "      <td>Business</td>\n",
       "    </tr>\n",
       "    <tr>\n",
       "      <th>4</th>\n",
       "      <td>Australia #39;s Nathan Baggaley was over the m...</td>\n",
       "      <td>2</td>\n",
       "      <td>Sports</td>\n",
       "    </tr>\n",
       "  </tbody>\n",
       "</table>\n",
       "</div>"
      ],
      "text/plain": [
       "                                                text  label label_name\n",
       "0  The Organization of the Petroleum Exporting Co...      0   Business\n",
       "1  American business tycoon Malcolm Glazer has in...      2     Sports\n",
       "2  NEW YORK (Reuters) - International Business Ma...      1    SciTech\n",
       "3  Unilever, the world #39;s largest maker of foo...      0   Business\n",
       "4  Australia #39;s Nathan Baggaley was over the m...      2     Sports"
      ]
     },
     "execution_count": 1,
     "metadata": {},
     "output_type": "execute_result"
    },
    {
     "data": {
      "image/png": "[encoded data removed]",
      "text/plain": [
       "<Figure size 432x288 with 1 Axes>"
      ]
     },
     "metadata": {
      "needs_background": "light"
     },
     "output_type": "display_data"
    }
   ],
   "source": [
    "import pandas as pd\n",
    "\n",
    "df_train = pd.read_json(\"../data/news_train.json\", orient='records')\n",
    "df_train.info()\n",
    "df_train.hist()\n",
    "df_train.head()"
   ]
  },
  {
   "cell_type": "code",
   "execution_count": 2,
   "metadata": {},
   "outputs": [
    {
     "name": "stdout",
     "output_type": "stream",
     "text": [
      "<class 'pandas.core.frame.DataFrame'>\n",
      "RangeIndex: 1520 entries, 0 to 1519\n",
      "Data columns (total 3 columns):\n",
      " #   Column      Non-Null Count  Dtype \n",
      "---  ------      --------------  ----- \n",
      " 0   text        1520 non-null   object\n",
      " 1   label       1520 non-null   int64 \n",
      " 2   label_name  1520 non-null   object\n",
      "dtypes: int64(1), object(2)\n",
      "memory usage: 35.8+ KB\n"
     ]
    },
    {
     "data": {
      "text/html": [
       "<div>\n",
       "<style scoped>\n",
       "    .dataframe tbody tr th:only-of-type {\n",
       "        vertical-align: middle;\n",
       "    }\n",
       "\n",
       "    .dataframe tbody tr th {\n",
       "        vertical-align: top;\n",
       "    }\n",
       "\n",
       "    .dataframe thead th {\n",
       "        text-align: right;\n",
       "    }\n",
       "</style>\n",
       "<table border=\"1\" class=\"dataframe\">\n",
       "  <thead>\n",
       "    <tr style=\"text-align: right;\">\n",
       "      <th></th>\n",
       "      <th>text</th>\n",
       "      <th>label</th>\n",
       "      <th>label_name</th>\n",
       "    </tr>\n",
       "  </thead>\n",
       "  <tbody>\n",
       "    <tr>\n",
       "      <th>0</th>\n",
       "      <td>While rivals scramble to catch up on the deskt...</td>\n",
       "      <td>1</td>\n",
       "      <td>SciTech</td>\n",
       "    </tr>\n",
       "    <tr>\n",
       "      <th>1</th>\n",
       "      <td>AP - UCLA soccer coach Jillian Ellis was happy...</td>\n",
       "      <td>2</td>\n",
       "      <td>Sports</td>\n",
       "    </tr>\n",
       "    <tr>\n",
       "      <th>2</th>\n",
       "      <td>PCI Express allows Nvidia to tap into system m...</td>\n",
       "      <td>1</td>\n",
       "      <td>SciTech</td>\n",
       "    </tr>\n",
       "    <tr>\n",
       "      <th>3</th>\n",
       "      <td>AP - The Federal Election Commission on Thursd...</td>\n",
       "      <td>3</td>\n",
       "      <td>World</td>\n",
       "    </tr>\n",
       "    <tr>\n",
       "      <th>4</th>\n",
       "      <td>City officials hope there are people willing t...</td>\n",
       "      <td>1</td>\n",
       "      <td>SciTech</td>\n",
       "    </tr>\n",
       "  </tbody>\n",
       "</table>\n",
       "</div>"
      ],
      "text/plain": [
       "                                                text  label label_name\n",
       "0  While rivals scramble to catch up on the deskt...      1    SciTech\n",
       "1  AP - UCLA soccer coach Jillian Ellis was happy...      2     Sports\n",
       "2  PCI Express allows Nvidia to tap into system m...      1    SciTech\n",
       "3  AP - The Federal Election Commission on Thursd...      3      World\n",
       "4  City officials hope there are people willing t...      1    SciTech"
      ]
     },
     "execution_count": 2,
     "metadata": {},
     "output_type": "execute_result"
    },
    {
     "data": {
      "image/png": "[encoded data removed]",
      "text/plain": [
       "<Figure size 432x288 with 1 Axes>"
      ]
     },
     "metadata": {
      "needs_background": "light"
     },
     "output_type": "display_data"
    }
   ],
   "source": [
    "df_test = pd.read_json(\"../data/news_test.json\", orient='records')\n",
    "df_test.info()\n",
    "df_test.hist()\n",
    "df_test.head()"
   ]
  },
  {
   "cell_type": "code",
   "execution_count": 3,
   "metadata": {},
   "outputs": [
    {
     "name": "stdout",
     "output_type": "stream",
     "text": [
      "<class 'pandas.core.frame.DataFrame'>\n",
      "RangeIndex: 1520 entries, 0 to 1519\n",
      "Data columns (total 3 columns):\n",
      " #   Column      Non-Null Count  Dtype \n",
      "---  ------      --------------  ----- \n",
      " 0   text        1520 non-null   object\n",
      " 1   label       1520 non-null   int64 \n",
      " 2   label_name  1520 non-null   object\n",
      "dtypes: int64(1), object(2)\n",
      "memory usage: 35.8+ KB\n"
     ]
    },
    {
     "data": {
      "text/html": [
       "<div>\n",
       "<style scoped>\n",
       "    .dataframe tbody tr th:only-of-type {\n",
       "        vertical-align: middle;\n",
       "    }\n",
       "\n",
       "    .dataframe tbody tr th {\n",
       "        vertical-align: top;\n",
       "    }\n",
       "\n",
       "    .dataframe thead th {\n",
       "        text-align: right;\n",
       "    }\n",
       "</style>\n",
       "<table border=\"1\" class=\"dataframe\">\n",
       "  <thead>\n",
       "    <tr style=\"text-align: right;\">\n",
       "      <th></th>\n",
       "      <th>text</th>\n",
       "      <th>label</th>\n",
       "      <th>label_name</th>\n",
       "    </tr>\n",
       "  </thead>\n",
       "  <tbody>\n",
       "    <tr>\n",
       "      <th>0</th>\n",
       "      <td>The first hearing in the re-trial of former le...</td>\n",
       "      <td>3</td>\n",
       "      <td>World</td>\n",
       "    </tr>\n",
       "    <tr>\n",
       "      <th>1</th>\n",
       "      <td>Intel #39;s board has given the go ahead for t...</td>\n",
       "      <td>0</td>\n",
       "      <td>Business</td>\n",
       "    </tr>\n",
       "    <tr>\n",
       "      <th>2</th>\n",
       "      <td>Stocks closed higher on Wall Street as investo...</td>\n",
       "      <td>0</td>\n",
       "      <td>Business</td>\n",
       "    </tr>\n",
       "    <tr>\n",
       "      <th>3</th>\n",
       "      <td>Even with a boost from higher oil prices and g...</td>\n",
       "      <td>0</td>\n",
       "      <td>Business</td>\n",
       "    </tr>\n",
       "    <tr>\n",
       "      <th>4</th>\n",
       "      <td>Vornado Realty Trust said on Friday it has acq...</td>\n",
       "      <td>0</td>\n",
       "      <td>Business</td>\n",
       "    </tr>\n",
       "  </tbody>\n",
       "</table>\n",
       "</div>"
      ],
      "text/plain": [
       "                                                text  label label_name\n",
       "0  The first hearing in the re-trial of former le...      3      World\n",
       "1  Intel #39;s board has given the go ahead for t...      0   Business\n",
       "2  Stocks closed higher on Wall Street as investo...      0   Business\n",
       "3  Even with a boost from higher oil prices and g...      0   Business\n",
       "4  Vornado Realty Trust said on Friday it has acq...      0   Business"
      ]
     },
     "execution_count": 3,
     "metadata": {},
     "output_type": "execute_result"
    },
    {
     "data": {
      "image/png": "[encoded data removed]",
      "text/plain": [
       "<Figure size 432x288 with 1 Axes>"
      ]
     },
     "metadata": {
      "needs_background": "light"
     },
     "output_type": "display_data"
    }
   ],
   "source": [
    "df_val = pd.read_json(\"../data/news_val.json\", orient='records')\n",
    "df_val.info()\n",
    "df_val.hist()\n",
    "df_val.head()"
   ]
  },
  {
   "cell_type": "code",
   "execution_count": 4,
   "metadata": {},
   "outputs": [],
   "source": [
    "train = list(df_train[\"text\"].values)\n",
    "val = list(df_val[\"text\"].values)\n",
    "test = list(df_test[\"text\"].values)"
   ]
  },
  {
   "cell_type": "code",
   "execution_count": 5,
   "metadata": {},
   "outputs": [],
   "source": [
    "import numpy as np\n",
    "from tokenizers import BertWordPieceTokenizer\n",
    "\n",
    "tokenizer = BertWordPieceTokenizer(\"../data/bert-base-uncased-vocab.txt\",\n",
    "                                   lowercase=True)\n",
    "\n",
    "def bert_tokenizer(data):\n",
    "    result = []\n",
    "    for item in data:\n",
    "        result.append(tokenizer.encode(item).ids)\n",
    "    \n",
    "    return np.array(result, dtype=object)"
   ]
  },
  {
   "cell_type": "code",
   "execution_count": 6,
   "metadata": {},
   "outputs": [],
   "source": [
    "import tensorflow as tf\n",
    "\n",
    "maxlen = 128\n",
    "\n",
    "X_train = bert_tokenizer(train)\n",
    "X_train = tf.keras.preprocessing.sequence.pad_sequences(X_train, maxlen=maxlen)\n",
    "y_train = df_train[\"label\"].values\n",
    "\n",
    "X_val = bert_tokenizer(val)\n",
    "X_val = tf.keras.preprocessing.sequence.pad_sequences(X_val, maxlen=maxlen)\n",
    "y_val = df_val[\"label\"].values\n",
    "\n",
    "\n",
    "X_test = bert_tokenizer(test)\n",
    "X_test = tf.keras.preprocessing.sequence.pad_sequences(X_test, maxlen=maxlen)\n",
    "y_test = df_test[\"label\"].values"
   ]
  },
  {
   "cell_type": "code",
   "execution_count": 7,
   "metadata": {},
   "outputs": [
    {
     "name": "stdout",
     "output_type": "stream",
     "text": [
      "Model: \"sequential\"\n",
      "_________________________________________________________________\n",
      "Layer (type)                 Output Shape              Param #   \n",
      "=================================================================\n",
      "embedding (Embedding)        (None, 128, 32)           976736    \n",
      "_________________________________________________________________\n",
      "conv1d (Conv1D)              (None, 122, 32)           7200      \n",
      "_________________________________________________________________\n",
      "max_pooling1d (MaxPooling1D) (None, 24, 32)            0         \n",
      "_________________________________________________________________\n",
      "conv1d_1 (Conv1D)            (None, 18, 32)            7200      \n",
      "_________________________________________________________________\n",
      "global_max_pooling1d (Global (None, 32)                0         \n",
      "_________________________________________________________________\n",
      "dense (Dense)                (None, 4)                 132       \n",
      "=================================================================\n",
      "Total params: 991,268\n",
      "Trainable params: 991,268\n",
      "Non-trainable params: 0\n",
      "_________________________________________________________________\n"
     ]
    }
   ],
   "source": [
    "import tensorflow as tf\n",
    "\n",
    "emb_size = 32\n",
    "max_features = 30523 # vocab size\n",
    "\n",
    "model_cnn = tf.keras.Sequential([\n",
    "    tf.keras.layers.Embedding(max_features, emb_size, input_length=maxlen),\n",
    "    tf.keras.layers.Conv1D(32, 7, activation='relu'),\n",
    "    tf.keras.layers.MaxPooling1D(5),\n",
    "    tf.keras.layers.Conv1D(32, 7, activation='relu'),\n",
    "    tf.keras.layers.GlobalMaxPooling1D(),\n",
    "    tf.keras.layers.Dense(units=4, activation='softmax')\n",
    "]) \n",
    "\n",
    "model_cnn.compile(optimizer='adam',\n",
    "                  loss=\"sparse_categorical_crossentropy\",\n",
    "                  metrics=['accuracy'])\n",
    "\n",
    "model_cnn.summary()"
   ]
  },
  {
   "cell_type": "code",
   "execution_count": 8,
   "metadata": {},
   "outputs": [
    {
     "name": "stdout",
     "output_type": "stream",
     "text": [
      "Epoch 1/5\n",
      "143/143 [==============================] - 2s 12ms/step - loss: 1.3761 - accuracy: 0.2840 - val_loss: 1.1130 - val_accuracy: 0.5954\n",
      "Epoch 2/5\n",
      "143/143 [==============================] - 1s 8ms/step - loss: 0.7701 - accuracy: 0.7498 - val_loss: 0.4715 - val_accuracy: 0.8368\n",
      "Epoch 3/5\n",
      "143/143 [==============================] - 1s 9ms/step - loss: 0.1780 - accuracy: 0.9543 - val_loss: 0.4421 - val_accuracy: 0.8408\n",
      "Epoch 4/5\n",
      "143/143 [==============================] - 1s 9ms/step - loss: 0.0439 - accuracy: 0.9917 - val_loss: 0.4881 - val_accuracy: 0.8349\n",
      "Epoch 5/5\n",
      "143/143 [==============================] - 1s 8ms/step - loss: 0.0123 - accuracy: 0.9992 - val_loss: 0.5152 - val_accuracy: 0.8322\n"
     ]
    }
   ],
   "source": [
    "callback = tf.keras.callbacks.EarlyStopping(monitor='val_accuracy', patience=2)\n",
    "\n",
    "h_cnn = model_cnn.fit(X_train, \n",
    "                      y_train,\n",
    "                      epochs=5,\n",
    "                      batch_size=32,\n",
    "                      callbacks=[callback],\n",
    "                      validation_data=(X_val, y_val))"
   ]
  },
  {
   "cell_type": "code",
   "execution_count": 9,
   "metadata": {},
   "outputs": [
    {
     "data": {
      "image/png": "[encoded data removed]",
      "text/plain": [
       "<Figure size 432x288 with 1 Axes>"
      ]
     },
     "metadata": {
      "needs_background": "light"
     },
     "output_type": "display_data"
    }
   ],
   "source": [
    "import matplotlib.pyplot as plt\n",
    "\n",
    "plt.plot(h_cnn.history['loss'], label='(training data)',color='blue')\n",
    "plt.plot(h_cnn.history['val_loss'], label='(val data)',color='green')\n",
    "plt.title('Neural Network loss')\n",
    "plt.ylabel('value')\n",
    "plt.xlabel('No. epoch')\n",
    "plt.show()"
   ]
  },
  {
   "cell_type": "code",
   "execution_count": 10,
   "metadata": {},
   "outputs": [
    {
     "data": {
      "image/png": "[encoded data removed]",
      "text/plain": [
       "<Figure size 432x288 with 1 Axes>"
      ]
     },
     "metadata": {
      "needs_background": "light"
     },
     "output_type": "display_data"
    }
   ],
   "source": [
    "import matplotlib.pyplot as plt\n",
    "\n",
    "plt.plot(h_cnn.history['accuracy'], label='(training data)',color='blue')\n",
    "plt.plot(h_cnn.history['val_accuracy'], label='(val data)',color='green')\n",
    "plt.title('Neural Network accuracy')\n",
    "plt.ylabel('value')\n",
    "plt.xlabel('No. epoch')\n",
    "plt.show()"
   ]
  },
  {
   "cell_type": "code",
   "execution_count": 11,
   "metadata": {},
   "outputs": [
    {
     "name": "stdout",
     "output_type": "stream",
     "text": [
      "48/48 [==============================] - 0s 2ms/step - loss: 0.5522 - accuracy: 0.8230\n",
      "Simple cnn test loss, test acc: [0.552157461643219, 0.8230262994766235]\n"
     ]
    }
   ],
   "source": [
    "results = model_cnn.evaluate(X_test, y_test, batch_size=32)\n",
    "print(\"Simple cnn test loss, test acc:\", results)"
   ]
  },
  {
   "cell_type": "code",
   "execution_count": 12,
   "metadata": {},
   "outputs": [
    {
     "data": {
      "text/plain": [
       "830"
      ]
     },
     "execution_count": 12,
     "metadata": {},
     "output_type": "execute_result"
    }
   ],
   "source": [
    "total_len = max([len(item) for item in train])\n",
    "total_len"
   ]
  },
  {
   "cell_type": "code",
   "execution_count": 13,
   "metadata": {},
   "outputs": [],
   "source": [
    "X_train = bert_tokenizer(train)\n",
    "X_train = tf.keras.preprocessing.sequence.pad_sequences(X_train, maxlen=total_len)\n",
    "\n",
    "X_val = bert_tokenizer(val)\n",
    "X_val = tf.keras.preprocessing.sequence.pad_sequences(X_val, maxlen=total_len)\n",
    "\n",
    "X_test = bert_tokenizer(test)\n",
    "X_test = tf.keras.preprocessing.sequence.pad_sequences(X_test, maxlen=total_len)"
   ]
  },
  {
   "cell_type": "code",
   "execution_count": 14,
   "metadata": {},
   "outputs": [
    {
     "name": "stdout",
     "output_type": "stream",
     "text": [
      "Model: \"sequential_1\"\n",
      "_________________________________________________________________\n",
      "Layer (type)                 Output Shape              Param #   \n",
      "=================================================================\n",
      "embedding_1 (Embedding)      (None, 830, 32)           976768    \n",
      "_________________________________________________________________\n",
      "conv1d_2 (Conv1D)            (None, 824, 32)           7200      \n",
      "_________________________________________________________________\n",
      "gru (GRU)                    (None, 32)                6336      \n",
      "_________________________________________________________________\n",
      "flatten (Flatten)            (None, 32)                0         \n",
      "_________________________________________________________________\n",
      "dense_1 (Dense)              (None, 4)                 132       \n",
      "=================================================================\n",
      "Total params: 990,436\n",
      "Trainable params: 990,436\n",
      "Non-trainable params: 0\n",
      "_________________________________________________________________\n"
     ]
    }
   ],
   "source": [
    "import tensorflow as tf\n",
    "\n",
    "emb_size = 32\n",
    "max_features = 30524 # vocab size\n",
    "\n",
    "model_cnn_gru = tf.keras.Sequential([\n",
    "    tf.keras.layers.Embedding(max_features, emb_size, input_length=total_len),\n",
    "    tf.keras.layers.Conv1D(32, 7, activation='relu'),\n",
    "    tf.keras.layers.GRU(32),\n",
    "    tf.keras.layers.Flatten(),\n",
    "    tf.keras.layers.Dense(units=4, activation='softmax')\n",
    "]) \n",
    "\n",
    "model_cnn_gru.compile(optimizer='adam',\n",
    "                      loss=\"sparse_categorical_crossentropy\",\n",
    "                      metrics=['accuracy'])\n",
    "\n",
    "model_cnn_gru.summary()"
   ]
  },
  {
   "cell_type": "code",
   "execution_count": 15,
   "metadata": {},
   "outputs": [
    {
     "name": "stdout",
     "output_type": "stream",
     "text": [
      "Epoch 1/5\n",
      "143/143 [==============================] - 60s 404ms/step - loss: 1.3629 - accuracy: 0.2814 - val_loss: 0.9378 - val_accuracy: 0.5724\n",
      "Epoch 2/5\n",
      "143/143 [==============================] - 55s 385ms/step - loss: 0.6610 - accuracy: 0.7599 - val_loss: 0.6833 - val_accuracy: 0.7243\n",
      "Epoch 3/5\n",
      "143/143 [==============================] - 55s 386ms/step - loss: 0.2040 - accuracy: 0.9334 - val_loss: 0.7003 - val_accuracy: 0.7566\n",
      "Epoch 4/5\n",
      "143/143 [==============================] - 55s 383ms/step - loss: 0.0656 - accuracy: 0.9808 - val_loss: 0.7848 - val_accuracy: 0.7533\n",
      "Epoch 5/5\n",
      "143/143 [==============================] - 54s 380ms/step - loss: 0.0240 - accuracy: 0.9945 - val_loss: 0.8930 - val_accuracy: 0.7474\n"
     ]
    }
   ],
   "source": [
    "callback = tf.keras.callbacks.EarlyStopping(monitor='val_accuracy', patience=2)\n",
    "\n",
    "h_cnn_gru = model_cnn_gru.fit(X_train, \n",
    "                              y_train,\n",
    "                              epochs=5,\n",
    "                              batch_size=32,\n",
    "                              callbacks=[callback],\n",
    "                              validation_data=(X_val, y_val))"
   ]
  },
  {
   "cell_type": "code",
   "execution_count": 16,
   "metadata": {},
   "outputs": [
    {
     "name": "stdout",
     "output_type": "stream",
     "text": [
      "48/48 [==============================] - 2s 38ms/step - loss: 0.9768 - accuracy: 0.7336\n",
      "Simple cnn+gru test loss, test acc: [0.9767946004867554, 0.7335526347160339]\n"
     ]
    }
   ],
   "source": [
    "results = model_cnn_gru.evaluate(X_test, y_test, batch_size=32)\n",
    "print(\"Simple cnn+gru test loss, test acc:\", results)"
   ]
  },
  {
   "cell_type": "code",
   "execution_count": null,
   "metadata": {},
   "outputs": [],
   "source": []
  }
 ],
 "metadata": {
  "kernelspec": {
   "display_name": "py37_tensorflow",
   "language": "python",
   "name": "py37_tensorflow"
  },
  "language_info": {
   "codemirror_mode": {
    "name": "ipython",
    "version": 3
   },
   "file_extension": ".py",
   "mimetype": "text/x-python",
   "name": "python",
   "nbconvert_exporter": "python",
   "pygments_lexer": "ipython3",
   "version": "3.7.9"
  }
 },
 "nbformat": 4,
 "nbformat_minor": 2
}
