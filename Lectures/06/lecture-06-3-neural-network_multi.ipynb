{
 "cells": [
  {
   "cell_type": "markdown",
   "metadata": {},
   "source": [
    "# Neural Network - multiclass classification"
   ]
  },
  {
   "cell_type": "markdown",
   "metadata": {},
   "source": [
    "## Read the data"
   ]
  },
  {
   "cell_type": "code",
   "execution_count": null,
   "metadata": {},
   "outputs": [],
   "source": [
    "import pandas as pd\n",
    "\n",
    "df_train = pd.read_json(\"../data/news_train.json\", orient=\"records\")\n",
    "df_train.info()\n",
    "df_train.hist()\n",
    "df_train.head()"
   ]
  },
  {
   "cell_type": "code",
   "execution_count": null,
   "metadata": {},
   "outputs": [],
   "source": [
    "df_val = pd.read_json(\"../data/news_val.json\", orient=\"records\")\n",
    "df_val.info()\n",
    "df_val.hist()\n",
    "df_val.head()"
   ]
  },
  {
   "cell_type": "code",
   "execution_count": null,
   "metadata": {},
   "outputs": [],
   "source": [
    "df_test = pd.read_json(\"../data/news_test.json\", orient=\"records\")\n",
    "df_test.info()\n",
    "df_test.hist()\n",
    "df_test.head()"
   ]
  },
  {
   "cell_type": "markdown",
   "metadata": {},
   "source": [
    "## Preprocessing data"
   ]
  },
  {
   "cell_type": "code",
   "execution_count": null,
   "metadata": {},
   "outputs": [],
   "source": [
    "import nltk\n",
    "nltk.download('stopwords')\n",
    "nltk.download('punkt')\n",
    "\n",
    "from nltk.corpus import stopwords\n",
    "from nltk.tokenize import word_tokenize\n",
    "import string\n",
    "\n",
    "STOPWORDS = stopwords.words(\"english\")\n",
    "\n",
    "def is_html_tag(word):\n",
    "    w = word.replace(\"\\n\", \"\")\n",
    "    return w.startswith(\"<\") or w.startswith(\">\") or w.startswith(\"/\") or w.strip()[:2] == \"br\"\n",
    "\n",
    "def remove_html_tags(sentence):\n",
    "    single_spaces = \" \".join(sentence.split())\n",
    "\n",
    "    return \" \".join([token for token in single_spaces.split(\" \") if not is_html_tag(token)])\n",
    "\n",
    "def tokenize_sentence(sentence):\n",
    "    return word_tokenize(sentence.lower())\n",
    "\n",
    "def remove_stopwords(sentence):\n",
    "    return \" \".join([word for word in sentence.split(\" \") if not word in STOPWORDS])\n",
    "\n",
    "def remove_punctuation(tokenized_sentence):\n",
    "    return [word for word in tokenized_sentence if word.isalpha()]\n",
    "\n",
    "def preprocess(sentence):\n",
    "    return remove_punctuation(tokenize_sentence(remove_stopwords(remove_html_tags(str(sentence)))))\n",
    "\n",
    "print(preprocess(df_train[\"text\"].values[1]))\n"
   ]
  },
  {
   "cell_type": "code",
   "execution_count": null,
   "metadata": {},
   "outputs": [],
   "source": [
    "df_train[\"text\"] = df_train[\"text\"].apply(preprocess)\n",
    "df_train.head()"
   ]
  },
  {
   "cell_type": "code",
   "execution_count": null,
   "metadata": {},
   "outputs": [],
   "source": [
    "def build_vocab(tokenized_input, vocab_size):\n",
    "    d = dict()\n",
    "\n",
    "    for tokens in tokenized_input:\n",
    "        for token in tokens:\n",
    "            # double check\n",
    "            if token not in STOPWORDS and token.isalpha():\n",
    "                d[token] = d.get(token, 0) + 1\n",
    "\n",
    "    del d[\"br\"]\n",
    "\n",
    "    return {k for k, v in sorted(d.items(), key=lambda item: item[1], reverse=True)[:vocab_size]}"
   ]
  },
  {
   "cell_type": "code",
   "execution_count": null,
   "metadata": {},
   "outputs": [],
   "source": [
    "VOCAB_SIZE = 10000\n",
    "VOCAB = build_vocab(df_train[\"text\"].values, VOCAB_SIZE) # (!) Always build the vocabulary on the TRAIN dataset"
   ]
  },
  {
   "cell_type": "code",
   "execution_count": null,
   "metadata": {},
   "outputs": [],
   "source": [
    "len(VOCAB)"
   ]
  },
  {
   "cell_type": "code",
   "execution_count": null,
   "metadata": {},
   "outputs": [],
   "source": [
    "LABELS = df_train[\"label\"].unique()\n",
    "LABELS"
   ]
  },
  {
   "cell_type": "code",
   "execution_count": null,
   "metadata": {},
   "outputs": [],
   "source": [
    "LABELS_TO_NAMES = {label: df_train[df_train[\"label\"] == label].iloc[0][\"label_name\"] for label in LABELS}\n",
    "LABELS_TO_NAMES"
   ]
  },
  {
   "cell_type": "code",
   "execution_count": null,
   "metadata": {},
   "outputs": [],
   "source": [
    "def get_frequencies_for_labels(df):\n",
    "    dict_freqs = {label: {} for label in LABELS}\n",
    "\n",
    "    for idx in range(df.shape[0]):\n",
    "        tokens = df.iloc[idx, 0]\n",
    "        label = df.iloc[idx, 1]\n",
    "        \n",
    "        for token in tokens:\n",
    "            if token in VOCAB:\n",
    "                dict_freqs[label][token] = dict_freqs[label].get(token, 0) + 1\n",
    "            \n",
    "\n",
    "    return dict_freqs"
   ]
  },
  {
   "cell_type": "code",
   "execution_count": null,
   "metadata": {},
   "outputs": [],
   "source": [
    "frequency_table = get_frequencies_for_labels(df_train)\n",
    "frequency_table[0][\"money\"]"
   ]
  },
  {
   "cell_type": "code",
   "execution_count": null,
   "metadata": {},
   "outputs": [],
   "source": [
    "import numpy as np\n",
    "\n",
    "def extract_features(frequency_table, tweet_tokens):\n",
    "    label_frequencies = {label: 0 for label in LABELS}\n",
    "\n",
    "    for t in tweet_tokens:\n",
    "        for label in LABELS:\n",
    "            label_frequencies[label] += frequency_table[label].get(t, 0)\n",
    "    \n",
    "    return pd.Series(label_frequencies)"
   ]
  },
  {
   "cell_type": "code",
   "execution_count": null,
   "metadata": {},
   "outputs": [],
   "source": [
    "X_train = df_train[\"text\"].apply(lambda tokens: extract_features(frequency_table, tokens))\n",
    "X_train"
   ]
  },
  {
   "cell_type": "code",
   "execution_count": null,
   "metadata": {},
   "outputs": [],
   "source": [
    "y_train = df_train[\"label\"].values\n",
    "y_train"
   ]
  },
  {
   "cell_type": "code",
   "execution_count": null,
   "metadata": {},
   "outputs": [],
   "source": [
    "X_val = df_val[\"text\"].apply(preprocess)\n",
    "X_val = df_val[\"text\"].apply(lambda tokens: extract_features(frequency_table, tokens))\n",
    "y_val = df_val[\"label\"].values\n",
    "X_val"
   ]
  },
  {
   "cell_type": "markdown",
   "metadata": {},
   "source": [
    "## Create model and train / validate"
   ]
  },
  {
   "cell_type": "code",
   "execution_count": null,
   "metadata": {},
   "outputs": [],
   "source": [
    "import tensorflow as tf\n",
    "\n",
    "model = tf.keras.Sequential([\n",
    "    tf.keras.layers.Input(shape=(4,)),\n",
    "    tf.keras.layers.Dense(128),\n",
    "    tf.keras.layers.Dense(64),\n",
    "    tf.keras.layers.Dense(units=4, activation='softmax')\n",
    "])\n",
    "\n",
    "model.compile(optimizer='adam',\n",
    "              loss=\"sparse_categorical_crossentropy\",\n",
    "              metrics=['accuracy'])\n",
    "              \n",
    "model.summary()"
   ]
  },
  {
   "cell_type": "code",
   "execution_count": null,
   "metadata": {},
   "outputs": [],
   "source": [
    "h = model.fit(X_train,\n",
    "              y_train,\n",
    "              epochs=10,\n",
    "              batch_size=32,\n",
    "              validation_data=(X_val, y_val))"
   ]
  },
  {
   "cell_type": "code",
   "execution_count": null,
   "metadata": {},
   "outputs": [],
   "source": [
    "import matplotlib.pyplot as plt\n",
    "\n",
    "plt.plot(h.history['loss'], label='(training data)',color='blue')\n",
    "plt.plot(h.history['val_loss'], label='(validation data)',color='green')\n",
    "plt.title('Neural Network training loss')\n",
    "plt.ylabel('value')\n",
    "plt.xlabel('No. epoch')\n",
    "plt.show()"
   ]
  },
  {
   "cell_type": "code",
   "execution_count": null,
   "metadata": {},
   "outputs": [],
   "source": [
    "import matplotlib.pyplot as plt\n",
    "\n",
    "plt.plot(h.history['accuracy'], label='(training data)',color='blue')\n",
    "plt.plot(h.history['val_accuracy'], label='(validation data)',color='green')\n",
    "plt.title('Neural Network training accuracy')\n",
    "plt.ylabel('value')\n",
    "plt.xlabel('No. epoch')\n",
    "plt.show()"
   ]
  },
  {
   "cell_type": "markdown",
   "metadata": {},
   "source": [
    "## Evaluate the trained model"
   ]
  },
  {
   "cell_type": "code",
   "execution_count": null,
   "metadata": {},
   "outputs": [],
   "source": [
    "X_test = df_test[\"text\"].apply(preprocess)\n",
    "X_test = df_test[\"text\"].apply(lambda tokens: extract_features(frequency_table, tokens))\n",
    "y_test = df_test[\"label\"].values\n",
    "X_test"
   ]
  },
  {
   "cell_type": "code",
   "execution_count": null,
   "metadata": {},
   "outputs": [],
   "source": [
    "results = model.evaluate(X_test, y_test, batch_size=50)\n",
    "print(\"test loss, test acc:\", results)"
   ]
  },
  {
   "cell_type": "code",
   "execution_count": null,
   "metadata": {},
   "outputs": [],
   "source": [
    "df_test_raw = pd.read_json(\"../data/news_test.json\", orient=\"records\")"
   ]
  },
  {
   "cell_type": "code",
   "execution_count": null,
   "metadata": {},
   "outputs": [],
   "source": [
    "predictions = np.round(model.predict(X_test[:100]))\n",
    "for i in range(len(predictions)):\n",
    "    print(df_test_raw[\"text\"].values[i][:100],\"...\")\n",
    "    print(\"Pred: \", predictions[i], \"Real: \", y_test[i])"
   ]
  },
  {
   "cell_type": "code",
   "execution_count": null,
   "metadata": {},
   "outputs": [],
   "source": []
  }
 ],
 "metadata": {
  "kernelspec": {
   "display_name": "Python 3.8.8 ('base')",
   "language": "python",
   "name": "python3"
  },
  "language_info": {
   "codemirror_mode": {
    "name": "ipython",
    "version": 3
   },
   "file_extension": ".py",
   "mimetype": "text/x-python",
   "name": "python",
   "nbconvert_exporter": "python",
   "pygments_lexer": "ipython3",
   "version": "3.8.8"
  },
  "orig_nbformat": 2,
  "vscode": {
   "interpreter": {
    "hash": "c8c616b7454c0b71fee22f703786f28cf41ded383f4abc5366b9ef901af36618"
   }
  }
 },
 "nbformat": 4,
 "nbformat_minor": 2
}
