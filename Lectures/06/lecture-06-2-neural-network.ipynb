{
 "cells": [
  {
   "cell_type": "markdown",
   "metadata": {},
   "source": [
    "# Neural Network"
   ]
  },
  {
   "cell_type": "markdown",
   "metadata": {},
   "source": [
    "## Read data"
   ]
  },
  {
   "cell_type": "code",
   "execution_count": null,
   "metadata": {},
   "outputs": [],
   "source": [
    "import pandas as pd\n",
    "\n",
    "df_train = pd.read_json(\"../data/aclIMDB_train.json\", orient=\"records\")\n",
    "df_train.info()\n",
    "df_train.hist()\n",
    "df_train.head()"
   ]
  },
  {
   "cell_type": "code",
   "execution_count": null,
   "metadata": {},
   "outputs": [],
   "source": [
    "df_val = pd.read_json(\"../data/aclIMDB_val.json\", orient=\"records\")\n",
    "df_val.info()\n",
    "df_val.hist()\n",
    "df_val.head()"
   ]
  },
  {
   "cell_type": "code",
   "execution_count": null,
   "metadata": {},
   "outputs": [],
   "source": [
    "df_test = pd.read_json(\"../data/aclIMDB_test.json\", orient=\"records\")\n",
    "df_test.info()\n",
    "df_test.hist()\n",
    "df_test.head()"
   ]
  },
  {
   "cell_type": "markdown",
   "metadata": {},
   "source": [
    "## Preprocessing"
   ]
  },
  {
   "cell_type": "code",
   "execution_count": null,
   "metadata": {},
   "outputs": [],
   "source": [
    "# !pip install nltk"
   ]
  },
  {
   "cell_type": "code",
   "execution_count": null,
   "metadata": {},
   "outputs": [],
   "source": [
    "import nltk\n",
    "from nltk.corpus import stopwords\n",
    "from nltk.tokenize import word_tokenize\n",
    "import string\n",
    "\n",
    "STOPWORDS = stopwords.words(\"english\")\n",
    "\n",
    "def is_html_tag(word):\n",
    "    w = word.replace(\"\\n\", \"\")\n",
    "    return w.startswith(\"<\") or w.startswith(\">\") or w.startswith(\"/\") or w.strip()[:2] == \"br\"\n",
    "\n",
    "def remove_html_tags(sentence):\n",
    "    single_spaces = \" \".join(sentence.split())\n",
    "\n",
    "    return \" \".join([token for token in single_spaces.split(\" \") if not is_html_tag(token)])\n",
    "\n",
    "def tokenize_sentence(sentence):\n",
    "    return word_tokenize(sentence.lower())\n",
    "\n",
    "def remove_stopwords(sentence):\n",
    "    return \" \".join([word for word in sentence.split(\" \") if not word in STOPWORDS])\n",
    "\n",
    "def remove_punctuation(tokenized_sentence):\n",
    "    return [word for word in tokenized_sentence if word.isalpha()]\n",
    "\n",
    "def preprocess(sentence):\n",
    "    return remove_punctuation(tokenize_sentence(remove_stopwords(remove_html_tags(str(sentence)))))\n",
    "\n",
    "print(preprocess(df_train[\"text\"].values[1]))\n"
   ]
  },
  {
   "cell_type": "code",
   "execution_count": null,
   "metadata": {},
   "outputs": [],
   "source": [
    "def sentiment(value):\n",
    "    if(value == 1):\n",
    "        return \"positive\"\n",
    "    else:\n",
    "        return \"negative\"\n",
    "\n",
    "df_train[\"sentiment\"] = [None] * len(df_train)\n",
    "df_train[\"sentiment\"] = df_train[\"label\"].apply(sentiment)\n",
    "df_val[\"sentiment\"] = [None] * len(df_test)\n",
    "df_val[\"sentiment\"] = df_val[\"label\"].apply(sentiment)\n",
    "df_test[\"sentiment\"] = [None] * len(df_test)\n",
    "df_test[\"sentiment\"] = df_test[\"label\"].apply(sentiment)"
   ]
  },
  {
   "cell_type": "code",
   "execution_count": null,
   "metadata": {},
   "outputs": [],
   "source": [
    "df_train[\"text\"] = df_train[\"text\"].apply(preprocess)\n",
    "df_train.head()"
   ]
  },
  {
   "cell_type": "code",
   "execution_count": null,
   "metadata": {},
   "outputs": [],
   "source": [
    "def build_vocab(tokenized_input, vocab_size):\n",
    "    d = dict()\n",
    "\n",
    "    for tokens in tokenized_input:\n",
    "        for token in tokens:\n",
    "            # double check\n",
    "            if token not in STOPWORDS and token.isalpha():\n",
    "                d[token] = d.get(token, 0) + 1\n",
    "\n",
    "    del d[\"br\"]\n",
    "\n",
    "    return {k for k, v in sorted(d.items(), key=lambda item: item[1], reverse=True)[:vocab_size]}"
   ]
  },
  {
   "cell_type": "code",
   "execution_count": null,
   "metadata": {},
   "outputs": [],
   "source": [
    "VOCAB_SIZE = 10000\n",
    "VOCAB = build_vocab(df_train[\"text\"].values, VOCAB_SIZE) # (!) Always build the vocabulary on the TRAIN dataset"
   ]
  },
  {
   "cell_type": "code",
   "execution_count": null,
   "metadata": {},
   "outputs": [],
   "source": [
    "def get_frequencies_for_sentiment(df):\n",
    "    dict_freqs = {\"positive\": {}, \"negative\": {}}\n",
    "    \n",
    "    for idx in range(df.shape[0]):\n",
    "        tokens = df_train.iloc[idx][\"text\"]\n",
    "        sentiment = df_train.iloc[idx][\"sentiment\"]\n",
    "        \n",
    "        for token in tokens:\n",
    "            if token in VOCAB:\n",
    "                dict_freqs[sentiment][token] = dict_freqs[sentiment].get(token, 0) + 1\n",
    "            \n",
    "    return dict_freqs"
   ]
  },
  {
   "cell_type": "code",
   "execution_count": null,
   "metadata": {},
   "outputs": [],
   "source": [
    "frequency_table = get_frequencies_for_sentiment(df_train)\n",
    "frequency_table[\"positive\"][\"happy\"]"
   ]
  },
  {
   "cell_type": "code",
   "execution_count": null,
   "metadata": {},
   "outputs": [],
   "source": [
    "import numpy as np\n",
    "\n",
    "def extract_features(frequency_table, tokens):\n",
    "    positives = 0\n",
    "    negatives = 0\n",
    "\n",
    "    for t in tokens:\n",
    "        positives += frequency_table[\"positive\"].get(t, 0)\n",
    "        negatives += frequency_table[\"negative\"].get(t, 0)\n",
    "    \n",
    "    return pd.Series({\"positives\": positives, \"negatives\": negatives})"
   ]
  },
  {
   "cell_type": "code",
   "execution_count": null,
   "metadata": {},
   "outputs": [],
   "source": [
    "from sklearn.preprocessing import StandardScaler\n",
    "\n",
    "scaler = StandardScaler()\n",
    "\n",
    "X_train = df_train[\"text\"].apply(lambda tokens: extract_features(frequency_table, tokens))\n",
    "\n",
    "X_train = scaler.fit_transform(X_train)\n",
    "y_train = df_train[\"label\"].values"
   ]
  },
  {
   "cell_type": "code",
   "execution_count": null,
   "metadata": {},
   "outputs": [],
   "source": [
    "X_train.shape"
   ]
  },
  {
   "cell_type": "code",
   "execution_count": null,
   "metadata": {},
   "outputs": [],
   "source": [
    "df_val[\"text\"] = df_val[\"text\"].apply(preprocess)\n",
    "X_val = df_val[\"text\"].apply(lambda tokens: extract_features(frequency_table, tokens))\n",
    "X_val = scaler.transform(X_val)\n",
    "y_val = df_val[\"label\"].values"
   ]
  },
  {
   "cell_type": "markdown",
   "metadata": {},
   "source": [
    "## Create model and train / validate"
   ]
  },
  {
   "cell_type": "code",
   "execution_count": null,
   "metadata": {},
   "outputs": [],
   "source": [
    "# !pip install tensorflow"
   ]
  },
  {
   "cell_type": "code",
   "execution_count": null,
   "metadata": {},
   "outputs": [],
   "source": [
    "import tensorflow as tf\n",
    "\n",
    "model = tf.keras.Sequential([\n",
    "    tf.keras.layers.Input(shape=(2,)),\n",
    "    tf.keras.layers.Dense(64),\n",
    "    tf.keras.layers.Dense(32),\n",
    "    tf.keras.layers.Dense(1, activation='sigmoid')\n",
    "])\n",
    "\n",
    "# https://keras.io/api/optimizers/\n",
    "# https://keras.io/api/optimizers/adam/\n",
    "# https://keras.io/api/losses/\n",
    "# https://keras.io/api/losses/probabilistic_losses/#binarycrossentropy-class\n",
    "# https://keras.io/api/metrics/accuracy_metrics/\n",
    "# https://keras.io/api/metrics/\n",
    "model.compile(optimizer='adam',\n",
    "              loss=\"binary_crossentropy\",\n",
    "              metrics=['binary_accuracy'])\n",
    "              \n",
    "model.summary()"
   ]
  },
  {
   "cell_type": "code",
   "execution_count": null,
   "metadata": {},
   "outputs": [],
   "source": [
    "h = model.fit(X_train,\n",
    "              y_train,\n",
    "              validation_data=(X_val, y_val),\n",
    "              epochs=10)"
   ]
  },
  {
   "cell_type": "code",
   "execution_count": null,
   "metadata": {},
   "outputs": [],
   "source": [
    "import matplotlib.pyplot as plt\n",
    "\n",
    "plt.plot(h.history['loss'], label='(training data)',color='blue')\n",
    "plt.plot(h.history['val_loss'], label='(validation data)',color='green')\n",
    "plt.title('Neural Network training loss')\n",
    "plt.ylabel('value')\n",
    "plt.xlabel('No. epoch')\n",
    "plt.show()"
   ]
  },
  {
   "cell_type": "code",
   "execution_count": null,
   "metadata": {},
   "outputs": [],
   "source": [
    "import matplotlib.pyplot as plt\n",
    "\n",
    "plt.plot(h.history['binary_accuracy'], label='(training data)',color='blue')\n",
    "plt.plot(h.history['val_binary_accuracy'], label='(validation data)',color='green')\n",
    "plt.title('Neural Network training accuracy')\n",
    "plt.ylabel('value')\n",
    "plt.xlabel('No. epoch')\n",
    "plt.show()"
   ]
  },
  {
   "cell_type": "markdown",
   "metadata": {},
   "source": [
    "## Evaluate the trained model"
   ]
  },
  {
   "cell_type": "code",
   "execution_count": null,
   "metadata": {},
   "outputs": [],
   "source": [
    "df_test[\"text\"] = df_test[\"text\"].apply(preprocess)\n",
    "X_test = df_test[\"text\"].apply(lambda tokens: extract_features(frequency_table, tokens))\n",
    "X_test = scaler.transform(X_test)\n",
    "y_test = df_test[\"label\"].values"
   ]
  },
  {
   "cell_type": "code",
   "execution_count": null,
   "metadata": {},
   "outputs": [],
   "source": [
    "results = model.evaluate(X_test, y_test, batch_size=50)\n",
    "print(\"test loss, test acc:\", results)"
   ]
  },
  {
   "cell_type": "code",
   "execution_count": null,
   "metadata": {},
   "outputs": [],
   "source": [
    "df_test_raw = pd.read_json(\"../data/aclIMDB_test.json\", orient=\"records\")"
   ]
  },
  {
   "cell_type": "code",
   "execution_count": null,
   "metadata": {},
   "outputs": [],
   "source": [
    "predictions = np.round(model.predict(X_test[:5]),0)\n",
    "for i in range(len(predictions)):\n",
    "    print(df_test_raw[\"text\"].values[i][:100],\"...\")\n",
    "    print(\"Pred: \", predictions[i][0], \"Real: \", y_test[i])"
   ]
  }
 ],
 "metadata": {
  "kernelspec": {
   "display_name": "Python 3.10.4 ('KDP')",
   "language": "python",
   "name": "python3"
  },
  "language_info": {
   "codemirror_mode": {
    "name": "ipython",
    "version": 3
   },
   "file_extension": ".py",
   "mimetype": "text/x-python",
   "name": "python",
   "nbconvert_exporter": "python",
   "pygments_lexer": "ipython3",
   "version": "3.10.4"
  },
  "orig_nbformat": 2,
  "vscode": {
   "interpreter": {
    "hash": "052bdad6d6145d25c810b0f80d4c546f13dec5c1a0a276efb0116a77263e17e9"
   }
  }
 },
 "nbformat": 4,
 "nbformat_minor": 2
}
