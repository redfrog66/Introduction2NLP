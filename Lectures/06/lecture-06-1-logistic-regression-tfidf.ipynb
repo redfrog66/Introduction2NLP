{
 "cells": [
  {
   "cell_type": "markdown",
   "metadata": {},
   "source": [
    "# Logistic Regression - tfidf"
   ]
  },
  {
   "cell_type": "markdown",
   "metadata": {},
   "source": [
    "## Read the data"
   ]
  },
  {
   "cell_type": "code",
   "execution_count": null,
   "metadata": {},
   "outputs": [],
   "source": [
    "import pandas as pd\n",
    "\n",
    "df_train = pd.read_json(\"../data/aclIMDB_train.json\", orient='records')\n",
    "df_train.info()\n",
    "df_train.hist()"
   ]
  },
  {
   "cell_type": "code",
   "execution_count": null,
   "metadata": {},
   "outputs": [],
   "source": [
    "df_val = pd.read_json(\"../data/aclIMDB_val.json\", orient='records')\n",
    "df_val.info()\n",
    "df_val.hist()"
   ]
  },
  {
   "cell_type": "code",
   "execution_count": null,
   "metadata": {},
   "outputs": [],
   "source": [
    "df_test = pd.read_json(\"../data/aclIMDB_test.json\", orient='records')\n",
    "df_test.info()\n",
    "df_test.hist()"
   ]
  },
  {
   "cell_type": "code",
   "execution_count": null,
   "metadata": {},
   "outputs": [],
   "source": [
    "df_test[\"text\"] = [str(item).lower() for item in df_test[\"text\"].values]\n",
    "df_test.head(5)"
   ]
  },
  {
   "cell_type": "code",
   "execution_count": null,
   "metadata": {},
   "outputs": [],
   "source": [
    "df_val[\"text\"] = [str(item).lower() for item in df_val[\"text\"].values]\n",
    "df_val.head(5)"
   ]
  },
  {
   "cell_type": "code",
   "execution_count": null,
   "metadata": {},
   "outputs": [],
   "source": [
    "df_train[\"text\"] = [str(item).lower() for item in df_train[\"text\"].values]\n",
    "df_train.head(5)"
   ]
  },
  {
   "cell_type": "code",
   "execution_count": null,
   "metadata": {},
   "outputs": [],
   "source": [
    "import numpy as np\n",
    "from tqdm import tqdm\n",
    "from sklearn.metrics import accuracy_score\n",
    "from sklearn.linear_model import LogisticRegression\n",
    "from sklearn.feature_extraction.text import TfidfVectorizer\n",
    "\n",
    "results = { \"min_df\" : [], \"vec_size\" : [], \"Train accuracy\" : [], \"Validation accuracy\" : []}\n",
    "for min_df in tqdm([10, 25, 50, 100, 250, 500]):\n",
    "    vectorizer = TfidfVectorizer(min_df=min_df)\n",
    "    X_train = vectorizer.fit_transform(df_train[\"text\"].values)\n",
    "    y_train = np.array(df_train[\"label\"].values)\n",
    "    x_val = vectorizer.transform(df_val[\"text\"].values)\n",
    "    y_val = np.array(df_val[\"label\"].values)\n",
    "\n",
    "    clf = LogisticRegression(penalty=\"l2\", C=0.1)\n",
    "    clf.fit(X_train, y_train)\n",
    "\n",
    "    preds_train = clf.predict(X_train)\n",
    "    preds_val = clf.predict(x_val)\n",
    "\n",
    "    results[\"min_df\"].append(min_df)\n",
    "    results[\"vec_size\"].append(X_train.shape[1])\n",
    "    results[\"Train accuracy\"].append(accuracy_score(y_train, preds_train))\n",
    "    results[\"Validation accuracy\"].append(accuracy_score(y_val, preds_val))\n",
    "\n",
    "results = pd.DataFrame(results)\n",
    "results\n"
   ]
  },
  {
   "cell_type": "code",
   "execution_count": null,
   "metadata": {},
   "outputs": [],
   "source": [
    "best_min_df = results[\"min_df\"].values[np.argmax(results[\"Validation accuracy\"].values, axis=0)]\n",
    "best_min_df"
   ]
  },
  {
   "cell_type": "code",
   "execution_count": null,
   "metadata": {},
   "outputs": [],
   "source": [
    "vectorizer = TfidfVectorizer(min_df=best_min_df)\n",
    "df_train_val = pd.concat([df_train, df_val]).sample(frac=1)\n",
    "X_train_val = vectorizer.fit_transform(df_train_val[\"text\"].values)\n",
    "y_train_val = np.array(df_train_val[\"label\"].values)\n",
    "X_test = vectorizer.transform(df_test[\"text\"].values)\n",
    "y_test = np.array(df_test[\"label\"].values)\n",
    "\n",
    "clf = LogisticRegression(penalty=\"l2\", C=0.1)\n",
    "clf.fit(X_train_val, y_train_val)\n",
    "\n",
    "print(y_test[:10])\n",
    "print(clf.predict(X_test[:10]))\n",
    "clf.score(X_test, y_test)"
   ]
  }
 ],
 "metadata": {
  "kernelspec": {
   "display_name": "Python 3.10.4 ('KDP')",
   "language": "python",
   "name": "python3"
  },
  "language_info": {
   "codemirror_mode": {
    "name": "ipython",
    "version": 3
   },
   "file_extension": ".py",
   "mimetype": "text/x-python",
   "name": "python",
   "nbconvert_exporter": "python",
   "pygments_lexer": "ipython3",
   "version": "3.10.4"
  },
  "orig_nbformat": 2,
  "vscode": {
   "interpreter": {
    "hash": "052bdad6d6145d25c810b0f80d4c546f13dec5c1a0a276efb0116a77263e17e9"
   }
  }
 },
 "nbformat": 4,
 "nbformat_minor": 2
}
