{
 "cells": [
  {
   "cell_type": "code",
   "execution_count": null,
   "metadata": {},
   "outputs": [],
   "source": [
    "import pandas as pd\n",
    "\n",
    "df_train = pd.read_json(\"../data/aclIMDB_train.json\", orient='records')\n",
    "df_train.info()\n",
    "df_train.hist()\n",
    "df_train.head()"
   ]
  },
  {
   "cell_type": "code",
   "execution_count": null,
   "metadata": {},
   "outputs": [],
   "source": [
    "df_val = pd.read_json(\"../data/aclIMDB_val.json\", orient=\"records\")\n",
    "df_val.info()\n",
    "df_val.hist()\n",
    "df_val.head()"
   ]
  },
  {
   "cell_type": "code",
   "execution_count": null,
   "metadata": {},
   "outputs": [],
   "source": [
    "df_test = pd.read_json(\"../data/aclIMDB_test.json\", orient='records')\n",
    "df_test.info()\n",
    "df_test.hist()\n",
    "df_test.head()"
   ]
  },
  {
   "cell_type": "code",
   "execution_count": null,
   "metadata": {},
   "outputs": [],
   "source": [
    "train = [str(item).lower() for item in  df_train[\"text\"].values]\n",
    "val = [str(item).lower() for item in  df_val[\"text\"].values]\n",
    "test = [str(item).lower() for item in  df_test[\"text\"].values]"
   ]
  },
  {
   "cell_type": "code",
   "execution_count": null,
   "metadata": {},
   "outputs": [],
   "source": [
    "import tensorflow as tf\n",
    "\n",
    "VOCAB_SIZE = 10000\n",
    "\n",
    "tokenizer = tf.keras.preprocessing.text.Tokenizer(num_words=VOCAB_SIZE, oov_token=\"UNK\")\n",
    "tokenizer.fit_on_texts(train)\n",
    "\n",
    "X_train_wordlevel = tokenizer.texts_to_sequences(train)\n",
    "X_val_wordlevel = tokenizer.texts_to_sequences(val)\n",
    "X_test_wordlevel = tokenizer.texts_to_sequences(test)\n",
    "\n",
    "word_index = tokenizer.word_index\n",
    "print('Found %s unique tokens.' % len(word_index))"
   ]
  },
  {
   "cell_type": "code",
   "execution_count": null,
   "metadata": {},
   "outputs": [],
   "source": [
    "print(X_train_wordlevel[0][:10])"
   ]
  },
  {
   "cell_type": "code",
   "execution_count": null,
   "metadata": {},
   "outputs": [],
   "source": [
    "import numpy as np\n",
    "from tokenizers import BertWordPieceTokenizer\n",
    "\n",
    "tokenizer = BertWordPieceTokenizer(\"../data/bert-base-uncased-vocab.txt\", lowercase=True)\n",
    "\n",
    "def bert_tokenizer(data):\n",
    "    result = []\n",
    "    for item in data:\n",
    "        result.append(tokenizer.encode(item).ids)\n",
    "    \n",
    "    return np.array(result)"
   ]
  },
  {
   "cell_type": "code",
   "execution_count": null,
   "metadata": {},
   "outputs": [],
   "source": [
    "X_train_bert = bert_tokenizer(train)\n",
    "X_val_bert = bert_tokenizer(val)\n",
    "X_test_bert = bert_tokenizer(test)"
   ]
  },
  {
   "cell_type": "code",
   "execution_count": null,
   "metadata": {},
   "outputs": [],
   "source": [
    "print(X_train_bert[0][:10])"
   ]
  },
  {
   "cell_type": "code",
   "execution_count": null,
   "metadata": {},
   "outputs": [],
   "source": [
    "maxlen = 128\n",
    "\n",
    "X_train_bert = tf.keras.preprocessing.sequence.pad_sequences(X_train_bert, maxlen=maxlen)\n",
    "X_val_bert = tf.keras.preprocessing.sequence.pad_sequences(X_val_bert, maxlen=maxlen)\n",
    "X_test_bert = tf.keras.preprocessing.sequence.pad_sequences(X_test_bert, maxlen=maxlen)\n",
    "\n",
    "X_train_wordlevel = tf.keras.preprocessing.sequence.pad_sequences(X_train_wordlevel, maxlen=maxlen)\n",
    "X_val_wordlevel = tf.keras.preprocessing.sequence.pad_sequences(X_val_wordlevel, maxlen=maxlen)\n",
    "X_test_wordlevel = tf.keras.preprocessing.sequence.pad_sequences(X_test_wordlevel, maxlen=maxlen)\n",
    "\n",
    "y_train = np.array(df_train[\"label\"].values)\n",
    "y_val = np.array(df_val[\"label\"].values)\n",
    "y_test = np.array(df_test[\"label\"].values)"
   ]
  },
  {
   "cell_type": "code",
   "execution_count": null,
   "metadata": {},
   "outputs": [],
   "source": [
    "import tensorflow as tf\n",
    "\n",
    "model_wordlevel = tf.keras.Sequential([\n",
    "    tf.keras.layers.Embedding(len(word_index)+1, 8, input_length=maxlen),\n",
    "    tf.keras.layers.Flatten(),\n",
    "    tf.keras.layers.Dense(units=64),\n",
    "    tf.keras.layers.Dense(units=1, activation='sigmoid')\n",
    "]) \n",
    "\n",
    "model_wordlevel.compile(optimizer='adam',\n",
    "                   loss=\"binary_crossentropy\",\n",
    "                   metrics=['binary_accuracy'])\n",
    "\n",
    "model_wordlevel.summary()"
   ]
  },
  {
   "cell_type": "code",
   "execution_count": null,
   "metadata": {},
   "outputs": [],
   "source": [
    "with tf.device('/CPU:0'):\n",
    "    h_wordlevel = model_wordlevel.fit(X_train_wordlevel,\n",
    "                                    y_train,\n",
    "                                    epochs=5,\n",
    "                                    batch_size=32,\n",
    "                                    validation_data=(X_val_wordlevel, y_val))"
   ]
  },
  {
   "cell_type": "code",
   "execution_count": null,
   "metadata": {},
   "outputs": [],
   "source": [
    "import matplotlib.pyplot as plt\n",
    "\n",
    "plt.plot(h_wordlevel.history['loss'], label='(training data)',color='blue')\n",
    "plt.plot(h_wordlevel.history['val_loss'], label='(val data)',color='green')\n",
    "plt.title('Neural Network training loss')\n",
    "plt.ylabel('value')\n",
    "plt.xlabel('No. epoch')\n",
    "plt.show()"
   ]
  },
  {
   "cell_type": "code",
   "execution_count": null,
   "metadata": {},
   "outputs": [],
   "source": [
    "import matplotlib.pyplot as plt\n",
    "\n",
    "plt.plot(h_wordlevel.history['binary_accuracy'], label='(training data)',color='blue')\n",
    "plt.plot(h_wordlevel.history['val_binary_accuracy'], label='(val data)',color='green')\n",
    "plt.title('Neural Network training accuracy')\n",
    "plt.ylabel('value')\n",
    "plt.xlabel('No. epoch')\n",
    "plt.show()"
   ]
  },
  {
   "cell_type": "code",
   "execution_count": null,
   "metadata": {},
   "outputs": [],
   "source": [
    "import tensorflow as tf\n",
    "\n",
    "max_features = 30523  # vocab size\n",
    "\n",
    "model_bert = tf.keras.Sequential([\n",
    "    tf.keras.layers.Embedding(max_features, 8, input_length=maxlen),\n",
    "    tf.keras.layers.Flatten(),\n",
    "    tf.keras.layers.Dense(units=1, activation='sigmoid')\n",
    "]) \n",
    "\n",
    "model_bert.compile(optimizer='adam',\n",
    "                   loss=\"binary_crossentropy\",\n",
    "                   metrics=['binary_accuracy'])\n",
    "\n",
    "model_bert.summary()"
   ]
  },
  {
   "cell_type": "code",
   "execution_count": null,
   "metadata": {},
   "outputs": [],
   "source": [
    "with tf.device('/CPU:0'):\n",
    "    h_bert = model_bert.fit(X_train_bert, \n",
    "                            y_train,\n",
    "                            epochs=5,\n",
    "                            batch_size=32,\n",
    "                            validation_data=(X_val_bert, y_val))"
   ]
  },
  {
   "cell_type": "code",
   "execution_count": null,
   "metadata": {},
   "outputs": [],
   "source": [
    "import matplotlib.pyplot as plt\n",
    "\n",
    "plt.plot(h_bert.history['loss'], label='(training data)',color='blue')\n",
    "plt.plot(h_bert.history['val_loss'], label='(val data)',color='green')\n",
    "plt.title('Neural Network training loss')\n",
    "plt.ylabel('value')\n",
    "plt.xlabel('No. epoch')\n",
    "plt.show()"
   ]
  },
  {
   "cell_type": "code",
   "execution_count": null,
   "metadata": {},
   "outputs": [],
   "source": [
    "import matplotlib.pyplot as plt\n",
    "\n",
    "plt.plot(h_bert.history['binary_accuracy'], label='(training data)',color='blue')\n",
    "plt.plot(h_bert.history['val_binary_accuracy'], label='(val data)',color='green')\n",
    "plt.title('Neural Network training accuracy')\n",
    "plt.ylabel('value')\n",
    "plt.xlabel('No. epoch')\n",
    "plt.show()"
   ]
  },
  {
   "cell_type": "code",
   "execution_count": null,
   "metadata": {},
   "outputs": [],
   "source": [
    "with tf.device('/CPU:0'):\n",
    "    results = model_wordlevel.evaluate(X_test_wordlevel, y_test, batch_size=32)\n",
    "    print(\"test loss, test acc:\", results)"
   ]
  },
  {
   "cell_type": "code",
   "execution_count": null,
   "metadata": {},
   "outputs": [],
   "source": [
    "with tf.device('/CPU:0'):\n",
    "    results = model_bert.evaluate(X_test_bert, y_test, batch_size=32)\n",
    "    print(\"test loss, test acc:\", results)"
   ]
  }
 ],
 "metadata": {
  "kernelspec": {
   "display_name": "Python 3.10.4 ('KDP')",
   "language": "python",
   "name": "python3"
  },
  "language_info": {
   "codemirror_mode": {
    "name": "ipython",
    "version": 3
   },
   "file_extension": ".py",
   "mimetype": "text/x-python",
   "name": "python",
   "nbconvert_exporter": "python",
   "pygments_lexer": "ipython3",
   "version": "3.10.4"
  },
  "orig_nbformat": 2,
  "vscode": {
   "interpreter": {
    "hash": "052bdad6d6145d25c810b0f80d4c546f13dec5c1a0a276efb0116a77263e17e9"
   }
  }
 },
 "nbformat": 4,
 "nbformat_minor": 2
}
